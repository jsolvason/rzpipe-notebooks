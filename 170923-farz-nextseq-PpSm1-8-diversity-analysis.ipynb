{
 "cells": [
  {
   "cell_type": "markdown",
   "metadata": {},
   "source": [
    "# Bioinformatic Screen of Ribozymes"
   ]
  },
  {
   "cell_type": "markdown",
   "metadata": {},
   "source": [
    "<span style=\"color:red\"> Last edited when?!\n",
    "#### 170924"
   ]
  },
  {
   "cell_type": "code",
   "execution_count": 1,
   "metadata": {
    "collapsed": true
   },
   "outputs": [],
   "source": [
    "# Import Modules\n",
    "\n",
    "import pandas as pd\n",
    "import pickle\n",
    "import numpy as np"
   ]
  },
  {
   "cell_type": "code",
   "execution_count": 2,
   "metadata": {
    "collapsed": true
   },
   "outputs": [],
   "source": [
    "sub_library_allSwitches_output_fname = 'all-test.df'\n",
    "sub_library_onSwitches_output_fname = 'on-test.df'\n",
    "sub_library_offSwitches_output_fname = 'off-test.df'"
   ]
  },
  {
   "cell_type": "code",
   "execution_count": 3,
   "metadata": {
    "collapsed": true
   },
   "outputs": [],
   "source": [
    "def namevar(obj, namespace=globals()):\n",
    "    '''\n",
    "    INPUT:\n",
    "        an object\n",
    "    OUPUT:\n",
    "        name of the object\n",
    "    '''\n",
    "    return [name for name in namespace if namespace[name] is obj]\n",
    "\n",
    "def printDF(DF,n=5):\n",
    "    '''\n",
    "    DEPENDENCIES:\n",
    "        requires namevar\n",
    "    INPUT:\n",
    "        DF\n",
    "    \n",
    "    OUPTUT:\n",
    "        Prints with plenty of newlines and the title of the dataframe\n",
    "    '''\n",
    "    print('\\n\\n\\n\\n\\n',namevar(DF),'\\n\\n',DF.head(n),'\\n\\n\\n\\n')"
   ]
  },
  {
   "cell_type": "code",
   "execution_count": 4,
   "metadata": {
    "collapsed": true
   },
   "outputs": [],
   "source": [
    "def decimal_to_negative_fold(df, col):\n",
    "    '''\n",
    "    INPUT: \n",
    "      df  = data frame to operate on \n",
    "      col = column to operate on\n",
    "      \n",
    "    OUTPUT:\n",
    "      all values in df[col] that are 0<value<1 will be changed to 1/value, representing the fold change\n",
    "    '''\n",
    "    df.loc[df[col]<1,col] = -1/ df.loc[df[col]< 1,col]\n",
    "     "
   ]
  },
  {
   "cell_type": "code",
   "execution_count": 5,
   "metadata": {
    "collapsed": true
   },
   "outputs": [],
   "source": [
    "def cbind(colSourceDF, colDestinationDF, indexCol, cbindCol, debug=False):\n",
    "    \"\"\"\n",
    "    INPUT: \n",
    "        colSourceDF - DF with column to be added to outputDF\n",
    "        colDestinationDF - DF that the column will be added to\n",
    "        indexCol - column in both colDestinationDF and colSourceDF that is used as index\n",
    "        cbindCol - column to be bound\n",
    "                 - if cbindCol = bind_all, the entire data frame will be concatenated\n",
    "    OUTPUT:\n",
    "        colDestinationDF is returned with columns bound and index reset\n",
    "    \"\"\"\n",
    "    # Set indices of both columns\n",
    "    colSourceDF      = colSourceDF     .set_index(indexCol)\n",
    "    colDestinationDF = colDestinationDF.set_index(indexCol)\n",
    "    \n",
    "    # debug\n",
    "    if debug == True:\n",
    "        printDF(colSourceDF     , 'colSourceDF')\n",
    "        printDF(colDestinationDF, 'colDestDF  ')\n",
    "    \n",
    "    # cbind\n",
    "    if cbindCol == 'bind_all':\n",
    "        colDestinationDF = pd.concat([colSourceDF, colDestinationDF], axis=1)\n",
    "        \n",
    "    else:\n",
    "        colDestinationDF = pd.concat([colSourceDF[cbindCol], colDestinationDF], axis=1)\n",
    "    \n",
    "    # reset index to index col name\n",
    "    colDestinationDF.index.name = indexCol\n",
    "    # debug\n",
    "    if debug == True:\n",
    "        printDF(colSourceDF     , 'colSourceDF')\n",
    "        printDF(colDestinationDF, 'colDestDF  ')\n",
    "    \n",
    "    colSourceDF      = colSourceDF     .reset_index()\n",
    "    colDestinationDF = colDestinationDF.reset_index()\n",
    "\n",
    "    # debug\n",
    "    if debug == True:\n",
    "        printDF(colSourceDF     , 'colSourceDF')\n",
    "        printDF(colDestinationDF, 'colDestDF  ')\n",
    "    \n",
    "    return(colDestinationDF)"
   ]
  },
  {
   "cell_type": "markdown",
   "metadata": {},
   "source": [
    "# Analyze with UMIs "
   ]
  },
  {
   "cell_type": "markdown",
   "metadata": {},
   "source": [
    "<span style=\"color:blue\">• Specify file names</span>"
   ]
  },
  {
   "cell_type": "code",
   "execution_count": 6,
   "metadata": {
    "collapsed": true
   },
   "outputs": [],
   "source": [
    "aptamer = '811'\n",
    "\n",
    "# === DEFINE FILE NAMES === #\n",
    "\n",
    "# Define sub directory\n",
    "inputHome = './input-files/'+aptamer+'/umi-files/'\n",
    "\n",
    "# 8 bins P+S- fnames\n",
    "bin1_neg = inputHome+\"811-PpSm1.tsv\"\n",
    "bin2_neg = inputHome+\"811-PpSm2.tsv\"\n",
    "bin3_neg = inputHome+\"811-PpSm3.tsv\"\n",
    "bin4_neg = inputHome+\"811-PpSm4.tsv\"\n",
    "bin5_neg = inputHome+\"811-PpSm5.tsv\"\n",
    "bin6_neg = inputHome+\"811-PpSm6.tsv\"\n",
    "bin7_neg = inputHome+\"811-PpSm7.tsv\"\n",
    "bin8_neg = inputHome+\"811-PpSm8.tsv\" \n",
    "\n",
    "# 8 bins P+S+ fnames\n",
    "bin1_pos = inputHome+\"811-PpSp1.tsv\"\n",
    "bin2_pos = inputHome+\"811-PpSp2.tsv\"\n",
    "bin3_pos = inputHome+\"811-PpSp3.tsv\"\n",
    "bin4_pos = inputHome+\"811-PpSp4.tsv\"\n",
    "bin5_pos = inputHome+\"811-PpSp5.tsv\"\n",
    "bin6_pos = inputHome+\"811-PpSp6.tsv\"\n",
    "bin7_pos = inputHome+\"811-PpSp7.tsv\"\n",
    "bin8_pos = inputHome+\"811-PpSp8.tsv\"\n",
    "\n",
    "# Post-transduction analysis fname\n",
    "pretransductionFname = inputHome+'170818-Fat-811-diversity-statistics.tsv'\n",
    "\n",
    "# Library fnames\n",
    "referenceHome    = \"./reference-libraries-fasta/\"\n",
    "twist_library    = referenceHome+\"famin811-stem_apt.fasta\"\n",
    "unmapped_library = referenceHome+\"\"\n",
    "\n",
    "\n"
   ]
  },
  {
   "cell_type": "markdown",
   "metadata": {},
   "source": [
    "<span style=\"color:blue\">• Read in .fasta bowtie2 reference file as DF so you know all sequences that are possible\n",
    "\n"
   ]
  },
  {
   "cell_type": "code",
   "execution_count": 8,
   "metadata": {},
   "outputs": [],
   "source": [
    "# === READ IN COMPLETE LIBRARY === #\n",
    "\n",
    "# Define a funciton to create data frame by reading library.fasta files without headers\n",
    "import itertools\n",
    "def read_tsv(fname):\n",
    "    '''returns empty dataframe with indicies = sequences. Done by reading every second file in the .fasta file'''\n",
    "    # Read .fasta file\n",
    "    with open(fname, 'r') as fileH: \n",
    "        sequences = set() # non-redundant repository of sequences observed # Sets are faster\n",
    "        for seq_description,seq_sequence in itertools.zip_longest(*[fileH]*2):\n",
    "            sequences.add(seq_description[1:-1])\n",
    "    DF = pd.DataFrame({'RNAME':list(sequences)})\n",
    "    DF = DF.groupby(['RNAME']).sum() # Make sequences the indexs\n",
    "    return (DF)\n",
    "\n",
    "# Create library dataframes by reading the library.fasta files\n",
    "twistLibDF    = read_tsv(twist_library)\n",
    "# unmappedLibDF = read_tsv(unmapped_library)\n",
    "\n",
    "# Concatenate TWIST library and recycled library\n",
    "#libraryDF = pd.concat([twistLibDF, unmappedLibDF])\n",
    "libraryDF = twistLibDF\n",
    "libraryDF.index.names = ['RNAME']"
   ]
  },
  {
   "cell_type": "markdown",
   "metadata": {},
   "source": [
    "<span style=\"color:blue\">• Create a DF for every bin, lable with bin # and condition (FAR+ or FAR-)\n",
    "\n",
    "<span style=\"color:blue\">• Determine the sample size for each library member"
   ]
  },
  {
   "cell_type": "code",
   "execution_count": 9,
   "metadata": {
    "collapsed": true,
    "scrolled": false
   },
   "outputs": [],
   "source": [
    "# Define a function that strips information from binx.sam files\n",
    "def stripBin_umi(bin_file, bin_number, condition):\n",
    "    ''' \n",
    "    INPUT: \n",
    "        1. bin_file - grouped.umi.tsv file \n",
    "        2. bin_number - what bin this file hails from\n",
    "        3. what selection condition the bin was under\n",
    "        \n",
    "    OUTPUT: (see print statements below to gauge format of DFs)\n",
    "        1. binDF - a DF formatted for easily understanding the mean/median bin\n",
    "        2. binDF - a DF formatted for easily extrapolationg sample size for each library member\n",
    "        3. bin_umiDF - a DF formatted for easy extraction of umi analysis for determining true coverage\n",
    "    '''\n",
    "    # Read in file\n",
    "    binDF = pd.read_csv(bin_file, usecols=[1,5],header=0, delimiter='\\t')\n",
    "    binDF.columns = ['RNAME','FINAL_UMI']\n",
    "    binDF['UMI_COVERAGE'] = 1\n",
    "    \n",
    "    #  group by RNAME and FINAL_UMI\n",
    "    binDF = binDF.groupby(['RNAME','FINAL_UMI']).sum().reset_index()\n",
    "\n",
    "    # instantiate coverage DF\n",
    "    coverageDF     = binDF.fillna(np.NaN) # avoid a situation where changing 1 DF will change the other \n",
    "    coverageDF['UMI_COVERAGE'] = 1\n",
    "\n",
    "    # determine true coverage\n",
    "    coverageDF = coverageDF.groupby(['RNAME']).sum()\n",
    "    coverageDF = coverageDF.rename(columns={'UMI_COVERAGE':'LIBRARY_MEMBER_UMI_COVERAGE_'+condition})\n",
    "    \n",
    "    \n",
    "    # Ascribe bin number, Calculate GC content\n",
    "    coverageDF['BIN'] = 1\n",
    "    coverageDF = coverageDF.reset_index()\n",
    "    \n",
    "    binDF['BIN']  = bin_number\n",
    "    binDF['GC_CONTENT']    = binDF['FINAL_UMI'].apply(lambda FINAL_UMI: (FINAL_UMI.count('G') + FINAL_UMI.count('C'))/10)\n",
    "    \n",
    "    # test print\n",
    "#     printDF(binDF,15)\n",
    "#     printDF(coverageDF,15)\n",
    "\n",
    "    return(binDF, coverageDF)\n",
    "\n",
    "# Test\n",
    "# bin1_posDF, bin1_pos_coverageDF = stripBin_umi(bin1_pos,bin_number=1, condition='POS')"
   ]
  },
  {
   "cell_type": "code",
   "execution_count": 52,
   "metadata": {},
   "outputs": [],
   "source": [
    "# Load binX.sam files\n",
    "# bin1_posDF, bin1_pos_coverageDF = stripBin_umi(bin1_pos,bin_number=1, condition='POS')\n",
    "# bin2_posDF, bin2_pos_coverageDF = stripBin_umi(bin2_pos,bin_number=2, condition='POS')\n",
    "# bin3_posDF, bin3_pos_coverageDF = stripBin_umi(bin3_pos,bin_number=3, condition='POS')\n",
    "# bin4_posDF, bin4_pos_coverageDF = stripBin_umi(bin4_pos,bin_number=4, condition='POS')\n",
    "# bin5_posDF, bin5_pos_coverageDF = stripBin_umi(bin5_pos,bin_number=5, condition='POS')\n",
    "# bin6_posDF, bin6_pos_coverageDF = stripBin_umi(bin6_pos,bin_number=6, condition='POS')\n",
    "# bin7_posDF, bin7_pos_coverageDF = stripBin_umi(bin7_pos,bin_number=7, condition='POS')\n",
    "# bin8_posDF, bin8_pos_coverageDF = stripBin_umi(bin8_pos,bin_number=8, condition='POS')\n",
    "\n",
    "bin1_negDF, bin1_neg_coverageDF = stripBin_umi(bin1_neg,bin_number=1, condition='NEG')\n",
    "bin2_negDF, bin2_neg_coverageDF = stripBin_umi(bin2_neg,bin_number=2, condition='NEG')\n",
    "bin3_negDF, bin3_neg_coverageDF = stripBin_umi(bin3_neg,bin_number=3, condition='NEG')\n",
    "bin4_negDF, bin4_neg_coverageDF = stripBin_umi(bin4_neg,bin_number=4, condition='NEG')\n",
    "bin5_negDF, bin5_neg_coverageDF = stripBin_umi(bin5_neg,bin_number=5, condition='NEG')\n",
    "bin6_negDF, bin6_neg_coverageDF = stripBin_umi(bin6_neg,bin_number=6, condition='NEG')\n",
    "bin7_negDF, bin7_neg_coverageDF = stripBin_umi(bin7_neg,bin_number=7, condition='NEG')\n",
    "bin8_negDF, bin8_neg_coverageDF = stripBin_umi(bin8_neg,bin_number=8, condition='NEG')"
   ]
  },
  {
   "cell_type": "code",
   "execution_count": 53,
   "metadata": {
    "scrolled": false
   },
   "outputs": [
    {
     "name": "stdout",
     "output_type": "stream",
     "text": [
      "\n",
      "\n",
      "\n",
      "\n",
      "\n",
      " ['twistLibDF', 'libraryDF'] \n",
      "\n",
      " Empty DataFrame\n",
      "Columns: []\n",
      "Index: [AAAAA...TTTTT, AAAAC...GTTTT, AAAAG...CTTTT, AAAAG...TTTTT, AAAAT...ATTTT] \n",
      "\n",
      "\n",
      "\n",
      "\n",
      "\n",
      "\n",
      "\n",
      "\n",
      "\n",
      " ['bin1_negDF'] \n",
      "\n",
      " Empty DataFrame\n",
      "Columns: [RNAME, FINAL_UMI, UMI_COVERAGE, BIN, GC_CONTENT]\n",
      "Index: [] \n",
      "\n",
      "\n",
      "\n",
      "\n",
      "\n",
      "\n",
      "\n",
      "\n",
      "\n",
      " ['bin1_neg_coverageDF'] \n",
      "\n",
      " Empty DataFrame\n",
      "Columns: [RNAME, FINAL_UMI, LIBRARY_MEMBER_UMI_COVERAGE_NEG, BIN]\n",
      "Index: [] \n",
      "\n",
      "\n",
      "\n",
      "\n"
     ]
    }
   ],
   "source": [
    "printDF(libraryDF)\n",
    "printDF(bin1_negDF)\n",
    "printDF(bin1_neg_coverageDF)"
   ]
  },
  {
   "cell_type": "code",
   "execution_count": null,
   "metadata": {
    "collapsed": true
   },
   "outputs": [],
   "source": []
  },
  {
   "cell_type": "markdown",
   "metadata": {},
   "source": [
    "<span style=\"color:blue\">• Concatenate bin DF rows into a single DF for pos and for neg\n",
    "\n",
    "<span style=\"color:blue\">• Calculate bin mean and median for pos and neg"
   ]
  },
  {
   "cell_type": "code",
   "execution_count": 20,
   "metadata": {},
   "outputs": [],
   "source": [
    "# Concatenate bins\n",
    "#binspreadDFpos = pd.concat(   [   \\\n",
    "#                bin1_posDF,\\\n",
    "#                bin2_posDF,\\\n",
    "#                bin3_posDF,\\\n",
    "#                bin4_posDF,\\\n",
    "#                bin5_posDF,\\\n",
    "#                bin6_posDF,\\\n",
    "#                bin7_posDF,\\\n",
    "#                bin8_posDF ], ignore_index=True    )\n",
    "binspreadDFpos = pd.DataFrame()\n",
    "\n",
    "\n",
    "\n",
    "binspreadDFneg = pd.concat(   [   \\\n",
    "                bin1_negDF,\\\n",
    "                bin2_negDF,\\\n",
    "                bin3_negDF,\\\n",
    "                bin4_negDF,\\\n",
    "                bin5_negDF,\\\n",
    "                bin6_negDF,\\\n",
    "                bin7_negDF,\\\n",
    "                bin8_negDF   ], ignore_index=True   )\n",
    "\n",
    "#coverageDFpos = pd.concat([\\\n",
    "#    bin1_pos_coverageDF,\\\n",
    "#    bin2_pos_coverageDF,\\\n",
    "#    bin3_pos_coverageDF,\\\n",
    "#    bin4_pos_coverageDF,\\\n",
    "#    bin5_pos_coverageDF,\\\n",
    "#    bin6_pos_coverageDF,\\\n",
    "#    bin7_pos_coverageDF,\\\n",
    "#    bin8_pos_coverageDF ])\n",
    "covrageDFpos = pd.DataFrame()\n",
    "\n",
    "coverageDFneg = pd.concat([\\\n",
    "    bin1_neg_coverageDF,\\\n",
    "    bin2_neg_coverageDF,\\\n",
    "    bin3_neg_coverageDF,\\\n",
    "    bin4_neg_coverageDF,\\\n",
    "    bin5_neg_coverageDF,\\\n",
    "    bin6_neg_coverageDF,\\\n",
    "    bin7_neg_coverageDF,\\\n",
    "    bin8_neg_coverageDF ])"
   ]
  },
  {
   "cell_type": "code",
   "execution_count": null,
   "metadata": {
    "collapsed": true
   },
   "outputs": [],
   "source": []
  },
  {
   "cell_type": "code",
   "execution_count": 21,
   "metadata": {
    "collapsed": true
   },
   "outputs": [],
   "source": [
    "# printDF(binspreadDFpos)\n",
    "# printDF(binspreadDFneg)\n",
    "# printDF(coverageDFpos)\n",
    "# printDF(coverageDFneg)"
   ]
  },
  {
   "cell_type": "code",
   "execution_count": 24,
   "metadata": {},
   "outputs": [],
   "source": [
    "# Calculate bin mean and median for pos\n",
    "#statsDFpos = binspreadDFpos.loc[:,['RNAME','BIN']].groupby('RNAME',as_index=False).mean() #instantiate DF\n",
    "#statsDFpos.columns = ['RNAME','BIN_MEAN_POS'] # Change name of column\n",
    "#statsDFpos['BIN_MEDIAN_POS'] = binspreadDFpos.loc[:,['RNAME','BIN']].groupby('RNAME',as_index=False).median()['BIN'] # add new column with new transform\n",
    "\n",
    "\n",
    "# Calculate bin mean and median for neg\n",
    "statsDFneg = binspreadDFneg.loc[:,['RNAME','BIN']].groupby('RNAME',as_index=False).mean()\n",
    "statsDFneg.columns = ['RNAME','BIN_MEAN_NEG']\n",
    "statsDFneg['BIN_MEDIAN_NEG'] = binspreadDFneg.loc[:,['RNAME','BIN']].groupby('RNAME',as_index=False).median()['BIN']\n"
   ]
  },
  {
   "cell_type": "code",
   "execution_count": null,
   "metadata": {
    "collapsed": true
   },
   "outputs": [],
   "source": [
    "# printDF(statsDFpos)\n",
    "# printDF(statsDFneg)"
   ]
  },
  {
   "cell_type": "code",
   "execution_count": 25,
   "metadata": {
    "collapsed": true
   },
   "outputs": [],
   "source": [
    "# Sum counts for sample size DFs\n",
    "#coverageDFpos = coverageDFpos.loc[:,['RNAME','LIBRARY_MEMBER_UMI_COVERAGE_POS']].groupby('RNAME', as_index=False).sum()\n",
    "coverageDFneg = coverageDFneg.loc[:,['RNAME','LIBRARY_MEMBER_UMI_COVERAGE_NEG']].groupby('RNAME', as_index=False).sum()"
   ]
  },
  {
   "cell_type": "code",
   "execution_count": null,
   "metadata": {
    "collapsed": true
   },
   "outputs": [],
   "source": [
    "# printDF(coverageDFpos)\n",
    "# printDF(coverageDFneg)"
   ]
  },
  {
   "cell_type": "code",
   "execution_count": 28,
   "metadata": {},
   "outputs": [],
   "source": [
    "# coverageDF = pd.concat([coverageDFpos, coverageDFneg], axis=0)\n",
    "coverageDF = pd.concat([ coverageDFneg], axis=0)\n",
    "coverageDF = coverageDF.groupby('RNAME',as_index=False).sum()"
   ]
  },
  {
   "cell_type": "code",
   "execution_count": 29,
   "metadata": {
    "collapsed": true
   },
   "outputs": [],
   "source": [
    "# printDF(coverageDF)"
   ]
  },
  {
   "cell_type": "code",
   "execution_count": 30,
   "metadata": {
    "collapsed": true
   },
   "outputs": [],
   "source": [
    "# print(len(statsDFpos[statsDFpos['RNAME']=='TGAGA...TCTCA']))\n",
    "# print(len(statsDFneg[statsDFneg['RNAME']=='TGAGA...TCTCA']))\n",
    "\n",
    "# print(len(statsDFpos['TGAGA...TCTCA']))\n",
    "# print(len(statsDFneg['TGAGA...TCTCA']))"
   ]
  },
  {
   "cell_type": "markdown",
   "metadata": {},
   "source": [
    "<span style=\"color:blue\">• Combine statsDFpos and statsDFneg"
   ]
  },
  {
   "cell_type": "code",
   "execution_count": 33,
   "metadata": {},
   "outputs": [],
   "source": [
    "#statsDF = cbind(colSourceDF = statsDFpos,\\\n",
    "#                colDestinationDF = statsDFneg,\\\n",
    "#                indexCol = 'RNAME',\\\n",
    "#                cbindCol = 'bind_all')\n",
    "\n",
    "statsDF = statsDFneg"
   ]
  },
  {
   "cell_type": "code",
   "execution_count": null,
   "metadata": {
    "collapsed": true,
    "scrolled": false
   },
   "outputs": [],
   "source": [
    "# printDF(statsDF)\n",
    "# printDF(coverageDF)"
   ]
  },
  {
   "cell_type": "code",
   "execution_count": 35,
   "metadata": {},
   "outputs": [],
   "source": [
    "#statsDF = cbind(colSourceDF      = coverageDF,\\\n",
    "#                colDestinationDF = statsDF,\\\n",
    "#                indexCol         = 'RNAME',\\\n",
    "#                cbindCol         = 'LIBRARY_MEMBER_UMI_COVERAGE_POS')\n",
    "\n",
    "statsDF = cbind(colSourceDF      = coverageDF,\\\n",
    "                colDestinationDF = statsDF,\\\n",
    "                indexCol         = 'RNAME',\\\n",
    "                cbindCol         = 'LIBRARY_MEMBER_UMI_COVERAGE_NEG')"
   ]
  },
  {
   "cell_type": "code",
   "execution_count": null,
   "metadata": {
    "collapsed": true,
    "scrolled": false
   },
   "outputs": [],
   "source": [
    "# printDF(statsDF)"
   ]
  },
  {
   "cell_type": "markdown",
   "metadata": {},
   "source": [
    "<span style=\"color:blue\">• Add information about abundance of member in the plasmid library"
   ]
  },
  {
   "cell_type": "code",
   "execution_count": 36,
   "metadata": {
    "collapsed": true,
    "scrolled": true
   },
   "outputs": [],
   "source": [
    "pretransductionDF  = pd.read_csv(pretransductionFname, usecols=[1,7,8,9,12,14], header=0, sep='\\t')\n"
   ]
  },
  {
   "cell_type": "code",
   "execution_count": 37,
   "metadata": {},
   "outputs": [
    {
     "name": "stdout",
     "output_type": "stream",
     "text": [
      "\n",
      "\n",
      "\n",
      "\n",
      "\n",
      " ['pretransductionDF'] \n",
      "\n",
      "            RNAME  PLASMID_AU_ABUNDANCE_MEDIAN  P_PLUS_AU_ABUNDANCE_MEDIAN  \\\n",
      "0  AAAAA...TTTTT                     1.034483                    1.871795   \n",
      "1  AAAAC...GTTTT                     1.097701                    1.367521   \n",
      "2  AAAAG...CTTTT                     1.137931                    1.478632   \n",
      "3  AAAAG...TTTTT                     1.057471                    2.555556   \n",
      "4  AAAAT...ATTTT                     0.793103                    1.102564   \n",
      "\n",
      "   P_MINUS_AU_ABUNDANCE_MEDIAN  DELTA_PKG_EFFICIENCY_MEDIAN  \\\n",
      "0                         1.08                     0.791795   \n",
      "1                         2.04                    -0.672479   \n",
      "2                         1.54                    -0.061368   \n",
      "3                         3.58                    -1.024444   \n",
      "4                         1.70                    -0.597436   \n",
      "\n",
      "   FOLD_PKG_EFFICIENCY_MEDIAN  \n",
      "0                    1.733143  \n",
      "1                    0.670354  \n",
      "2                    0.960151  \n",
      "3                    0.713842  \n",
      "4                    0.648567   \n",
      "\n",
      "\n",
      "\n",
      "\n"
     ]
    }
   ],
   "source": [
    "printDF(pretransductionDF)"
   ]
  },
  {
   "cell_type": "code",
   "execution_count": 38,
   "metadata": {
    "collapsed": true
   },
   "outputs": [],
   "source": [
    "statsDF = cbind( colSourceDF      = pretransductionDF,\\\n",
    "                colDestinationDF = statsDF,\\\n",
    "                indexCol         = 'RNAME',\\\n",
    "                cbindCol         = 'bind_all')\n",
    "\n",
    "decimal_to_negative_fold(statsDF, 'FOLD_PKG_EFFICIENCY_MEDIAN')"
   ]
  },
  {
   "cell_type": "code",
   "execution_count": 39,
   "metadata": {
    "collapsed": true
   },
   "outputs": [],
   "source": [
    "# printDF(statsDF)"
   ]
  },
  {
   "cell_type": "code",
   "execution_count": 40,
   "metadata": {},
   "outputs": [
    {
     "name": "stdout",
     "output_type": "stream",
     "text": [
      "Number of NaN in PLASMID_AU_ABUNDANCE_MEDIAN: 0\n",
      "Number of NaN in P_PLUS_AU_ABUNDANCE_MEDIAN (due to detection in P+ or P- only): 36\n",
      "Number of NaN in P_MINUS_AU_ABUNDANCE_MEDIAN (due to detection in P+ or P- only): 7\n"
     ]
    },
    {
     "ename": "KeyError",
     "evalue": "'LIBRARY_MEMBER_UMI_COVERAGE_POS'",
     "output_type": "error",
     "traceback": [
      "\u001b[0;31m---------------------------------------------------------------------------\u001b[0m",
      "\u001b[0;31mKeyError\u001b[0m                                  Traceback (most recent call last)",
      "\u001b[0;32m~/miniconda3/lib/python3.6/site-packages/pandas/core/indexes/base.py\u001b[0m in \u001b[0;36mget_loc\u001b[0;34m(self, key, method, tolerance)\u001b[0m\n\u001b[1;32m   2392\u001b[0m             \u001b[0;32mtry\u001b[0m\u001b[0;34m:\u001b[0m\u001b[0;34m\u001b[0m\u001b[0m\n\u001b[0;32m-> 2393\u001b[0;31m                 \u001b[0;32mreturn\u001b[0m \u001b[0mself\u001b[0m\u001b[0;34m.\u001b[0m\u001b[0m_engine\u001b[0m\u001b[0;34m.\u001b[0m\u001b[0mget_loc\u001b[0m\u001b[0;34m(\u001b[0m\u001b[0mkey\u001b[0m\u001b[0;34m)\u001b[0m\u001b[0;34m\u001b[0m\u001b[0m\n\u001b[0m\u001b[1;32m   2394\u001b[0m             \u001b[0;32mexcept\u001b[0m \u001b[0mKeyError\u001b[0m\u001b[0;34m:\u001b[0m\u001b[0;34m\u001b[0m\u001b[0m\n",
      "\u001b[0;32mpandas/_libs/index.pyx\u001b[0m in \u001b[0;36mpandas._libs.index.IndexEngine.get_loc (pandas/_libs/index.c:5239)\u001b[0;34m()\u001b[0m\n",
      "\u001b[0;32mpandas/_libs/index.pyx\u001b[0m in \u001b[0;36mpandas._libs.index.IndexEngine.get_loc (pandas/_libs/index.c:5085)\u001b[0;34m()\u001b[0m\n",
      "\u001b[0;32mpandas/_libs/hashtable_class_helper.pxi\u001b[0m in \u001b[0;36mpandas._libs.hashtable.PyObjectHashTable.get_item (pandas/_libs/hashtable.c:20405)\u001b[0;34m()\u001b[0m\n",
      "\u001b[0;32mpandas/_libs/hashtable_class_helper.pxi\u001b[0m in \u001b[0;36mpandas._libs.hashtable.PyObjectHashTable.get_item (pandas/_libs/hashtable.c:20359)\u001b[0;34m()\u001b[0m\n",
      "\u001b[0;31mKeyError\u001b[0m: 'LIBRARY_MEMBER_UMI_COVERAGE_POS'",
      "\nDuring handling of the above exception, another exception occurred:\n",
      "\u001b[0;31mKeyError\u001b[0m                                  Traceback (most recent call last)",
      "\u001b[0;32m<ipython-input-40-3974d473cd55>\u001b[0m in \u001b[0;36m<module>\u001b[0;34m()\u001b[0m\n\u001b[1;32m      3\u001b[0m \u001b[0mprint\u001b[0m\u001b[0;34m(\u001b[0m\u001b[0;34m'Number of NaN in P_MINUS_AU_ABUNDANCE_MEDIAN (due to detection in P+ or P- only):'\u001b[0m\u001b[0;34m,\u001b[0m \u001b[0mstatsDF\u001b[0m\u001b[0;34m[\u001b[0m\u001b[0;34m'P_MINUS_AU_ABUNDANCE_MEDIAN'\u001b[0m\u001b[0;34m]\u001b[0m\u001b[0;34m.\u001b[0m\u001b[0misnull\u001b[0m\u001b[0;34m(\u001b[0m\u001b[0;34m)\u001b[0m\u001b[0;34m.\u001b[0m\u001b[0msum\u001b[0m\u001b[0;34m(\u001b[0m\u001b[0;34m)\u001b[0m\u001b[0;34m)\u001b[0m\u001b[0;34m\u001b[0m\u001b[0m\n\u001b[1;32m      4\u001b[0m \u001b[0;34m\u001b[0m\u001b[0m\n\u001b[0;32m----> 5\u001b[0;31m \u001b[0mprint\u001b[0m\u001b[0;34m(\u001b[0m\u001b[0;34m'Number of NaN in LIBRARY_MEMBER_UMI_COVERAGE_POS:'\u001b[0m\u001b[0;34m,\u001b[0m \u001b[0mstatsDF\u001b[0m\u001b[0;34m[\u001b[0m\u001b[0;34m'LIBRARY_MEMBER_UMI_COVERAGE_POS'\u001b[0m\u001b[0;34m]\u001b[0m\u001b[0;34m.\u001b[0m\u001b[0misnull\u001b[0m\u001b[0;34m(\u001b[0m\u001b[0;34m)\u001b[0m\u001b[0;34m.\u001b[0m\u001b[0msum\u001b[0m\u001b[0;34m(\u001b[0m\u001b[0;34m)\u001b[0m\u001b[0;34m)\u001b[0m\u001b[0;34m\u001b[0m\u001b[0m\n\u001b[0m\u001b[1;32m      6\u001b[0m \u001b[0mprint\u001b[0m\u001b[0;34m(\u001b[0m\u001b[0;34m'Number of NaN in LIBRARY_MEMBER_UMI_COVERAGE_NEG:'\u001b[0m\u001b[0;34m,\u001b[0m \u001b[0mstatsDF\u001b[0m\u001b[0;34m[\u001b[0m\u001b[0;34m'LIBRARY_MEMBER_UMI_COVERAGE_NEG'\u001b[0m\u001b[0;34m]\u001b[0m\u001b[0;34m.\u001b[0m\u001b[0misnull\u001b[0m\u001b[0;34m(\u001b[0m\u001b[0;34m)\u001b[0m\u001b[0;34m.\u001b[0m\u001b[0msum\u001b[0m\u001b[0;34m(\u001b[0m\u001b[0;34m)\u001b[0m\u001b[0;34m)\u001b[0m\u001b[0;34m\u001b[0m\u001b[0m\n\u001b[1;32m      7\u001b[0m \u001b[0;34m\u001b[0m\u001b[0m\n",
      "\u001b[0;32m~/miniconda3/lib/python3.6/site-packages/pandas/core/frame.py\u001b[0m in \u001b[0;36m__getitem__\u001b[0;34m(self, key)\u001b[0m\n\u001b[1;32m   2060\u001b[0m             \u001b[0;32mreturn\u001b[0m \u001b[0mself\u001b[0m\u001b[0;34m.\u001b[0m\u001b[0m_getitem_multilevel\u001b[0m\u001b[0;34m(\u001b[0m\u001b[0mkey\u001b[0m\u001b[0;34m)\u001b[0m\u001b[0;34m\u001b[0m\u001b[0m\n\u001b[1;32m   2061\u001b[0m         \u001b[0;32melse\u001b[0m\u001b[0;34m:\u001b[0m\u001b[0;34m\u001b[0m\u001b[0m\n\u001b[0;32m-> 2062\u001b[0;31m             \u001b[0;32mreturn\u001b[0m \u001b[0mself\u001b[0m\u001b[0;34m.\u001b[0m\u001b[0m_getitem_column\u001b[0m\u001b[0;34m(\u001b[0m\u001b[0mkey\u001b[0m\u001b[0;34m)\u001b[0m\u001b[0;34m\u001b[0m\u001b[0m\n\u001b[0m\u001b[1;32m   2063\u001b[0m \u001b[0;34m\u001b[0m\u001b[0m\n\u001b[1;32m   2064\u001b[0m     \u001b[0;32mdef\u001b[0m \u001b[0m_getitem_column\u001b[0m\u001b[0;34m(\u001b[0m\u001b[0mself\u001b[0m\u001b[0;34m,\u001b[0m \u001b[0mkey\u001b[0m\u001b[0;34m)\u001b[0m\u001b[0;34m:\u001b[0m\u001b[0;34m\u001b[0m\u001b[0m\n",
      "\u001b[0;32m~/miniconda3/lib/python3.6/site-packages/pandas/core/frame.py\u001b[0m in \u001b[0;36m_getitem_column\u001b[0;34m(self, key)\u001b[0m\n\u001b[1;32m   2067\u001b[0m         \u001b[0;31m# get column\u001b[0m\u001b[0;34m\u001b[0m\u001b[0;34m\u001b[0m\u001b[0m\n\u001b[1;32m   2068\u001b[0m         \u001b[0;32mif\u001b[0m \u001b[0mself\u001b[0m\u001b[0;34m.\u001b[0m\u001b[0mcolumns\u001b[0m\u001b[0;34m.\u001b[0m\u001b[0mis_unique\u001b[0m\u001b[0;34m:\u001b[0m\u001b[0;34m\u001b[0m\u001b[0m\n\u001b[0;32m-> 2069\u001b[0;31m             \u001b[0;32mreturn\u001b[0m \u001b[0mself\u001b[0m\u001b[0;34m.\u001b[0m\u001b[0m_get_item_cache\u001b[0m\u001b[0;34m(\u001b[0m\u001b[0mkey\u001b[0m\u001b[0;34m)\u001b[0m\u001b[0;34m\u001b[0m\u001b[0m\n\u001b[0m\u001b[1;32m   2070\u001b[0m \u001b[0;34m\u001b[0m\u001b[0m\n\u001b[1;32m   2071\u001b[0m         \u001b[0;31m# duplicate columns & possible reduce dimensionality\u001b[0m\u001b[0;34m\u001b[0m\u001b[0;34m\u001b[0m\u001b[0m\n",
      "\u001b[0;32m~/miniconda3/lib/python3.6/site-packages/pandas/core/generic.py\u001b[0m in \u001b[0;36m_get_item_cache\u001b[0;34m(self, item)\u001b[0m\n\u001b[1;32m   1532\u001b[0m         \u001b[0mres\u001b[0m \u001b[0;34m=\u001b[0m \u001b[0mcache\u001b[0m\u001b[0;34m.\u001b[0m\u001b[0mget\u001b[0m\u001b[0;34m(\u001b[0m\u001b[0mitem\u001b[0m\u001b[0;34m)\u001b[0m\u001b[0;34m\u001b[0m\u001b[0m\n\u001b[1;32m   1533\u001b[0m         \u001b[0;32mif\u001b[0m \u001b[0mres\u001b[0m \u001b[0;32mis\u001b[0m \u001b[0;32mNone\u001b[0m\u001b[0;34m:\u001b[0m\u001b[0;34m\u001b[0m\u001b[0m\n\u001b[0;32m-> 1534\u001b[0;31m             \u001b[0mvalues\u001b[0m \u001b[0;34m=\u001b[0m \u001b[0mself\u001b[0m\u001b[0;34m.\u001b[0m\u001b[0m_data\u001b[0m\u001b[0;34m.\u001b[0m\u001b[0mget\u001b[0m\u001b[0;34m(\u001b[0m\u001b[0mitem\u001b[0m\u001b[0;34m)\u001b[0m\u001b[0;34m\u001b[0m\u001b[0m\n\u001b[0m\u001b[1;32m   1535\u001b[0m             \u001b[0mres\u001b[0m \u001b[0;34m=\u001b[0m \u001b[0mself\u001b[0m\u001b[0;34m.\u001b[0m\u001b[0m_box_item_values\u001b[0m\u001b[0;34m(\u001b[0m\u001b[0mitem\u001b[0m\u001b[0;34m,\u001b[0m \u001b[0mvalues\u001b[0m\u001b[0;34m)\u001b[0m\u001b[0;34m\u001b[0m\u001b[0m\n\u001b[1;32m   1536\u001b[0m             \u001b[0mcache\u001b[0m\u001b[0;34m[\u001b[0m\u001b[0mitem\u001b[0m\u001b[0;34m]\u001b[0m \u001b[0;34m=\u001b[0m \u001b[0mres\u001b[0m\u001b[0;34m\u001b[0m\u001b[0m\n",
      "\u001b[0;32m~/miniconda3/lib/python3.6/site-packages/pandas/core/internals.py\u001b[0m in \u001b[0;36mget\u001b[0;34m(self, item, fastpath)\u001b[0m\n\u001b[1;32m   3588\u001b[0m \u001b[0;34m\u001b[0m\u001b[0m\n\u001b[1;32m   3589\u001b[0m             \u001b[0;32mif\u001b[0m \u001b[0;32mnot\u001b[0m \u001b[0misnull\u001b[0m\u001b[0;34m(\u001b[0m\u001b[0mitem\u001b[0m\u001b[0;34m)\u001b[0m\u001b[0;34m:\u001b[0m\u001b[0;34m\u001b[0m\u001b[0m\n\u001b[0;32m-> 3590\u001b[0;31m                 \u001b[0mloc\u001b[0m \u001b[0;34m=\u001b[0m \u001b[0mself\u001b[0m\u001b[0;34m.\u001b[0m\u001b[0mitems\u001b[0m\u001b[0;34m.\u001b[0m\u001b[0mget_loc\u001b[0m\u001b[0;34m(\u001b[0m\u001b[0mitem\u001b[0m\u001b[0;34m)\u001b[0m\u001b[0;34m\u001b[0m\u001b[0m\n\u001b[0m\u001b[1;32m   3591\u001b[0m             \u001b[0;32melse\u001b[0m\u001b[0;34m:\u001b[0m\u001b[0;34m\u001b[0m\u001b[0m\n\u001b[1;32m   3592\u001b[0m                 \u001b[0mindexer\u001b[0m \u001b[0;34m=\u001b[0m \u001b[0mnp\u001b[0m\u001b[0;34m.\u001b[0m\u001b[0marange\u001b[0m\u001b[0;34m(\u001b[0m\u001b[0mlen\u001b[0m\u001b[0;34m(\u001b[0m\u001b[0mself\u001b[0m\u001b[0;34m.\u001b[0m\u001b[0mitems\u001b[0m\u001b[0;34m)\u001b[0m\u001b[0;34m)\u001b[0m\u001b[0;34m[\u001b[0m\u001b[0misnull\u001b[0m\u001b[0;34m(\u001b[0m\u001b[0mself\u001b[0m\u001b[0;34m.\u001b[0m\u001b[0mitems\u001b[0m\u001b[0;34m)\u001b[0m\u001b[0;34m]\u001b[0m\u001b[0;34m\u001b[0m\u001b[0m\n",
      "\u001b[0;32m~/miniconda3/lib/python3.6/site-packages/pandas/core/indexes/base.py\u001b[0m in \u001b[0;36mget_loc\u001b[0;34m(self, key, method, tolerance)\u001b[0m\n\u001b[1;32m   2393\u001b[0m                 \u001b[0;32mreturn\u001b[0m \u001b[0mself\u001b[0m\u001b[0;34m.\u001b[0m\u001b[0m_engine\u001b[0m\u001b[0;34m.\u001b[0m\u001b[0mget_loc\u001b[0m\u001b[0;34m(\u001b[0m\u001b[0mkey\u001b[0m\u001b[0;34m)\u001b[0m\u001b[0;34m\u001b[0m\u001b[0m\n\u001b[1;32m   2394\u001b[0m             \u001b[0;32mexcept\u001b[0m \u001b[0mKeyError\u001b[0m\u001b[0;34m:\u001b[0m\u001b[0;34m\u001b[0m\u001b[0m\n\u001b[0;32m-> 2395\u001b[0;31m                 \u001b[0;32mreturn\u001b[0m \u001b[0mself\u001b[0m\u001b[0;34m.\u001b[0m\u001b[0m_engine\u001b[0m\u001b[0;34m.\u001b[0m\u001b[0mget_loc\u001b[0m\u001b[0;34m(\u001b[0m\u001b[0mself\u001b[0m\u001b[0;34m.\u001b[0m\u001b[0m_maybe_cast_indexer\u001b[0m\u001b[0;34m(\u001b[0m\u001b[0mkey\u001b[0m\u001b[0;34m)\u001b[0m\u001b[0;34m)\u001b[0m\u001b[0;34m\u001b[0m\u001b[0m\n\u001b[0m\u001b[1;32m   2396\u001b[0m \u001b[0;34m\u001b[0m\u001b[0m\n\u001b[1;32m   2397\u001b[0m         \u001b[0mindexer\u001b[0m \u001b[0;34m=\u001b[0m \u001b[0mself\u001b[0m\u001b[0;34m.\u001b[0m\u001b[0mget_indexer\u001b[0m\u001b[0;34m(\u001b[0m\u001b[0;34m[\u001b[0m\u001b[0mkey\u001b[0m\u001b[0;34m]\u001b[0m\u001b[0;34m,\u001b[0m \u001b[0mmethod\u001b[0m\u001b[0;34m=\u001b[0m\u001b[0mmethod\u001b[0m\u001b[0;34m,\u001b[0m \u001b[0mtolerance\u001b[0m\u001b[0;34m=\u001b[0m\u001b[0mtolerance\u001b[0m\u001b[0;34m)\u001b[0m\u001b[0;34m\u001b[0m\u001b[0m\n",
      "\u001b[0;32mpandas/_libs/index.pyx\u001b[0m in \u001b[0;36mpandas._libs.index.IndexEngine.get_loc (pandas/_libs/index.c:5239)\u001b[0;34m()\u001b[0m\n",
      "\u001b[0;32mpandas/_libs/index.pyx\u001b[0m in \u001b[0;36mpandas._libs.index.IndexEngine.get_loc (pandas/_libs/index.c:5085)\u001b[0;34m()\u001b[0m\n",
      "\u001b[0;32mpandas/_libs/hashtable_class_helper.pxi\u001b[0m in \u001b[0;36mpandas._libs.hashtable.PyObjectHashTable.get_item (pandas/_libs/hashtable.c:20405)\u001b[0;34m()\u001b[0m\n",
      "\u001b[0;32mpandas/_libs/hashtable_class_helper.pxi\u001b[0m in \u001b[0;36mpandas._libs.hashtable.PyObjectHashTable.get_item (pandas/_libs/hashtable.c:20359)\u001b[0;34m()\u001b[0m\n",
      "\u001b[0;31mKeyError\u001b[0m: 'LIBRARY_MEMBER_UMI_COVERAGE_POS'"
     ]
    }
   ],
   "source": [
    "print('Number of NaN in PLASMID_AU_ABUNDANCE_MEDIAN:', statsDF['PLASMID_AU_ABUNDANCE_MEDIAN'].isnull().sum())\n",
    "print('Number of NaN in P_PLUS_AU_ABUNDANCE_MEDIAN (due to detection in P+ or P- only):', statsDF['P_PLUS_AU_ABUNDANCE_MEDIAN'].isnull().sum())\n",
    "print('Number of NaN in P_MINUS_AU_ABUNDANCE_MEDIAN (due to detection in P+ or P- only):', statsDF['P_MINUS_AU_ABUNDANCE_MEDIAN'].isnull().sum())\n",
    "\n",
    "print('Number of NaN in LIBRARY_MEMBER_UMI_COVERAGE_POS:', statsDF['LIBRARY_MEMBER_UMI_COVERAGE_POS'].isnull().sum())\n",
    "print('Number of NaN in LIBRARY_MEMBER_UMI_COVERAGE_NEG:', statsDF['LIBRARY_MEMBER_UMI_COVERAGE_NEG'].isnull().sum())\n",
    "\n",
    "# printDF(pretransductionDF)\n",
    "# printDF(statsDF[statsDF['P_MINUS_AU_ABUNDANCE_MEDIAN'].isnull()])"
   ]
  },
  {
   "cell_type": "markdown",
   "metadata": {},
   "source": [
    "<span style=\"color:blue\">• Determine Fold and Delta change in bin occurance\n",
    "\n"
   ]
  },
  {
   "cell_type": "code",
   "execution_count": 41,
   "metadata": {},
   "outputs": [
    {
     "ename": "KeyError",
     "evalue": "'BIN_MEAN_POS'",
     "output_type": "error",
     "traceback": [
      "\u001b[0;31m---------------------------------------------------------------------------\u001b[0m",
      "\u001b[0;31mKeyError\u001b[0m                                  Traceback (most recent call last)",
      "\u001b[0;32m~/miniconda3/lib/python3.6/site-packages/pandas/core/indexes/base.py\u001b[0m in \u001b[0;36mget_loc\u001b[0;34m(self, key, method, tolerance)\u001b[0m\n\u001b[1;32m   2392\u001b[0m             \u001b[0;32mtry\u001b[0m\u001b[0;34m:\u001b[0m\u001b[0;34m\u001b[0m\u001b[0m\n\u001b[0;32m-> 2393\u001b[0;31m                 \u001b[0;32mreturn\u001b[0m \u001b[0mself\u001b[0m\u001b[0;34m.\u001b[0m\u001b[0m_engine\u001b[0m\u001b[0;34m.\u001b[0m\u001b[0mget_loc\u001b[0m\u001b[0;34m(\u001b[0m\u001b[0mkey\u001b[0m\u001b[0;34m)\u001b[0m\u001b[0;34m\u001b[0m\u001b[0m\n\u001b[0m\u001b[1;32m   2394\u001b[0m             \u001b[0;32mexcept\u001b[0m \u001b[0mKeyError\u001b[0m\u001b[0;34m:\u001b[0m\u001b[0;34m\u001b[0m\u001b[0m\n",
      "\u001b[0;32mpandas/_libs/index.pyx\u001b[0m in \u001b[0;36mpandas._libs.index.IndexEngine.get_loc (pandas/_libs/index.c:5239)\u001b[0;34m()\u001b[0m\n",
      "\u001b[0;32mpandas/_libs/index.pyx\u001b[0m in \u001b[0;36mpandas._libs.index.IndexEngine.get_loc (pandas/_libs/index.c:5085)\u001b[0;34m()\u001b[0m\n",
      "\u001b[0;32mpandas/_libs/hashtable_class_helper.pxi\u001b[0m in \u001b[0;36mpandas._libs.hashtable.PyObjectHashTable.get_item (pandas/_libs/hashtable.c:20405)\u001b[0;34m()\u001b[0m\n",
      "\u001b[0;32mpandas/_libs/hashtable_class_helper.pxi\u001b[0m in \u001b[0;36mpandas._libs.hashtable.PyObjectHashTable.get_item (pandas/_libs/hashtable.c:20359)\u001b[0;34m()\u001b[0m\n",
      "\u001b[0;31mKeyError\u001b[0m: 'BIN_MEAN_POS'",
      "\nDuring handling of the above exception, another exception occurred:\n",
      "\u001b[0;31mKeyError\u001b[0m                                  Traceback (most recent call last)",
      "\u001b[0;32m<ipython-input-41-3d0d13ebcddf>\u001b[0m in \u001b[0;36m<module>\u001b[0;34m()\u001b[0m\n\u001b[0;32m----> 1\u001b[0;31m \u001b[0mstatsDF\u001b[0m\u001b[0;34m[\u001b[0m\u001b[0;34m'DELTA_PpSpm_MEAN'\u001b[0m\u001b[0;34m]\u001b[0m   \u001b[0;34m=\u001b[0m \u001b[0mstatsDF\u001b[0m\u001b[0;34m[\u001b[0m\u001b[0;34m'BIN_MEAN_POS'\u001b[0m\u001b[0;34m]\u001b[0m   \u001b[0;34m-\u001b[0m \u001b[0mstatsDF\u001b[0m\u001b[0;34m[\u001b[0m\u001b[0;34m'BIN_MEAN_NEG'\u001b[0m\u001b[0;34m]\u001b[0m\u001b[0;34m\u001b[0m\u001b[0m\n\u001b[0m\u001b[1;32m      2\u001b[0m \u001b[0mstatsDF\u001b[0m\u001b[0;34m[\u001b[0m\u001b[0;34m'DELTA_PpSpm_MEDIAN'\u001b[0m\u001b[0;34m]\u001b[0m \u001b[0;34m=\u001b[0m \u001b[0mstatsDF\u001b[0m\u001b[0;34m[\u001b[0m\u001b[0;34m'BIN_MEDIAN_POS'\u001b[0m\u001b[0;34m]\u001b[0m \u001b[0;34m-\u001b[0m \u001b[0mstatsDF\u001b[0m\u001b[0;34m[\u001b[0m\u001b[0;34m'BIN_MEDIAN_NEG'\u001b[0m\u001b[0;34m]\u001b[0m\u001b[0;34m\u001b[0m\u001b[0m\n\u001b[1;32m      3\u001b[0m \u001b[0mstatsDF\u001b[0m\u001b[0;34m[\u001b[0m \u001b[0;34m'FOLD_PpSpm_MEAN'\u001b[0m\u001b[0;34m]\u001b[0m    \u001b[0;34m=\u001b[0m \u001b[0mstatsDF\u001b[0m\u001b[0;34m[\u001b[0m\u001b[0;34m'BIN_MEAN_POS'\u001b[0m\u001b[0;34m]\u001b[0m   \u001b[0;34m/\u001b[0m \u001b[0mstatsDF\u001b[0m\u001b[0;34m[\u001b[0m\u001b[0;34m'BIN_MEAN_NEG'\u001b[0m\u001b[0;34m]\u001b[0m\u001b[0;34m\u001b[0m\u001b[0m\n\u001b[1;32m      4\u001b[0m \u001b[0mstatsDF\u001b[0m\u001b[0;34m[\u001b[0m \u001b[0;34m'FOLD_PpSpm_MEDIAN'\u001b[0m\u001b[0;34m]\u001b[0m  \u001b[0;34m=\u001b[0m \u001b[0mstatsDF\u001b[0m\u001b[0;34m[\u001b[0m\u001b[0;34m'BIN_MEDIAN_POS'\u001b[0m\u001b[0;34m]\u001b[0m \u001b[0;34m/\u001b[0m \u001b[0mstatsDF\u001b[0m\u001b[0;34m[\u001b[0m\u001b[0;34m'BIN_MEDIAN_NEG'\u001b[0m\u001b[0;34m]\u001b[0m\u001b[0;34m\u001b[0m\u001b[0m\n",
      "\u001b[0;32m~/miniconda3/lib/python3.6/site-packages/pandas/core/frame.py\u001b[0m in \u001b[0;36m__getitem__\u001b[0;34m(self, key)\u001b[0m\n\u001b[1;32m   2060\u001b[0m             \u001b[0;32mreturn\u001b[0m \u001b[0mself\u001b[0m\u001b[0;34m.\u001b[0m\u001b[0m_getitem_multilevel\u001b[0m\u001b[0;34m(\u001b[0m\u001b[0mkey\u001b[0m\u001b[0;34m)\u001b[0m\u001b[0;34m\u001b[0m\u001b[0m\n\u001b[1;32m   2061\u001b[0m         \u001b[0;32melse\u001b[0m\u001b[0;34m:\u001b[0m\u001b[0;34m\u001b[0m\u001b[0m\n\u001b[0;32m-> 2062\u001b[0;31m             \u001b[0;32mreturn\u001b[0m \u001b[0mself\u001b[0m\u001b[0;34m.\u001b[0m\u001b[0m_getitem_column\u001b[0m\u001b[0;34m(\u001b[0m\u001b[0mkey\u001b[0m\u001b[0;34m)\u001b[0m\u001b[0;34m\u001b[0m\u001b[0m\n\u001b[0m\u001b[1;32m   2063\u001b[0m \u001b[0;34m\u001b[0m\u001b[0m\n\u001b[1;32m   2064\u001b[0m     \u001b[0;32mdef\u001b[0m \u001b[0m_getitem_column\u001b[0m\u001b[0;34m(\u001b[0m\u001b[0mself\u001b[0m\u001b[0;34m,\u001b[0m \u001b[0mkey\u001b[0m\u001b[0;34m)\u001b[0m\u001b[0;34m:\u001b[0m\u001b[0;34m\u001b[0m\u001b[0m\n",
      "\u001b[0;32m~/miniconda3/lib/python3.6/site-packages/pandas/core/frame.py\u001b[0m in \u001b[0;36m_getitem_column\u001b[0;34m(self, key)\u001b[0m\n\u001b[1;32m   2067\u001b[0m         \u001b[0;31m# get column\u001b[0m\u001b[0;34m\u001b[0m\u001b[0;34m\u001b[0m\u001b[0m\n\u001b[1;32m   2068\u001b[0m         \u001b[0;32mif\u001b[0m \u001b[0mself\u001b[0m\u001b[0;34m.\u001b[0m\u001b[0mcolumns\u001b[0m\u001b[0;34m.\u001b[0m\u001b[0mis_unique\u001b[0m\u001b[0;34m:\u001b[0m\u001b[0;34m\u001b[0m\u001b[0m\n\u001b[0;32m-> 2069\u001b[0;31m             \u001b[0;32mreturn\u001b[0m \u001b[0mself\u001b[0m\u001b[0;34m.\u001b[0m\u001b[0m_get_item_cache\u001b[0m\u001b[0;34m(\u001b[0m\u001b[0mkey\u001b[0m\u001b[0;34m)\u001b[0m\u001b[0;34m\u001b[0m\u001b[0m\n\u001b[0m\u001b[1;32m   2070\u001b[0m \u001b[0;34m\u001b[0m\u001b[0m\n\u001b[1;32m   2071\u001b[0m         \u001b[0;31m# duplicate columns & possible reduce dimensionality\u001b[0m\u001b[0;34m\u001b[0m\u001b[0;34m\u001b[0m\u001b[0m\n",
      "\u001b[0;32m~/miniconda3/lib/python3.6/site-packages/pandas/core/generic.py\u001b[0m in \u001b[0;36m_get_item_cache\u001b[0;34m(self, item)\u001b[0m\n\u001b[1;32m   1532\u001b[0m         \u001b[0mres\u001b[0m \u001b[0;34m=\u001b[0m \u001b[0mcache\u001b[0m\u001b[0;34m.\u001b[0m\u001b[0mget\u001b[0m\u001b[0;34m(\u001b[0m\u001b[0mitem\u001b[0m\u001b[0;34m)\u001b[0m\u001b[0;34m\u001b[0m\u001b[0m\n\u001b[1;32m   1533\u001b[0m         \u001b[0;32mif\u001b[0m \u001b[0mres\u001b[0m \u001b[0;32mis\u001b[0m \u001b[0;32mNone\u001b[0m\u001b[0;34m:\u001b[0m\u001b[0;34m\u001b[0m\u001b[0m\n\u001b[0;32m-> 1534\u001b[0;31m             \u001b[0mvalues\u001b[0m \u001b[0;34m=\u001b[0m \u001b[0mself\u001b[0m\u001b[0;34m.\u001b[0m\u001b[0m_data\u001b[0m\u001b[0;34m.\u001b[0m\u001b[0mget\u001b[0m\u001b[0;34m(\u001b[0m\u001b[0mitem\u001b[0m\u001b[0;34m)\u001b[0m\u001b[0;34m\u001b[0m\u001b[0m\n\u001b[0m\u001b[1;32m   1535\u001b[0m             \u001b[0mres\u001b[0m \u001b[0;34m=\u001b[0m \u001b[0mself\u001b[0m\u001b[0;34m.\u001b[0m\u001b[0m_box_item_values\u001b[0m\u001b[0;34m(\u001b[0m\u001b[0mitem\u001b[0m\u001b[0;34m,\u001b[0m \u001b[0mvalues\u001b[0m\u001b[0;34m)\u001b[0m\u001b[0;34m\u001b[0m\u001b[0m\n\u001b[1;32m   1536\u001b[0m             \u001b[0mcache\u001b[0m\u001b[0;34m[\u001b[0m\u001b[0mitem\u001b[0m\u001b[0;34m]\u001b[0m \u001b[0;34m=\u001b[0m \u001b[0mres\u001b[0m\u001b[0;34m\u001b[0m\u001b[0m\n",
      "\u001b[0;32m~/miniconda3/lib/python3.6/site-packages/pandas/core/internals.py\u001b[0m in \u001b[0;36mget\u001b[0;34m(self, item, fastpath)\u001b[0m\n\u001b[1;32m   3588\u001b[0m \u001b[0;34m\u001b[0m\u001b[0m\n\u001b[1;32m   3589\u001b[0m             \u001b[0;32mif\u001b[0m \u001b[0;32mnot\u001b[0m \u001b[0misnull\u001b[0m\u001b[0;34m(\u001b[0m\u001b[0mitem\u001b[0m\u001b[0;34m)\u001b[0m\u001b[0;34m:\u001b[0m\u001b[0;34m\u001b[0m\u001b[0m\n\u001b[0;32m-> 3590\u001b[0;31m                 \u001b[0mloc\u001b[0m \u001b[0;34m=\u001b[0m \u001b[0mself\u001b[0m\u001b[0;34m.\u001b[0m\u001b[0mitems\u001b[0m\u001b[0;34m.\u001b[0m\u001b[0mget_loc\u001b[0m\u001b[0;34m(\u001b[0m\u001b[0mitem\u001b[0m\u001b[0;34m)\u001b[0m\u001b[0;34m\u001b[0m\u001b[0m\n\u001b[0m\u001b[1;32m   3591\u001b[0m             \u001b[0;32melse\u001b[0m\u001b[0;34m:\u001b[0m\u001b[0;34m\u001b[0m\u001b[0m\n\u001b[1;32m   3592\u001b[0m                 \u001b[0mindexer\u001b[0m \u001b[0;34m=\u001b[0m \u001b[0mnp\u001b[0m\u001b[0;34m.\u001b[0m\u001b[0marange\u001b[0m\u001b[0;34m(\u001b[0m\u001b[0mlen\u001b[0m\u001b[0;34m(\u001b[0m\u001b[0mself\u001b[0m\u001b[0;34m.\u001b[0m\u001b[0mitems\u001b[0m\u001b[0;34m)\u001b[0m\u001b[0;34m)\u001b[0m\u001b[0;34m[\u001b[0m\u001b[0misnull\u001b[0m\u001b[0;34m(\u001b[0m\u001b[0mself\u001b[0m\u001b[0;34m.\u001b[0m\u001b[0mitems\u001b[0m\u001b[0;34m)\u001b[0m\u001b[0;34m]\u001b[0m\u001b[0;34m\u001b[0m\u001b[0m\n",
      "\u001b[0;32m~/miniconda3/lib/python3.6/site-packages/pandas/core/indexes/base.py\u001b[0m in \u001b[0;36mget_loc\u001b[0;34m(self, key, method, tolerance)\u001b[0m\n\u001b[1;32m   2393\u001b[0m                 \u001b[0;32mreturn\u001b[0m \u001b[0mself\u001b[0m\u001b[0;34m.\u001b[0m\u001b[0m_engine\u001b[0m\u001b[0;34m.\u001b[0m\u001b[0mget_loc\u001b[0m\u001b[0;34m(\u001b[0m\u001b[0mkey\u001b[0m\u001b[0;34m)\u001b[0m\u001b[0;34m\u001b[0m\u001b[0m\n\u001b[1;32m   2394\u001b[0m             \u001b[0;32mexcept\u001b[0m \u001b[0mKeyError\u001b[0m\u001b[0;34m:\u001b[0m\u001b[0;34m\u001b[0m\u001b[0m\n\u001b[0;32m-> 2395\u001b[0;31m                 \u001b[0;32mreturn\u001b[0m \u001b[0mself\u001b[0m\u001b[0;34m.\u001b[0m\u001b[0m_engine\u001b[0m\u001b[0;34m.\u001b[0m\u001b[0mget_loc\u001b[0m\u001b[0;34m(\u001b[0m\u001b[0mself\u001b[0m\u001b[0;34m.\u001b[0m\u001b[0m_maybe_cast_indexer\u001b[0m\u001b[0;34m(\u001b[0m\u001b[0mkey\u001b[0m\u001b[0;34m)\u001b[0m\u001b[0;34m)\u001b[0m\u001b[0;34m\u001b[0m\u001b[0m\n\u001b[0m\u001b[1;32m   2396\u001b[0m \u001b[0;34m\u001b[0m\u001b[0m\n\u001b[1;32m   2397\u001b[0m         \u001b[0mindexer\u001b[0m \u001b[0;34m=\u001b[0m \u001b[0mself\u001b[0m\u001b[0;34m.\u001b[0m\u001b[0mget_indexer\u001b[0m\u001b[0;34m(\u001b[0m\u001b[0;34m[\u001b[0m\u001b[0mkey\u001b[0m\u001b[0;34m]\u001b[0m\u001b[0;34m,\u001b[0m \u001b[0mmethod\u001b[0m\u001b[0;34m=\u001b[0m\u001b[0mmethod\u001b[0m\u001b[0;34m,\u001b[0m \u001b[0mtolerance\u001b[0m\u001b[0;34m=\u001b[0m\u001b[0mtolerance\u001b[0m\u001b[0;34m)\u001b[0m\u001b[0;34m\u001b[0m\u001b[0m\n",
      "\u001b[0;32mpandas/_libs/index.pyx\u001b[0m in \u001b[0;36mpandas._libs.index.IndexEngine.get_loc (pandas/_libs/index.c:5239)\u001b[0;34m()\u001b[0m\n",
      "\u001b[0;32mpandas/_libs/index.pyx\u001b[0m in \u001b[0;36mpandas._libs.index.IndexEngine.get_loc (pandas/_libs/index.c:5085)\u001b[0;34m()\u001b[0m\n",
      "\u001b[0;32mpandas/_libs/hashtable_class_helper.pxi\u001b[0m in \u001b[0;36mpandas._libs.hashtable.PyObjectHashTable.get_item (pandas/_libs/hashtable.c:20405)\u001b[0;34m()\u001b[0m\n",
      "\u001b[0;32mpandas/_libs/hashtable_class_helper.pxi\u001b[0m in \u001b[0;36mpandas._libs.hashtable.PyObjectHashTable.get_item (pandas/_libs/hashtable.c:20359)\u001b[0;34m()\u001b[0m\n",
      "\u001b[0;31mKeyError\u001b[0m: 'BIN_MEAN_POS'"
     ]
    }
   ],
   "source": [
    "statsDF['DELTA_PpSpm_MEAN']   = statsDF['BIN_MEAN_POS']   - statsDF['BIN_MEAN_NEG']\n",
    "statsDF['DELTA_PpSpm_MEDIAN'] = statsDF['BIN_MEDIAN_POS'] - statsDF['BIN_MEDIAN_NEG']\n",
    "statsDF[ 'FOLD_PpSpm_MEAN']    = statsDF['BIN_MEAN_POS']   / statsDF['BIN_MEAN_NEG']\n",
    "statsDF[ 'FOLD_PpSpm_MEDIAN']  = statsDF['BIN_MEDIAN_POS'] / statsDF['BIN_MEDIAN_NEG']\n"
   ]
  },
  {
   "cell_type": "code",
   "execution_count": null,
   "metadata": {
    "collapsed": true
   },
   "outputs": [],
   "source": [
    "# printDF(statsDF)"
   ]
  },
  {
   "cell_type": "markdown",
   "metadata": {},
   "source": [
    "<span style=\"color:blue\">• Separate statsDF into several DFs depending on if the members were detected only in B+, B- or both"
   ]
  },
  {
   "cell_type": "code",
   "execution_count": 43,
   "metadata": {
    "scrolled": false
   },
   "outputs": [
    {
     "ename": "KeyError",
     "evalue": "'LIBRARY_MEMBER_UMI_COVERAGE_POS'",
     "output_type": "error",
     "traceback": [
      "\u001b[0;31m---------------------------------------------------------------------------\u001b[0m",
      "\u001b[0;31mKeyError\u001b[0m                                  Traceback (most recent call last)",
      "\u001b[0;32m~/miniconda3/lib/python3.6/site-packages/pandas/core/indexes/base.py\u001b[0m in \u001b[0;36mget_loc\u001b[0;34m(self, key, method, tolerance)\u001b[0m\n\u001b[1;32m   2392\u001b[0m             \u001b[0;32mtry\u001b[0m\u001b[0;34m:\u001b[0m\u001b[0;34m\u001b[0m\u001b[0m\n\u001b[0;32m-> 2393\u001b[0;31m                 \u001b[0;32mreturn\u001b[0m \u001b[0mself\u001b[0m\u001b[0;34m.\u001b[0m\u001b[0m_engine\u001b[0m\u001b[0;34m.\u001b[0m\u001b[0mget_loc\u001b[0m\u001b[0;34m(\u001b[0m\u001b[0mkey\u001b[0m\u001b[0;34m)\u001b[0m\u001b[0;34m\u001b[0m\u001b[0m\n\u001b[0m\u001b[1;32m   2394\u001b[0m             \u001b[0;32mexcept\u001b[0m \u001b[0mKeyError\u001b[0m\u001b[0;34m:\u001b[0m\u001b[0;34m\u001b[0m\u001b[0m\n",
      "\u001b[0;32mpandas/_libs/index.pyx\u001b[0m in \u001b[0;36mpandas._libs.index.IndexEngine.get_loc (pandas/_libs/index.c:5239)\u001b[0;34m()\u001b[0m\n",
      "\u001b[0;32mpandas/_libs/index.pyx\u001b[0m in \u001b[0;36mpandas._libs.index.IndexEngine.get_loc (pandas/_libs/index.c:5085)\u001b[0;34m()\u001b[0m\n",
      "\u001b[0;32mpandas/_libs/hashtable_class_helper.pxi\u001b[0m in \u001b[0;36mpandas._libs.hashtable.PyObjectHashTable.get_item (pandas/_libs/hashtable.c:20405)\u001b[0;34m()\u001b[0m\n",
      "\u001b[0;32mpandas/_libs/hashtable_class_helper.pxi\u001b[0m in \u001b[0;36mpandas._libs.hashtable.PyObjectHashTable.get_item (pandas/_libs/hashtable.c:20359)\u001b[0;34m()\u001b[0m\n",
      "\u001b[0;31mKeyError\u001b[0m: 'LIBRARY_MEMBER_UMI_COVERAGE_POS'",
      "\nDuring handling of the above exception, another exception occurred:\n",
      "\u001b[0;31mKeyError\u001b[0m                                  Traceback (most recent call last)",
      "\u001b[0;32m<ipython-input-43-d499caf6d306>\u001b[0m in \u001b[0;36m<module>\u001b[0;34m()\u001b[0m\n\u001b[1;32m      1\u001b[0m \u001b[0;31m#statsDF_inPOS  = statsDF[statsDF['LIBRARY_MEMBER_UMI_COVERAGE_NEG'].isnull()]\u001b[0m\u001b[0;34m\u001b[0m\u001b[0;34m\u001b[0m\u001b[0m\n\u001b[0;32m----> 2\u001b[0;31m \u001b[0mstatsDF_inNEG\u001b[0m  \u001b[0;34m=\u001b[0m \u001b[0mstatsDF\u001b[0m\u001b[0;34m[\u001b[0m\u001b[0mstatsDF\u001b[0m\u001b[0;34m[\u001b[0m\u001b[0;34m'LIBRARY_MEMBER_UMI_COVERAGE_POS'\u001b[0m\u001b[0;34m]\u001b[0m\u001b[0;34m.\u001b[0m\u001b[0misnull\u001b[0m\u001b[0;34m(\u001b[0m\u001b[0;34m)\u001b[0m\u001b[0;34m]\u001b[0m\u001b[0;34m\u001b[0m\u001b[0m\n\u001b[0m\u001b[1;32m      3\u001b[0m \u001b[0;31m#statsDF_inBOTH = statsDF.dropna(how='any',axis=0,subset=['LIBRARY_MEMBER_UMI_COVERAGE_POS','LIBRARY_MEMBER_UMI_COVERAGE_NEG'])\u001b[0m\u001b[0;34m\u001b[0m\u001b[0;34m\u001b[0m\u001b[0m\n",
      "\u001b[0;32m~/miniconda3/lib/python3.6/site-packages/pandas/core/frame.py\u001b[0m in \u001b[0;36m__getitem__\u001b[0;34m(self, key)\u001b[0m\n\u001b[1;32m   2060\u001b[0m             \u001b[0;32mreturn\u001b[0m \u001b[0mself\u001b[0m\u001b[0;34m.\u001b[0m\u001b[0m_getitem_multilevel\u001b[0m\u001b[0;34m(\u001b[0m\u001b[0mkey\u001b[0m\u001b[0;34m)\u001b[0m\u001b[0;34m\u001b[0m\u001b[0m\n\u001b[1;32m   2061\u001b[0m         \u001b[0;32melse\u001b[0m\u001b[0;34m:\u001b[0m\u001b[0;34m\u001b[0m\u001b[0m\n\u001b[0;32m-> 2062\u001b[0;31m             \u001b[0;32mreturn\u001b[0m \u001b[0mself\u001b[0m\u001b[0;34m.\u001b[0m\u001b[0m_getitem_column\u001b[0m\u001b[0;34m(\u001b[0m\u001b[0mkey\u001b[0m\u001b[0;34m)\u001b[0m\u001b[0;34m\u001b[0m\u001b[0m\n\u001b[0m\u001b[1;32m   2063\u001b[0m \u001b[0;34m\u001b[0m\u001b[0m\n\u001b[1;32m   2064\u001b[0m     \u001b[0;32mdef\u001b[0m \u001b[0m_getitem_column\u001b[0m\u001b[0;34m(\u001b[0m\u001b[0mself\u001b[0m\u001b[0;34m,\u001b[0m \u001b[0mkey\u001b[0m\u001b[0;34m)\u001b[0m\u001b[0;34m:\u001b[0m\u001b[0;34m\u001b[0m\u001b[0m\n",
      "\u001b[0;32m~/miniconda3/lib/python3.6/site-packages/pandas/core/frame.py\u001b[0m in \u001b[0;36m_getitem_column\u001b[0;34m(self, key)\u001b[0m\n\u001b[1;32m   2067\u001b[0m         \u001b[0;31m# get column\u001b[0m\u001b[0;34m\u001b[0m\u001b[0;34m\u001b[0m\u001b[0m\n\u001b[1;32m   2068\u001b[0m         \u001b[0;32mif\u001b[0m \u001b[0mself\u001b[0m\u001b[0;34m.\u001b[0m\u001b[0mcolumns\u001b[0m\u001b[0;34m.\u001b[0m\u001b[0mis_unique\u001b[0m\u001b[0;34m:\u001b[0m\u001b[0;34m\u001b[0m\u001b[0m\n\u001b[0;32m-> 2069\u001b[0;31m             \u001b[0;32mreturn\u001b[0m \u001b[0mself\u001b[0m\u001b[0;34m.\u001b[0m\u001b[0m_get_item_cache\u001b[0m\u001b[0;34m(\u001b[0m\u001b[0mkey\u001b[0m\u001b[0;34m)\u001b[0m\u001b[0;34m\u001b[0m\u001b[0m\n\u001b[0m\u001b[1;32m   2070\u001b[0m \u001b[0;34m\u001b[0m\u001b[0m\n\u001b[1;32m   2071\u001b[0m         \u001b[0;31m# duplicate columns & possible reduce dimensionality\u001b[0m\u001b[0;34m\u001b[0m\u001b[0;34m\u001b[0m\u001b[0m\n",
      "\u001b[0;32m~/miniconda3/lib/python3.6/site-packages/pandas/core/generic.py\u001b[0m in \u001b[0;36m_get_item_cache\u001b[0;34m(self, item)\u001b[0m\n\u001b[1;32m   1532\u001b[0m         \u001b[0mres\u001b[0m \u001b[0;34m=\u001b[0m \u001b[0mcache\u001b[0m\u001b[0;34m.\u001b[0m\u001b[0mget\u001b[0m\u001b[0;34m(\u001b[0m\u001b[0mitem\u001b[0m\u001b[0;34m)\u001b[0m\u001b[0;34m\u001b[0m\u001b[0m\n\u001b[1;32m   1533\u001b[0m         \u001b[0;32mif\u001b[0m \u001b[0mres\u001b[0m \u001b[0;32mis\u001b[0m \u001b[0;32mNone\u001b[0m\u001b[0;34m:\u001b[0m\u001b[0;34m\u001b[0m\u001b[0m\n\u001b[0;32m-> 1534\u001b[0;31m             \u001b[0mvalues\u001b[0m \u001b[0;34m=\u001b[0m \u001b[0mself\u001b[0m\u001b[0;34m.\u001b[0m\u001b[0m_data\u001b[0m\u001b[0;34m.\u001b[0m\u001b[0mget\u001b[0m\u001b[0;34m(\u001b[0m\u001b[0mitem\u001b[0m\u001b[0;34m)\u001b[0m\u001b[0;34m\u001b[0m\u001b[0m\n\u001b[0m\u001b[1;32m   1535\u001b[0m             \u001b[0mres\u001b[0m \u001b[0;34m=\u001b[0m \u001b[0mself\u001b[0m\u001b[0;34m.\u001b[0m\u001b[0m_box_item_values\u001b[0m\u001b[0;34m(\u001b[0m\u001b[0mitem\u001b[0m\u001b[0;34m,\u001b[0m \u001b[0mvalues\u001b[0m\u001b[0;34m)\u001b[0m\u001b[0;34m\u001b[0m\u001b[0m\n\u001b[1;32m   1536\u001b[0m             \u001b[0mcache\u001b[0m\u001b[0;34m[\u001b[0m\u001b[0mitem\u001b[0m\u001b[0;34m]\u001b[0m \u001b[0;34m=\u001b[0m \u001b[0mres\u001b[0m\u001b[0;34m\u001b[0m\u001b[0m\n",
      "\u001b[0;32m~/miniconda3/lib/python3.6/site-packages/pandas/core/internals.py\u001b[0m in \u001b[0;36mget\u001b[0;34m(self, item, fastpath)\u001b[0m\n\u001b[1;32m   3588\u001b[0m \u001b[0;34m\u001b[0m\u001b[0m\n\u001b[1;32m   3589\u001b[0m             \u001b[0;32mif\u001b[0m \u001b[0;32mnot\u001b[0m \u001b[0misnull\u001b[0m\u001b[0;34m(\u001b[0m\u001b[0mitem\u001b[0m\u001b[0;34m)\u001b[0m\u001b[0;34m:\u001b[0m\u001b[0;34m\u001b[0m\u001b[0m\n\u001b[0;32m-> 3590\u001b[0;31m                 \u001b[0mloc\u001b[0m \u001b[0;34m=\u001b[0m \u001b[0mself\u001b[0m\u001b[0;34m.\u001b[0m\u001b[0mitems\u001b[0m\u001b[0;34m.\u001b[0m\u001b[0mget_loc\u001b[0m\u001b[0;34m(\u001b[0m\u001b[0mitem\u001b[0m\u001b[0;34m)\u001b[0m\u001b[0;34m\u001b[0m\u001b[0m\n\u001b[0m\u001b[1;32m   3591\u001b[0m             \u001b[0;32melse\u001b[0m\u001b[0;34m:\u001b[0m\u001b[0;34m\u001b[0m\u001b[0m\n\u001b[1;32m   3592\u001b[0m                 \u001b[0mindexer\u001b[0m \u001b[0;34m=\u001b[0m \u001b[0mnp\u001b[0m\u001b[0;34m.\u001b[0m\u001b[0marange\u001b[0m\u001b[0;34m(\u001b[0m\u001b[0mlen\u001b[0m\u001b[0;34m(\u001b[0m\u001b[0mself\u001b[0m\u001b[0;34m.\u001b[0m\u001b[0mitems\u001b[0m\u001b[0;34m)\u001b[0m\u001b[0;34m)\u001b[0m\u001b[0;34m[\u001b[0m\u001b[0misnull\u001b[0m\u001b[0;34m(\u001b[0m\u001b[0mself\u001b[0m\u001b[0;34m.\u001b[0m\u001b[0mitems\u001b[0m\u001b[0;34m)\u001b[0m\u001b[0;34m]\u001b[0m\u001b[0;34m\u001b[0m\u001b[0m\n",
      "\u001b[0;32m~/miniconda3/lib/python3.6/site-packages/pandas/core/indexes/base.py\u001b[0m in \u001b[0;36mget_loc\u001b[0;34m(self, key, method, tolerance)\u001b[0m\n\u001b[1;32m   2393\u001b[0m                 \u001b[0;32mreturn\u001b[0m \u001b[0mself\u001b[0m\u001b[0;34m.\u001b[0m\u001b[0m_engine\u001b[0m\u001b[0;34m.\u001b[0m\u001b[0mget_loc\u001b[0m\u001b[0;34m(\u001b[0m\u001b[0mkey\u001b[0m\u001b[0;34m)\u001b[0m\u001b[0;34m\u001b[0m\u001b[0m\n\u001b[1;32m   2394\u001b[0m             \u001b[0;32mexcept\u001b[0m \u001b[0mKeyError\u001b[0m\u001b[0;34m:\u001b[0m\u001b[0;34m\u001b[0m\u001b[0m\n\u001b[0;32m-> 2395\u001b[0;31m                 \u001b[0;32mreturn\u001b[0m \u001b[0mself\u001b[0m\u001b[0;34m.\u001b[0m\u001b[0m_engine\u001b[0m\u001b[0;34m.\u001b[0m\u001b[0mget_loc\u001b[0m\u001b[0;34m(\u001b[0m\u001b[0mself\u001b[0m\u001b[0;34m.\u001b[0m\u001b[0m_maybe_cast_indexer\u001b[0m\u001b[0;34m(\u001b[0m\u001b[0mkey\u001b[0m\u001b[0;34m)\u001b[0m\u001b[0;34m)\u001b[0m\u001b[0;34m\u001b[0m\u001b[0m\n\u001b[0m\u001b[1;32m   2396\u001b[0m \u001b[0;34m\u001b[0m\u001b[0m\n\u001b[1;32m   2397\u001b[0m         \u001b[0mindexer\u001b[0m \u001b[0;34m=\u001b[0m \u001b[0mself\u001b[0m\u001b[0;34m.\u001b[0m\u001b[0mget_indexer\u001b[0m\u001b[0;34m(\u001b[0m\u001b[0;34m[\u001b[0m\u001b[0mkey\u001b[0m\u001b[0;34m]\u001b[0m\u001b[0;34m,\u001b[0m \u001b[0mmethod\u001b[0m\u001b[0;34m=\u001b[0m\u001b[0mmethod\u001b[0m\u001b[0;34m,\u001b[0m \u001b[0mtolerance\u001b[0m\u001b[0;34m=\u001b[0m\u001b[0mtolerance\u001b[0m\u001b[0;34m)\u001b[0m\u001b[0;34m\u001b[0m\u001b[0m\n",
      "\u001b[0;32mpandas/_libs/index.pyx\u001b[0m in \u001b[0;36mpandas._libs.index.IndexEngine.get_loc (pandas/_libs/index.c:5239)\u001b[0;34m()\u001b[0m\n",
      "\u001b[0;32mpandas/_libs/index.pyx\u001b[0m in \u001b[0;36mpandas._libs.index.IndexEngine.get_loc (pandas/_libs/index.c:5085)\u001b[0;34m()\u001b[0m\n",
      "\u001b[0;32mpandas/_libs/hashtable_class_helper.pxi\u001b[0m in \u001b[0;36mpandas._libs.hashtable.PyObjectHashTable.get_item (pandas/_libs/hashtable.c:20405)\u001b[0;34m()\u001b[0m\n",
      "\u001b[0;32mpandas/_libs/hashtable_class_helper.pxi\u001b[0m in \u001b[0;36mpandas._libs.hashtable.PyObjectHashTable.get_item (pandas/_libs/hashtable.c:20359)\u001b[0;34m()\u001b[0m\n",
      "\u001b[0;31mKeyError\u001b[0m: 'LIBRARY_MEMBER_UMI_COVERAGE_POS'"
     ]
    }
   ],
   "source": [
    "#statsDF_inPOS  = statsDF[statsDF['LIBRARY_MEMBER_UMI_COVERAGE_NEG'].isnull()]\n",
    "statsDF_inNEG  = statsDF[statsDF['LIBRARY_MEMBER_UMI_COVERAGE_POS'].isnull()]\n",
    "#statsDF_inBOTH = statsDF.dropna(how='any',axis=0,subset=['LIBRARY_MEMBER_UMI_COVERAGE_POS','LIBRARY_MEMBER_UMI_COVERAGE_NEG'])"
   ]
  },
  {
   "cell_type": "code",
   "execution_count": null,
   "metadata": {
    "collapsed": true,
    "scrolled": false
   },
   "outputs": [],
   "source": [
    "# printDF(statsDF_inPOS  )\n",
    "# printDF(statsDF_inNEG  )\n",
    "# printDF(statsDF_inBOTH,50)"
   ]
  },
  {
   "cell_type": "markdown",
   "metadata": {},
   "source": [
    "<span style=\"color:blue\">• Fill NaNs in P_PLUS_AU_ABUNDANCE_MEDIAN and P_MINUS_AU_ABUNDANCE_MEDIAN with their respective minimums"
   ]
  },
  {
   "cell_type": "code",
   "execution_count": null,
   "metadata": {
    "collapsed": true
   },
   "outputs": [],
   "source": [
    "# statsDF['P_PLUS_AU_ABUNDANCE_MEDIAN' ] = statsDF['P_PLUS_AU_ABUNDANCE_MEDIAN'].fillna(statsDF['P_PLUS_AU_ABUNDANCE_MEDIAN' ].min())\n",
    "# statsDF['P_MINUS_AU_ABUNDANCE_MEDIAN'] = statsDF['P_MINUS_AU_ABUNDANCE_MEDIAN'].fillna(statsDF['P_MINUS_AU_ABUNDANCE_MEDIAN'].min())"
   ]
  },
  {
   "cell_type": "code",
   "execution_count": null,
   "metadata": {
    "collapsed": true
   },
   "outputs": [],
   "source": [
    "# print('Number of NaN in PLASMID_AU_ABUNDANCE_MEDIAN:', statsDF['PLASMID_AU_ABUNDANCE_MEDIAN'].isnull().sum())\n",
    "# print('Number of NaN in P_PLUS_AU_ABUNDANCE_MEDIAN (due to detection in P+ or P- only):', statsDF['P_PLUS_AU_ABUNDANCE_MEDIAN'].isnull().sum())\n",
    "# print('Number of NaN in P_MINUS_AU_ABUNDANCE_MEDIAN (due to detection in P+ or P- only):', statsDF['P_MINUS_AU_ABUNDANCE_MEDIAN'].isnull().sum())"
   ]
  },
  {
   "cell_type": "markdown",
   "metadata": {},
   "source": [
    "<span style=\"color:blue\">• Change αB values that are 0<x<1 to a fold change by dividing it by zero"
   ]
  },
  {
   "cell_type": "code",
   "execution_count": null,
   "metadata": {},
   "outputs": [],
   "source": [
    "decimal_to_negative_fold(statsDF_inBOTH, 'FOLD_PpSpm_MEAN')\n",
    "decimal_to_negative_fold(statsDF_inBOTH, 'FOLD_PpSpm_MEDIAN')\n",
    "decimal_to_negative_fold(statsDF_inPOS,  'FOLD_PpSpm_MEAN')\n",
    "decimal_to_negative_fold(statsDF_inPOS,  'FOLD_PpSpm_MEDIAN')\n",
    "decimal_to_negative_fold(statsDF_inNEG,  'FOLD_PpSpm_MEAN')\n",
    "decimal_to_negative_fold(statsDF_inNEG,  'FOLD_PpSpm_MEDIAN')\n"
   ]
  },
  {
   "cell_type": "code",
   "execution_count": null,
   "metadata": {
    "scrolled": false
   },
   "outputs": [],
   "source": [
    "print('statsDF_inBOTH[LIBRARY_MEMBER_UMI_COVERAGE_NEG].median() --  ', statsDF_inBOTH['LIBRARY_MEMBER_UMI_COVERAGE_NEG'].median())\n",
    "print('statsDF_inBOTH[LIBRARY_MEMBER_UMI_COVERAGE_POS].median() --  ', statsDF_inBOTH['LIBRARY_MEMBER_UMI_COVERAGE_POS'].median())\n",
    "\n",
    "\n",
    "# printDF(statsDF)\n",
    "# printDF(statsDF_inBOTH)\n"
   ]
  },
  {
   "cell_type": "markdown",
   "metadata": {},
   "source": [
    "<span style=\"color:blue\">• Ascribe a boolean value to LIBRARY_MEMBER_UMI_COVERAGE describing whether or not it higher than the threshold"
   ]
  },
  {
   "cell_type": "code",
   "execution_count": null,
   "metadata": {
    "scrolled": true
   },
   "outputs": [],
   "source": [
    "# Denote which members in POS are above the median or less than the median\n",
    "statsDF_inBOTH.loc[statsDF_inBOTH['LIBRARY_MEMBER_UMI_COVERAGE_POS']>=statsDF_inBOTH['LIBRARY_MEMBER_UMI_COVERAGE_POS'].median(),'LIBRARY_MEMBER_UMI_COVERAGE_POS_BOOLEAN'] = 'GREATER_THAN_MEDIAN'\n",
    "statsDF_inBOTH.loc[statsDF_inBOTH['LIBRARY_MEMBER_UMI_COVERAGE_POS']< statsDF_inBOTH['LIBRARY_MEMBER_UMI_COVERAGE_POS'].median(),'LIBRARY_MEMBER_UMI_COVERAGE_POS_BOOLEAN'] = 'LESS_THAN_MEDIAN'"
   ]
  },
  {
   "cell_type": "code",
   "execution_count": null,
   "metadata": {
    "scrolled": true
   },
   "outputs": [],
   "source": [
    "# Denote which members in NEG are above the median or less than the median\n",
    "statsDF_inBOTH.loc[statsDF_inBOTH['LIBRARY_MEMBER_UMI_COVERAGE_NEG']>=statsDF_inBOTH['LIBRARY_MEMBER_UMI_COVERAGE_NEG'].median(),'LIBRARY_MEMBER_UMI_COVERAGE_NEG_BOOLEAN'] = 'GREATER_THAN_MEDIAN'\n",
    "statsDF_inBOTH.loc[statsDF_inBOTH['LIBRARY_MEMBER_UMI_COVERAGE_NEG']< statsDF_inBOTH['LIBRARY_MEMBER_UMI_COVERAGE_NEG'].median(),'LIBRARY_MEMBER_UMI_COVERAGE_NEG_BOOLEAN'] = 'LESS_THAN_MEDIAN'"
   ]
  },
  {
   "cell_type": "code",
   "execution_count": null,
   "metadata": {
    "collapsed": true,
    "scrolled": false
   },
   "outputs": [],
   "source": [
    "# printDF(statsDF_inBOTH,50)"
   ]
  },
  {
   "cell_type": "markdown",
   "metadata": {},
   "source": [
    "# Plotting"
   ]
  },
  {
   "cell_type": "markdown",
   "metadata": {},
   "source": [
    "Must load these extensions to use R.\n",
    "\n",
    "**%%R -i** *dataframe imported* **-w** *width of plot* **-h** *height of plot* **-u** *units*"
   ]
  },
  {
   "cell_type": "code",
   "execution_count": 44,
   "metadata": {
    "collapsed": true
   },
   "outputs": [],
   "source": [
    "%load_ext rpy2.ipython"
   ]
  },
  {
   "cell_type": "code",
   "execution_count": 45,
   "metadata": {},
   "outputs": [
    {
     "data": {
      "text/plain": [
       "array(['ggplot2', 'tools', 'stats', 'graphics', 'grDevices', 'utils',\n",
       "       'datasets', 'methods', 'base'], \n",
       "      dtype='<U9')"
      ]
     },
     "execution_count": 45,
     "metadata": {},
     "output_type": "execute_result"
    }
   ],
   "source": [
    "%R library(ggplot2)"
   ]
  },
  {
   "cell_type": "markdown",
   "metadata": {},
   "source": [
    "# Assess UMI and Library Member Coverage"
   ]
  },
  {
   "cell_type": "code",
   "execution_count": 46,
   "metadata": {
    "collapsed": true
   },
   "outputs": [],
   "source": [
    "binspreadDF = pd.concat([binspreadDFpos, binspreadDFneg])"
   ]
  },
  {
   "cell_type": "code",
   "execution_count": 47,
   "metadata": {
    "collapsed": true
   },
   "outputs": [],
   "source": [
    "binspreadDFpos_corrP = binspreadDFpos.corr(method='pearson')\n",
    "binspreadDFpos_corrS = binspreadDFpos.corr(method='spearman')\n",
    "\n",
    "binspreadDFneg_corrP = binspreadDFneg.corr(method='pearson')\n",
    "binspreadDFneg_corrS = binspreadDFneg.corr(method='spearman')"
   ]
  },
  {
   "cell_type": "code",
   "execution_count": 49,
   "metadata": {},
   "outputs": [
    {
     "name": "stdout",
     "output_type": "stream",
     "text": [
      "nan\n",
      "\n",
      "\n",
      "\n",
      "\n",
      "\n",
      " ['binspreadDF'] \n",
      "\n",
      " Empty DataFrame\n",
      "Columns: [RNAME, FINAL_UMI, UMI_COVERAGE, BIN, GC_CONTENT]\n",
      "Index: [] \n",
      "\n",
      "\n",
      "\n",
      "\n",
      "\n",
      "\n",
      "\n",
      "\n",
      "\n",
      " ['binspreadDFpos_corrP'] \n",
      "\n",
      " Empty DataFrame\n",
      "Columns: []\n",
      "Index: [] \n",
      "\n",
      "\n",
      "\n",
      "\n",
      "\n",
      "\n",
      "\n",
      "\n",
      "\n",
      " ['binspreadDFpos_corrS'] \n",
      "\n",
      " Empty DataFrame\n",
      "Columns: []\n",
      "Index: [] \n",
      "\n",
      "\n",
      "\n",
      "\n",
      "\n",
      "\n",
      "\n",
      "\n",
      "\n",
      " ['binspreadDFneg_corrP'] \n",
      "\n",
      "               RNAME  FINAL_UMI  UMI_COVERAGE  BIN  GC_CONTENT\n",
      "RNAME           NaN        NaN           NaN  NaN         NaN\n",
      "FINAL_UMI       NaN        NaN           NaN  NaN         NaN\n",
      "UMI_COVERAGE    NaN        NaN           NaN  NaN         NaN\n",
      "BIN             NaN        NaN           NaN  NaN         NaN\n",
      "GC_CONTENT      NaN        NaN           NaN  NaN         NaN \n",
      "\n",
      "\n",
      "\n",
      "\n",
      "\n",
      "\n",
      "\n",
      "\n",
      "\n",
      " ['binspreadDFneg_corrS'] \n",
      "\n",
      "               RNAME  FINAL_UMI  UMI_COVERAGE  BIN  GC_CONTENT\n",
      "RNAME           NaN        NaN           NaN  NaN         NaN\n",
      "FINAL_UMI       NaN        NaN           NaN  NaN         NaN\n",
      "UMI_COVERAGE    NaN        NaN           NaN  NaN         NaN\n",
      "BIN             NaN        NaN           NaN  NaN         NaN\n",
      "GC_CONTENT      NaN        NaN           NaN  NaN         NaN \n",
      "\n",
      "\n",
      "\n",
      "\n"
     ]
    }
   ],
   "source": [
    "#print(binspreadDFpos['UMI_COVERAGE'].max())\n",
    "print(binspreadDFneg['UMI_COVERAGE'].max())\n",
    "printDF(binspreadDF)\n",
    "printDF(binspreadDFpos_corrP)\n",
    "printDF(binspreadDFpos_corrS)\n",
    "printDF(binspreadDFneg_corrP)\n",
    "printDF(binspreadDFneg_corrS)"
   ]
  },
  {
   "cell_type": "code",
   "execution_count": 51,
   "metadata": {},
   "outputs": [
    {
     "name": "stdout",
     "output_type": "stream",
     "text": [
      "\n",
      "\n",
      "\n",
      "\n",
      "\n",
      " ['binspreadDFneg'] \n",
      "\n",
      " Empty DataFrame\n",
      "Columns: [RNAME, FINAL_UMI, UMI_COVERAGE, BIN, GC_CONTENT]\n",
      "Index: [] \n",
      "\n",
      "\n",
      "\n",
      "\n"
     ]
    }
   ],
   "source": [
    "printDF(binspreadDFneg)"
   ]
  },
  {
   "cell_type": "markdown",
   "metadata": {},
   "source": [
    "<span style=\"color:blue\">• What does the distribution of frequencies look like when considering umi-stem marriages?\n"
   ]
  },
  {
   "cell_type": "code",
   "execution_count": 54,
   "metadata": {},
   "outputs": [
    {
     "name": "stderr",
     "output_type": "stream",
     "text": [
      "/Users/josephsolvason/miniconda3/lib/python3.6/site-packages/rpy2/rinterface/__init__.py:186: RRuntimeWarning: Warning:\n",
      "  warnings.warn(x, RRuntimeWarning)\n",
      "/Users/josephsolvason/miniconda3/lib/python3.6/site-packages/rpy2/rinterface/__init__.py:186: RRuntimeWarning:  Ignoring unknown parameters: binwidth, bins, pad\n",
      "\n",
      "  warnings.warn(x, RRuntimeWarning)\n",
      "/Users/josephsolvason/miniconda3/lib/python3.6/site-packages/rpy2/rinterface/__init__.py:186: RRuntimeWarning: Error in eval(expr, envir, enclos) : object 'UMI_COVERAGE' not found\n",
      "\n",
      "  warnings.warn(x, RRuntimeWarning)\n"
     ]
    },
    {
     "ename": "RRuntimeError",
     "evalue": "Error in eval(expr, envir, enclos) : object 'UMI_COVERAGE' not found\n",
     "output_type": "error",
     "traceback": [
      "\u001b[0;31m---------------------------------------------------------------------------\u001b[0m",
      "\u001b[0;31mRRuntimeError\u001b[0m                             Traceback (most recent call last)",
      "\u001b[0;32m<ipython-input-54-3955552081c0>\u001b[0m in \u001b[0;36m<module>\u001b[0;34m()\u001b[0m\n\u001b[0;32m----> 1\u001b[0;31m \u001b[0mget_ipython\u001b[0m\u001b[0;34m(\u001b[0m\u001b[0;34m)\u001b[0m\u001b[0;34m.\u001b[0m\u001b[0mrun_cell_magic\u001b[0m\u001b[0;34m(\u001b[0m\u001b[0;34m'R'\u001b[0m\u001b[0;34m,\u001b[0m \u001b[0;34m'-i binspreadDFpos -i aptamer -w 950 -h 700 -u px'\u001b[0m\u001b[0;34m,\u001b[0m \u001b[0;34m'\\nggplot(binspreadDFpos, aes(x=UMI_COVERAGE)) +\\n    geom_histogram(stat=\\'count\\',binwidth = 1) +\\n    labs(title=\"UMI Coverage Analysis\",\\n         subtitle=paste(\\'P+S+ Fat \\',aptamer,sep=\\'\\'),\\n         x=\"\\\\nCount of UMI-Member Marriage\\\\n\", \\n         y=\"Frequency\\\\n\") +\\n    xlim(c(0,225)) +\\n    scale_y_continuous(breaks = seq(0,100000, by = 10000),limits=c(0,80000)) +\\n    theme(axis.text=element_text(size=18),\\n        axis.title=element_text(size=28,face=\"bold\"),\\n        plot.title=element_text(size=32,face=\"bold\"),\\n        plot.subtitle=element_text(size=30),\\n        plot.caption=element_text(size=12),\\n        legend.title=element_text(size=17),\\n        legend.text=element_text(size=12))'\u001b[0m\u001b[0;34m)\u001b[0m\u001b[0;34m\u001b[0m\u001b[0m\n\u001b[0m",
      "\u001b[0;32m~/miniconda3/lib/python3.6/site-packages/IPython/core/interactiveshell.py\u001b[0m in \u001b[0;36mrun_cell_magic\u001b[0;34m(self, magic_name, line, cell)\u001b[0m\n\u001b[1;32m   2101\u001b[0m             \u001b[0mmagic_arg_s\u001b[0m \u001b[0;34m=\u001b[0m \u001b[0mself\u001b[0m\u001b[0;34m.\u001b[0m\u001b[0mvar_expand\u001b[0m\u001b[0;34m(\u001b[0m\u001b[0mline\u001b[0m\u001b[0;34m,\u001b[0m \u001b[0mstack_depth\u001b[0m\u001b[0;34m)\u001b[0m\u001b[0;34m\u001b[0m\u001b[0m\n\u001b[1;32m   2102\u001b[0m             \u001b[0;32mwith\u001b[0m \u001b[0mself\u001b[0m\u001b[0;34m.\u001b[0m\u001b[0mbuiltin_trap\u001b[0m\u001b[0;34m:\u001b[0m\u001b[0;34m\u001b[0m\u001b[0m\n\u001b[0;32m-> 2103\u001b[0;31m                 \u001b[0mresult\u001b[0m \u001b[0;34m=\u001b[0m \u001b[0mfn\u001b[0m\u001b[0;34m(\u001b[0m\u001b[0mmagic_arg_s\u001b[0m\u001b[0;34m,\u001b[0m \u001b[0mcell\u001b[0m\u001b[0;34m)\u001b[0m\u001b[0;34m\u001b[0m\u001b[0m\n\u001b[0m\u001b[1;32m   2104\u001b[0m             \u001b[0;32mreturn\u001b[0m \u001b[0mresult\u001b[0m\u001b[0;34m\u001b[0m\u001b[0m\n\u001b[1;32m   2105\u001b[0m \u001b[0;34m\u001b[0m\u001b[0m\n",
      "\u001b[0;32m<decorator-gen-129>\u001b[0m in \u001b[0;36mR\u001b[0;34m(self, line, cell, local_ns)\u001b[0m\n",
      "\u001b[0;32m~/miniconda3/lib/python3.6/site-packages/IPython/core/magic.py\u001b[0m in \u001b[0;36m<lambda>\u001b[0;34m(f, *a, **k)\u001b[0m\n\u001b[1;32m    185\u001b[0m     \u001b[0;31m# but it's overkill for just that one bit of state.\u001b[0m\u001b[0;34m\u001b[0m\u001b[0;34m\u001b[0m\u001b[0m\n\u001b[1;32m    186\u001b[0m     \u001b[0;32mdef\u001b[0m \u001b[0mmagic_deco\u001b[0m\u001b[0;34m(\u001b[0m\u001b[0marg\u001b[0m\u001b[0;34m)\u001b[0m\u001b[0;34m:\u001b[0m\u001b[0;34m\u001b[0m\u001b[0m\n\u001b[0;32m--> 187\u001b[0;31m         \u001b[0mcall\u001b[0m \u001b[0;34m=\u001b[0m \u001b[0;32mlambda\u001b[0m \u001b[0mf\u001b[0m\u001b[0;34m,\u001b[0m \u001b[0;34m*\u001b[0m\u001b[0ma\u001b[0m\u001b[0;34m,\u001b[0m \u001b[0;34m**\u001b[0m\u001b[0mk\u001b[0m\u001b[0;34m:\u001b[0m \u001b[0mf\u001b[0m\u001b[0;34m(\u001b[0m\u001b[0;34m*\u001b[0m\u001b[0ma\u001b[0m\u001b[0;34m,\u001b[0m \u001b[0;34m**\u001b[0m\u001b[0mk\u001b[0m\u001b[0;34m)\u001b[0m\u001b[0;34m\u001b[0m\u001b[0m\n\u001b[0m\u001b[1;32m    188\u001b[0m \u001b[0;34m\u001b[0m\u001b[0m\n\u001b[1;32m    189\u001b[0m         \u001b[0;32mif\u001b[0m \u001b[0mcallable\u001b[0m\u001b[0;34m(\u001b[0m\u001b[0marg\u001b[0m\u001b[0;34m)\u001b[0m\u001b[0;34m:\u001b[0m\u001b[0;34m\u001b[0m\u001b[0m\n",
      "\u001b[0;32m~/miniconda3/lib/python3.6/site-packages/rpy2/ipython/rmagic.py\u001b[0m in \u001b[0;36mR\u001b[0;34m(self, line, cell, local_ns)\u001b[0m\n\u001b[1;32m    680\u001b[0m                     \u001b[0mold_writeconsole_regular\u001b[0m \u001b[0;34m=\u001b[0m \u001b[0mri\u001b[0m\u001b[0;34m.\u001b[0m\u001b[0mget_writeconsole_regular\u001b[0m\u001b[0;34m(\u001b[0m\u001b[0;34m)\u001b[0m\u001b[0;34m\u001b[0m\u001b[0m\n\u001b[1;32m    681\u001b[0m                     \u001b[0mri\u001b[0m\u001b[0;34m.\u001b[0m\u001b[0mset_writeconsole_regular\u001b[0m\u001b[0;34m(\u001b[0m\u001b[0mself\u001b[0m\u001b[0;34m.\u001b[0m\u001b[0mwrite_console_regular\u001b[0m\u001b[0;34m)\u001b[0m\u001b[0;34m\u001b[0m\u001b[0m\n\u001b[0;32m--> 682\u001b[0;31m                     \u001b[0mro\u001b[0m\u001b[0;34m.\u001b[0m\u001b[0mr\u001b[0m\u001b[0;34m.\u001b[0m\u001b[0mshow\u001b[0m\u001b[0;34m(\u001b[0m\u001b[0mresult\u001b[0m\u001b[0;34m)\u001b[0m\u001b[0;34m\u001b[0m\u001b[0m\n\u001b[0m\u001b[1;32m    683\u001b[0m                     \u001b[0mtext_output\u001b[0m \u001b[0;34m+=\u001b[0m \u001b[0mself\u001b[0m\u001b[0;34m.\u001b[0m\u001b[0mflush\u001b[0m\u001b[0;34m(\u001b[0m\u001b[0;34m)\u001b[0m\u001b[0;34m\u001b[0m\u001b[0m\n\u001b[1;32m    684\u001b[0m                     \u001b[0mri\u001b[0m\u001b[0;34m.\u001b[0m\u001b[0mset_writeconsole_regular\u001b[0m\u001b[0;34m(\u001b[0m\u001b[0mold_writeconsole_regular\u001b[0m\u001b[0;34m)\u001b[0m\u001b[0;34m\u001b[0m\u001b[0m\n",
      "\u001b[0;32m~/miniconda3/lib/python3.6/site-packages/rpy2/robjects/functions.py\u001b[0m in \u001b[0;36m__call__\u001b[0;34m(self, *args, **kwargs)\u001b[0m\n\u001b[1;32m    176\u001b[0m                 \u001b[0mv\u001b[0m \u001b[0;34m=\u001b[0m \u001b[0mkwargs\u001b[0m\u001b[0;34m.\u001b[0m\u001b[0mpop\u001b[0m\u001b[0;34m(\u001b[0m\u001b[0mk\u001b[0m\u001b[0;34m)\u001b[0m\u001b[0;34m\u001b[0m\u001b[0m\n\u001b[1;32m    177\u001b[0m                 \u001b[0mkwargs\u001b[0m\u001b[0;34m[\u001b[0m\u001b[0mr_k\u001b[0m\u001b[0;34m]\u001b[0m \u001b[0;34m=\u001b[0m \u001b[0mv\u001b[0m\u001b[0;34m\u001b[0m\u001b[0m\n\u001b[0;32m--> 178\u001b[0;31m         \u001b[0;32mreturn\u001b[0m \u001b[0msuper\u001b[0m\u001b[0;34m(\u001b[0m\u001b[0mSignatureTranslatedFunction\u001b[0m\u001b[0;34m,\u001b[0m \u001b[0mself\u001b[0m\u001b[0;34m)\u001b[0m\u001b[0;34m.\u001b[0m\u001b[0m__call__\u001b[0m\u001b[0;34m(\u001b[0m\u001b[0;34m*\u001b[0m\u001b[0margs\u001b[0m\u001b[0;34m,\u001b[0m \u001b[0;34m**\u001b[0m\u001b[0mkwargs\u001b[0m\u001b[0;34m)\u001b[0m\u001b[0;34m\u001b[0m\u001b[0m\n\u001b[0m\u001b[1;32m    179\u001b[0m \u001b[0;34m\u001b[0m\u001b[0m\n\u001b[1;32m    180\u001b[0m \u001b[0mpattern_link\u001b[0m \u001b[0;34m=\u001b[0m \u001b[0mre\u001b[0m\u001b[0;34m.\u001b[0m\u001b[0mcompile\u001b[0m\u001b[0;34m(\u001b[0m\u001b[0;34mr'\\\\link\\{(.+?)\\}'\u001b[0m\u001b[0;34m)\u001b[0m\u001b[0;34m\u001b[0m\u001b[0m\n",
      "\u001b[0;32m~/miniconda3/lib/python3.6/site-packages/rpy2/robjects/functions.py\u001b[0m in \u001b[0;36m__call__\u001b[0;34m(self, *args, **kwargs)\u001b[0m\n\u001b[1;32m    104\u001b[0m         \u001b[0;32mfor\u001b[0m \u001b[0mk\u001b[0m\u001b[0;34m,\u001b[0m \u001b[0mv\u001b[0m \u001b[0;32min\u001b[0m \u001b[0mkwargs\u001b[0m\u001b[0;34m.\u001b[0m\u001b[0mitems\u001b[0m\u001b[0;34m(\u001b[0m\u001b[0;34m)\u001b[0m\u001b[0;34m:\u001b[0m\u001b[0;34m\u001b[0m\u001b[0m\n\u001b[1;32m    105\u001b[0m             \u001b[0mnew_kwargs\u001b[0m\u001b[0;34m[\u001b[0m\u001b[0mk\u001b[0m\u001b[0;34m]\u001b[0m \u001b[0;34m=\u001b[0m \u001b[0mconversion\u001b[0m\u001b[0;34m.\u001b[0m\u001b[0mpy2ri\u001b[0m\u001b[0;34m(\u001b[0m\u001b[0mv\u001b[0m\u001b[0;34m)\u001b[0m\u001b[0;34m\u001b[0m\u001b[0m\n\u001b[0;32m--> 106\u001b[0;31m         \u001b[0mres\u001b[0m \u001b[0;34m=\u001b[0m \u001b[0msuper\u001b[0m\u001b[0;34m(\u001b[0m\u001b[0mFunction\u001b[0m\u001b[0;34m,\u001b[0m \u001b[0mself\u001b[0m\u001b[0;34m)\u001b[0m\u001b[0;34m.\u001b[0m\u001b[0m__call__\u001b[0m\u001b[0;34m(\u001b[0m\u001b[0;34m*\u001b[0m\u001b[0mnew_args\u001b[0m\u001b[0;34m,\u001b[0m \u001b[0;34m**\u001b[0m\u001b[0mnew_kwargs\u001b[0m\u001b[0;34m)\u001b[0m\u001b[0;34m\u001b[0m\u001b[0m\n\u001b[0m\u001b[1;32m    107\u001b[0m         \u001b[0mres\u001b[0m \u001b[0;34m=\u001b[0m \u001b[0mconversion\u001b[0m\u001b[0;34m.\u001b[0m\u001b[0mri2ro\u001b[0m\u001b[0;34m(\u001b[0m\u001b[0mres\u001b[0m\u001b[0;34m)\u001b[0m\u001b[0;34m\u001b[0m\u001b[0m\n\u001b[1;32m    108\u001b[0m         \u001b[0;32mreturn\u001b[0m \u001b[0mres\u001b[0m\u001b[0;34m\u001b[0m\u001b[0m\n",
      "\u001b[0;31mRRuntimeError\u001b[0m: Error in eval(expr, envir, enclos) : object 'UMI_COVERAGE' not found\n"
     ]
    }
   ],
   "source": [
    "%%R -i binspreadDFpos -i aptamer -w 950 -h 700 -u px\n",
    "\n",
    "ggplot(binspreadDFpos, aes(x=UMI_COVERAGE)) +\n",
    "    geom_histogram(stat='count',binwidth = 1) +\n",
    "    labs(title=\"UMI Coverage Analysis\",\n",
    "         subtitle=paste('P+S+ Fat ',aptamer,sep=''),\n",
    "         x=\"\\nCount of UMI-Member Marriage\\n\", \n",
    "         y=\"Frequency\\n\") +\n",
    "    xlim(c(0,225)) +\n",
    "    scale_y_continuous(breaks = seq(0,100000, by = 10000),limits=c(0,80000)) +\n",
    "    theme(axis.text=element_text(size=18),\n",
    "        axis.title=element_text(size=28,face=\"bold\"),\n",
    "        plot.title=element_text(size=32,face=\"bold\"),\n",
    "        plot.subtitle=element_text(size=30),\n",
    "        plot.caption=element_text(size=12),\n",
    "        legend.title=element_text(size=17),\n",
    "        legend.text=element_text(size=12))"
   ]
  },
  {
   "cell_type": "code",
   "execution_count": 50,
   "metadata": {},
   "outputs": [
    {
     "name": "stderr",
     "output_type": "stream",
     "text": [
      "/Users/josephsolvason/miniconda3/lib/python3.6/site-packages/rpy2/rinterface/__init__.py:186: RRuntimeWarning: Warning:\n",
      "  warnings.warn(x, RRuntimeWarning)\n",
      "/Users/josephsolvason/miniconda3/lib/python3.6/site-packages/rpy2/rinterface/__init__.py:186: RRuntimeWarning:  Ignoring unknown parameters: binwidth, bins, pad\n",
      "\n",
      "  warnings.warn(x, RRuntimeWarning)\n"
     ]
    },
    {
     "data": {
      "image/png": "[encoded data removed]"
     },
     "metadata": {},
     "output_type": "display_data"
    }
   ],
   "source": [
    "%%R -i binspreadDFneg -i aptamer -w 950 -h 700 -u px\n",
    "\n",
    "ggplot(binspreadDFneg, aes(x=UMI_COVERAGE)) +\n",
    "    geom_histogram(stat='count',binwidth = 1) +\n",
    "    labs(title=\"UMI Coverage Analysis\",\n",
    "         subtitle=paste('P+S- Fat ',aptamer,'\\n',sep=''),\n",
    "         x=\"\\nCount of UMI-Member Marriage\\n\", \n",
    "         y=\"Frequency\\n\") +\n",
    "    xlim(c(0,225)) +\n",
    "    scale_y_continuous(breaks = seq(0,100000, by = 10000),limits=c(0,80000)) +\n",
    "    theme(axis.text=element_text(size=18),\n",
    "        axis.title=element_text(size=28,face=\"bold\"),\n",
    "        plot.title=element_text(size=32,face=\"bold\"),\n",
    "        plot.subtitle=element_text(size=30),\n",
    "        plot.caption=element_text(size=12),\n",
    "        legend.title=element_text(size=17),\n",
    "        legend.text=element_text(size=12))"
   ]
  },
  {
   "cell_type": "code",
   "execution_count": null,
   "metadata": {},
   "outputs": [],
   "source": [
    "%%R -i statsDF_inBOTH -i aptamer -w 950 -h 700 -u px\n",
    "\n",
    "ggplot(statsDF_inBOTH, aes(x=LIBRARY_MEMBER_UMI_COVERAGE_POS)) +\n",
    "    geom_histogram(stat='count',binwidth = 1) +\n",
    "    labs(title=\"Distribution of Coverage\",\n",
    "         subtitle=paste('Using UMIs\\nP+S+ Fat ',aptamer,'\\n',sep=''),\n",
    "         x=\"\\nCount of UMI-Member Marriage\\n\", \n",
    "         y=\"Frequency\\n\") +\n",
    "    xlim(c(0,225)) +\n",
    "    scale_y_continuous(breaks = seq(0,100000, by = 100),limits=c(0,500)) +\n",
    "    theme(axis.text=element_text(size=18),\n",
    "        axis.title=element_text(size=28,face=\"bold\"),\n",
    "        plot.title=element_text(size=32,face=\"bold\"),\n",
    "        plot.subtitle=element_text(size=30),\n",
    "        plot.caption=element_text(size=12),\n",
    "        legend.title=element_text(size=17),\n",
    "        legend.text=element_text(size=12))"
   ]
  },
  {
   "cell_type": "code",
   "execution_count": null,
   "metadata": {},
   "outputs": [],
   "source": [
    "%%R -i statsDF_inBOTH -i aptamer -w 950 -h 700 -u px\n",
    "\n",
    "ggplot(statsDF_inBOTH, aes(x=LIBRARY_MEMBER_UMI_COVERAGE_NEG)) +\n",
    "    geom_histogram(stat='count',binwidth = 1) +\n",
    "    labs(title=\"Distribution of Coverage\",\n",
    "         subtitle=paste('Using UMIs\\nP+S- Fat ',aptamer,'\\n',sep=''),\n",
    "         x=\"\\nCount of UMI-Member Marriage\\n\", \n",
    "         y=\"Frequency\\n\") +\n",
    "    xlim(c(0,225)) +\n",
    "    scale_y_continuous(breaks = seq(0,100000, by = 100),limits=c(0,500)) +\n",
    "    theme(axis.text=element_text(size=18),\n",
    "        axis.title=element_text(size=28,face=\"bold\"),\n",
    "        plot.title=element_text(size=32,face=\"bold\"),\n",
    "        plot.subtitle=element_text(size=30),\n",
    "        plot.caption=element_text(size=12),\n",
    "        legend.title=element_text(size=17),\n",
    "        legend.text=element_text(size=12))"
   ]
  },
  {
   "cell_type": "markdown",
   "metadata": {},
   "source": [
    "<span style=\"color:blue\">• How does GC bias affect umi amplification?"
   ]
  },
  {
   "cell_type": "code",
   "execution_count": null,
   "metadata": {},
   "outputs": [],
   "source": [
    "%%R -i binspreadDFpos -i aptamer -w 800 -h 800 -u px\n",
    "\n",
    "\n",
    "ggplot(binspreadDFpos, aes(x=GC_CONTENT,y=UMI_COVERAGE)) +\n",
    "    stat_density2d(aes(fill=..level..,alpha=..level..),geom='polygon',colour='black') + \n",
    "    scale_fill_continuous(low=\"green\",high=\"red\") +\n",
    "    geom_smooth(method=lm,linetype=2,colour=\"red\",se=F) + \n",
    "    guides(alpha=\"none\") +\n",
    "    geom_point() +\n",
    "    labs(title='Correlation Between UMI GC Content and UMI Count', \n",
    "         subtitle=paste('P+S+ Fat ',aptamer, sep=''), \n",
    "         x='\\nGC Content of UMI',\n",
    "         y='Count of UMI\\n') +\n",
    "    scale_x_continuous(breaks = seq(0,1, by = .1),limits=c(0,1)) +\n",
    "    scale_y_continuous(breaks = seq(0,1000, by = 50),limits=c(0,250)) +\n",
    "    theme(axis.text=element_text(size=28),\n",
    "        axis.title=element_text(size=28,face=\"bold\"),\n",
    "        plot.title=element_text(size=22,face=\"bold\"),\n",
    "        plot.subtitle=element_text(size=25),\n",
    "        legend.title=element_text(size=17),\n",
    "        legend.text=element_text(size=12))"
   ]
  },
  {
   "cell_type": "code",
   "execution_count": 55,
   "metadata": {},
   "outputs": [
    {
     "data": {
      "image/png": "[encoded data removed]"
     },
     "metadata": {},
     "output_type": "display_data"
    }
   ],
   "source": [
    "%%R -i binspreadDFneg -i aptamer -w 800 -h 800 -u px\n",
    "\n",
    "\n",
    "ggplot(binspreadDFneg, aes(x=GC_CONTENT,y=UMI_COVERAGE)) +\n",
    "    stat_density2d(aes(fill=..level..,alpha=..level..),geom='polygon',colour='black') + \n",
    "    scale_fill_continuous(low=\"green\",high=\"red\") +\n",
    "    geom_smooth(method=lm,linetype=2,colour=\"red\",se=F) + \n",
    "    guides(alpha=\"none\") +\n",
    "    geom_point() +\n",
    "    labs(title='Correlation Between UMI GC Content and UMI Count', \n",
    "         subtitle=paste('P+S- Fat ',aptamer, sep=''), \n",
    "         x='\\nGC Content of UMI',\n",
    "         y='Count of UMI\\n') +\n",
    "    scale_x_continuous(breaks = seq(0,1, by = .1),limits=c(0,1)) +\n",
    "    scale_y_continuous(breaks = seq(0,1000, by = 50),limits=c(0,250)) +\n",
    "    theme(axis.text=element_text(size=28),\n",
    "        axis.title=element_text(size=28,face=\"bold\"),\n",
    "        plot.title=element_text(size=22,face=\"bold\"),\n",
    "        plot.subtitle=element_text(size=25),\n",
    "        legend.title=element_text(size=17),\n",
    "        legend.text=element_text(size=12))"
   ]
  },
  {
   "cell_type": "code",
   "execution_count": null,
   "metadata": {},
   "outputs": [],
   "source": [
    "%%R -i binspreadDFpos -i aptamer -w 800 -h 800 -u px\n",
    "\n",
    "# Does GC content of UMI correlate with higher count of UMI?\n",
    "\n",
    "title = 'Correlation Between UMI GC Content and UMI Count'\n",
    "subtitle = paste(aptamer,'\\nData from P+ and P-', sep='')\n",
    "\n",
    "ggplot(binspreadDFpos, aes(x=GC_CONTENT,y=UMI_COVERAGE)) +\n",
    "    stat_density_2d(geom = \"point\", aes(size = ..density..), n = 20, contour = FALSE) +\n",
    "    labs(title=title, subtitle=subtitle, x='\\nGC Content of UMI',y='Count of UMI\\n') +\n",
    "    scale_x_continuous(breaks = seq(0,1, by = .1),limits=c(0,1)) +\n",
    "    scale_y_continuous(breaks = seq(0,1000, by = 50),limits=c(0,250)) +\n",
    "    theme(axis.text=element_text(size=28),\n",
    "        axis.title=element_text(size=28,face=\"bold\"),\n",
    "        plot.title=element_text(size=22,face=\"bold\"),\n",
    "        plot.subtitle=element_text(size=25),\n",
    "        legend.title=element_text(size=17),\n",
    "        legend.text=element_text(size=12))"
   ]
  },
  {
   "cell_type": "code",
   "execution_count": null,
   "metadata": {},
   "outputs": [],
   "source": [
    "%%R -i binspreadDFneg -i aptamer -w 800 -h 800 -u px\n",
    "\n",
    "# Does GC content of UMI correlate with higher count of UMI?\n",
    "\n",
    "title = 'Correlation Between UMI GC Content and UMI Count'\n",
    "subtitle = paste(aptamer,'\\nData from P+ and P-', sep='')\n",
    "\n",
    "ggplot(binspreadDFneg, aes(x=GC_CONTENT,y=UMI_COVERAGE)) +\n",
    "    stat_density_2d(geom = \"point\", aes(size = ..density..), n = 20, contour = FALSE) +\n",
    "    labs(title=title, subtitle=subtitle, x='\\nGC Content of UMI',y='Count of UMI\\n') +\n",
    "    scale_x_continuous(breaks = seq(0,1, by = .1),limits=c(0,1)) +\n",
    "    scale_y_continuous(breaks = seq(0,1000, by = 50),limits=c(0,250)) +\n",
    "    theme(axis.text=element_text(size=28),\n",
    "        axis.title=element_text(size=28,face=\"bold\"),\n",
    "        plot.title=element_text(size=22,face=\"bold\"),\n",
    "        plot.subtitle=element_text(size=25),\n",
    "        legend.title=element_text(size=17),\n",
    "        legend.text=element_text(size=12))"
   ]
  },
  {
   "cell_type": "markdown",
   "metadata": {},
   "source": [
    "<span style=\"color:blue\">• Does the bin correlate with the read coverage?"
   ]
  },
  {
   "cell_type": "code",
   "execution_count": null,
   "metadata": {},
   "outputs": [],
   "source": [
    "%%R -i binspreadDFpos -i aptamer -w 800 -h 800 -u px\n",
    "\n",
    "\n",
    "ggplot(binspreadDFpos, aes(x=BIN,y=UMI_COVERAGE)) +\n",
    "    stat_density2d(aes(fill=..level..,alpha=..level..),geom='polygon',colour='black') + \n",
    "    scale_fill_continuous(low=\"green\",high=\"red\") +\n",
    "    geom_smooth(method=lm,linetype=2,colour=\"red\",se=F) + \n",
    "    guides(alpha=\"none\") +\n",
    "    geom_point() +\n",
    "    labs(title='Correlation Between UMI GC Content and UMI Count', \n",
    "         subtitle=paste('P+S+ Fat ',aptamer, sep=''), \n",
    "         x='\\nGC Content of UMI',\n",
    "         y='Count of UMI\\n') +\n",
    "    scale_x_continuous(breaks = seq(0,10, by = 1),limits=c(0,9)) +\n",
    "    scale_y_continuous(breaks = seq(0,1000, by = 50),limits=c(0,250)) +\n",
    "    theme(axis.text=element_text(size=28),\n",
    "        axis.title=element_text(size=28,face=\"bold\"),\n",
    "        plot.title=element_text(size=22,face=\"bold\"),\n",
    "        plot.subtitle=element_text(size=25),\n",
    "        legend.title=element_text(size=17),\n",
    "        legend.text=element_text(size=12))"
   ]
  },
  {
   "cell_type": "code",
   "execution_count": null,
   "metadata": {},
   "outputs": [],
   "source": [
    "%%R -i binspreadDFpos -i aptamer -w 2000 -h 800 -u px\n",
    "\n",
    "binspreadDFpos$BIN = factor(binspreadDFpos$BIN, levels = c(\"1\", \"2\", \"3\", \"4\",'5','6','7','8'))\n",
    "\n",
    "ggplot(binspreadDFpos, aes(x=BIN,y=UMI_COVERAGE)) +\n",
    "    geom_violin(adjust=.5) +\n",
    "    labs(title='Correlation Between UMI GC Content and UMI Count', \n",
    "         subtitle=paste('P+S+ Fat ',aptamer, sep=''), \n",
    "         x='\\nGC Content of UMI',\n",
    "         y='Count of UMI\\n') +\n",
    "    scale_y_continuous(breaks = seq(0,1000, by = 50),limits=c(0,250)) +\n",
    "    scale_x_discrete(lab= c(\"1\", \"2\", \"3\", \"4\",'5','6','7','8')) +\n",
    "    theme(axis.text=element_text(size=28),\n",
    "        axis.title=element_text(size=28,face=\"bold\"),\n",
    "        plot.title=element_text(size=32,face=\"bold\"),\n",
    "        plot.subtitle=element_text(size=18),\n",
    "        legend.title=element_text(size=17),\n",
    "        legend.text=element_text(size=12))\n"
   ]
  },
  {
   "cell_type": "markdown",
   "metadata": {
    "collapsed": true
   },
   "source": [
    "1. **ΔB > 0**  corresponds to a high functioning **on-switch**\n",
    "\n",
    "2. **ΔB < 0** corresponds to a high functioning **off-switch**\n",
    "\n",
    "1. **αB > 1**  corresponds to a high functioning **on-switch**\n",
    "\n",
    "2. **αB < 1** corresponds to a high functioning **off-switch**\n",
    "\n",
    "To investigate how the library of switches performed and the prevelances of on- and off-switches, we will graph the Δ for all library members where...\n",
    "\n",
    "        ΔΒ = bin_mean(+FAR) - bin_mean(-FAR)\n",
    "        αB = bin_mean(+FAR) ÷ bin_mean(+FAR)"
   ]
  },
  {
   "cell_type": "markdown",
   "metadata": {},
   "source": [
    "# Screen for (1) high dynamic range (2) low basal"
   ]
  },
  {
   "cell_type": "code",
   "execution_count": null,
   "metadata": {
    "collapsed": true
   },
   "outputs": [],
   "source": [
    "# Relevant DFs\n",
    "# print(statsDF_inboth.head())\n"
   ]
  },
  {
   "cell_type": "markdown",
   "metadata": {},
   "source": [
    "<span style='color:red'>MAKE SURE YOU CHANGE DATE!!"
   ]
  },
  {
   "cell_type": "code",
   "execution_count": null,
   "metadata": {
    "collapsed": true
   },
   "outputs": [],
   "source": [
    "date = '170825'"
   ]
  },
  {
   "cell_type": "markdown",
   "metadata": {},
   "source": [
    "<span style=\"color:blue\">• Designate which switches are on-switches and which are off"
   ]
  },
  {
   "cell_type": "code",
   "execution_count": null,
   "metadata": {
    "collapsed": true
   },
   "outputs": [],
   "source": [
    "def designate_switch_type(df):\n",
    "    '''\n",
    "    INPUT: \n",
    "        df to designate switch types\n",
    "        \n",
    "    OUTPUT: \n",
    "        Will add correct switch type for both FOLD and DELTA metrics wrt MEAN and MEDIAN\n",
    "    \n",
    "    ASSUMPTION: since any ΔB is positive will also yield a positive αB, we do not need to calculate a switch type for both metrics.\n",
    "    '''\n",
    "    # off switches ΔB > 0\n",
    "    df.loc[df['DELTA_PpSpm_MEDIAN']  > 0  ,'SWITCH_TYPE_MEDIAN'] = 'Off-switch'\n",
    "\n",
    "    # On switches ΔB < 0\n",
    "    df.loc[df['DELTA_PpSpm_MEDIAN']  < 0  ,'SWITCH_TYPE_MEDIAN'] = 'On-switch'\n",
    "\n"
   ]
  },
  {
   "cell_type": "code",
   "execution_count": null,
   "metadata": {},
   "outputs": [],
   "source": [
    "designate_switch_type(statsDF_inBOTH)\n",
    "designate_switch_type(statsDF_inPOS)\n",
    "designate_switch_type(statsDF_inNEG)\n"
   ]
  },
  {
   "cell_type": "code",
   "execution_count": null,
   "metadata": {
    "collapsed": true
   },
   "outputs": [],
   "source": [
    "statsDF_inBOTH_off  = statsDF_inBOTH[statsDF_inBOTH['SWITCH_TYPE_MEDIAN'  ]=='Off-switch']\n",
    "statsDF_inBOTH_on   = statsDF_inBOTH[statsDF_inBOTH['SWITCH_TYPE_MEDIAN'  ]=='On-switch']"
   ]
  },
  {
   "cell_type": "code",
   "execution_count": null,
   "metadata": {
    "scrolled": false
   },
   "outputs": [],
   "source": [
    "printDF(statsDF_inBOTH)\n",
    "# printDF(statsDF_inBOTH_off) \n",
    "# printDF(statsDF_inBOTH_on)  "
   ]
  },
  {
   "cell_type": "markdown",
   "metadata": {},
   "source": [
    "<span style=\"color:blue\">• Screen switches..."
   ]
  },
  {
   "cell_type": "markdown",
   "metadata": {},
   "source": [
    "1. <span style=\"color:blue\">Filter library members, retaining only members with umi_coverage_pos and umi_coverage_neg greater than the median.</span>\n",
    "2. <span style=\"color:blue\">Sort the entire list by αB (descending; higher αB is desireable)</span>\n",
    "3. <span style=\"color:blue\">Set boundaries in the DF by binning αB</span>\n",
    "4. <span style=\"color:blue\">Sort by median bin in cleavage state (ascending; lower basal is desireable)</span>"
   ]
  },
  {
   "cell_type": "code",
   "execution_count": null,
   "metadata": {
    "collapsed": true
   },
   "outputs": [],
   "source": [
    "# NOTE!! If bin label has disappeared from the excel sheet at a certain point, it is most likely that the values in the excel sheet exceeded the number of bins there were\n",
    "def bin_and_order_basal(\\\n",
    "                  offDF,\\\n",
    "                  onDF,\\\n",
    "                  number_keep,\\\n",
    "                  bins,\\\n",
    "                  round_bin_name,\\\n",
    "                  directory,\\\n",
    "                  minimum_lib_coverage,\\\n",
    "                  offDF_fname,\\\n",
    "                  onDF_fname,\\\n",
    "                  offDF_fname_100,\\\n",
    "                  onDF_fname_100):\n",
    "    '''\n",
    "    INPUT\n",
    "        offDF,off-switch data frame\n",
    "        onDF, on switch data frame\n",
    "        number_keep, number of members to keep in the 'best of' .tsv file\n",
    "        bins, bins for soting αB\n",
    "        round_bin_name, extent to round for bin names\n",
    "        directory, where to save files?\n",
    "        minimum_lib_coverage, what is the minimum library coverage to consider the member statistically significant\n",
    "             \n",
    "    OUTPUT\n",
    "        several tsv files based on the screen\n",
    "    \n",
    "    \n",
    "    '''\n",
    "    \n",
    "    \n",
    "    # =====================\n",
    "    # 1. Filter library members, retaining only members with umi_coverage_pos and umi_coverage_neg greater than the median.\n",
    "    \n",
    "    # Filter for POS and NEG for ON switches; Filter for POS and NEG for OFF switches\n",
    "    onDF = onDF.loc[onDF['LIBRARY_MEMBER_UMI_COVERAGE_NEG_BOOLEAN']=='GREATER_THAN_MEDIAN']\n",
    "    onDF = onDF.loc[onDF['LIBRARY_MEMBER_UMI_COVERAGE_POS_BOOLEAN']=='GREATER_THAN_MEDIAN']\n",
    "    \n",
    "    offDF = offDF.loc[offDF['LIBRARY_MEMBER_UMI_COVERAGE_NEG_BOOLEAN']=='GREATER_THAN_MEDIAN']\n",
    "    offDF = offDF.loc[offDF['LIBRARY_MEMBER_UMI_COVERAGE_POS_BOOLEAN']=='GREATER_THAN_MEDIAN']\n",
    "    \n",
    "    \n",
    "    # =====================\n",
    "    # 2. Sort the entire list by αB (descending; higher αB is desireable)\n",
    "    \n",
    "    offDF = offDF.sort_values('FOLD_PpSpm_MEDIAN', ascending=False)\n",
    "    onDF  = onDF .sort_values('FOLD_PpSpm_MEDIAN', ascending=True)\n",
    "    \n",
    "    \n",
    "    # =====================\n",
    "    # 3. Set boundaries in the DF by binning αB\n",
    "    \n",
    "    #Create bin names (each bin name is defined as the end point for that bin)\n",
    "    binNames = list(bins[1:])\n",
    "    binNames = [format(x,'.'+str(round_bin_name)+'f') for x in binNames]\n",
    "    \n",
    "    # Bin data\n",
    "    \n",
    "    # Off-switches are binned by low 'basal' P-\n",
    "    offDF   ['FOLD_PpSpm_MEDIAN_BIN']      = pd.cut(offDF ['FOLD_PpSpm_MEDIAN'], bins, labels=binNames)\n",
    "    # On-switches are binned by low 'basal' P+\n",
    "    onDF    ['FOLD_PpSpm_MEDIAN_BIN']      = pd.cut(onDF  ['FOLD_PpSpm_MEDIAN'], bins, labels=binNames) \n",
    "    \n",
    "    \n",
    "    # =====================\n",
    "    # 3. Sort by median bin in cleavage state (ascending; lower basal is desireable)\n",
    "    \n",
    "    offDF = offDF .sort_values   (['FOLD_PpSpm_MEDIAN_BIN', 'BIN_MEDIAN_NEG'],ascending=[False,True]).reset_index(drop=True)                     \n",
    "    onDF  = onDF  .sort_values   (['FOLD_PpSpm_MEDIAN_BIN', 'BIN_MEDIAN_POS'],ascending=[False,True]) .reset_index(drop=True)                     \n",
    "\n",
    "    \n",
    "    with \\\n",
    "        open(  offDF_fname      , 'w') as offDF_fhandle      ,\\\n",
    "        open(  onDF_fname       , 'w') as  onDF_fhandle      ,\\\n",
    "        open(  offDF_fname_100  , 'w') as offDF_fhandle_100  ,\\\n",
    "        open(  onDF_fname_100   , 'w') as  onDF_fhandle_100  :\n",
    "            offDF           .to_csv(offDF_fhandle       ,sep='\\t')\n",
    "            onDF            .to_csv( onDF_fhandle       ,sep='\\t')\n",
    "            offDF.loc[0:100].to_csv(offDF_fhandle_100   ,sep='\\t')\n",
    "            onDF .loc[0:100].to_csv( onDF_fhandle_100   ,sep='\\t')"
   ]
  },
  {
   "cell_type": "code",
   "execution_count": null,
   "metadata": {
    "collapsed": true
   },
   "outputs": [],
   "source": [
    "def annotate_cloned_members(directory,\\\n",
    "                            number_keep,\\\n",
    "                            cloned_members_list,\\\n",
    "                            after_what_screen_you_cloned,\\\n",
    "                            offDF_fname      ,\\\n",
    "                            onDF_fname       ,\\\n",
    "                            offDF_fname_100  ,\\\n",
    "                            onDF_fname_100   ):\n",
    "    \"\"\"\n",
    "    INPUT\n",
    "    \n",
    "    OUTPUT\n",
    "    \n",
    "    \n",
    "    \"\"\"\n",
    "    # Read in data frames\n",
    "    with \\\n",
    "        open(  offDF_fname      , 'r') as offDF_fhandle       ,\\\n",
    "        open(  onDF_fname       , 'r') as  onDF_fhandle        ,\\\n",
    "        open(  offDF_fname_100  , 'r') as offDF_fhandle_100   ,\\\n",
    "        open(  onDF_fname_100   , 'r') as  onDF_fhandle_100    :\n",
    "            offDF     = pd.read_csv(offDF_fhandle       , header=0, sep='\\t')\n",
    "            onDF      = pd.read_csv( onDF_fhandle       , header=0, sep='\\t')\n",
    "            offDF_100 = pd.read_csv(offDF_fhandle_100   , header=0, sep='\\t')\n",
    "            onDF_100  = pd.read_csv( onDF_fhandle_100   , header=0, sep='\\t')\n",
    "            \n",
    "    \n",
    "    # Add info to data frames\n",
    "    for cloned_member in cloned_members_list:\n",
    "        offDF    .loc [offDF    ['RNAME']==cloned_member,'CLONED_AFTER_WHICH_SCREEN']  = after_what_screen_you_cloned\n",
    "        onDF     .loc [onDF     ['RNAME']==cloned_member,'CLONED_AFTER_WHICH_SCREEN'] = after_what_screen_you_cloned\n",
    "        offDF_100.loc [offDF_100['RNAME']==cloned_member,'CLONED_AFTER_WHICH_SCREEN']  = after_what_screen_you_cloned\n",
    "        onDF_100 .loc [onDF_100 ['RNAME']==cloned_member,'CLONED_AFTER_WHICH_SCREEN'] = after_what_screen_you_cloned\n",
    "       \n",
    "    # Rewrite Dataframes\n",
    "    with \\\n",
    "        open( offDF_fname      , 'w')as offDF_fhandle      ,\\\n",
    "        open( onDF_fname       , 'w')as  onDF_fhandle       ,\\\n",
    "        open( offDF_fname_100  , 'w')as offDF_fhandle_100  ,\\\n",
    "        open( onDF_fname_100   , 'w')as  onDF_fhandle_100    :\n",
    "            offDF    .to_csv(offDF_fhandle      ,sep='\\t')\n",
    "            onDF     .to_csv( onDF_fhandle       ,sep='\\t')\n",
    "            offDF_100.to_csv(offDF_fhandle_100  ,sep='\\t')\n",
    "            onDF_100 .to_csv( onDF_fhandle_100   ,sep='\\t')"
   ]
  },
  {
   "cell_type": "code",
   "execution_count": null,
   "metadata": {
    "collapsed": true,
    "scrolled": false
   },
   "outputs": [],
   "source": [
    "# Set options for the screen function\n",
    "\n",
    "directoryTSVoutput      = './'+date+'-'+aptamer+'-fold-screen-umi/'         \n",
    "number_keep    = 100\n",
    "bins           = list(np.arange(0.00,8,.25))\n",
    "round_bin_name = 3\n",
    "\n",
    "offDF_fname      = directoryTSVoutput+date+'-fold-screen-OFF-'                              +aptamer+'.tsv'\n",
    "onDF_fname       = directoryTSVoutput+date+'-fold-screen-ON-'                               +aptamer+'.tsv'\n",
    "offDF_fname_100  = directoryTSVoutput+date+'-fold-screen-OFF-'  +'Top-'+str(number_keep)+'-'+aptamer+'.tsv'\n",
    "onDF_fname_100   = directoryTSVoutput+date+'-fold-screen-ON-'   +'Top-'+str(number_keep)+'-'+aptamer+'.tsv'\n",
    "\n",
    "\n",
    "# Screen for switches in B+ and B-\n",
    "bin_and_order_basal(\\\n",
    "              offDF                = statsDF_inBOTH_off  , \\\n",
    "              onDF                 = statsDF_inBOTH_on   , \\\n",
    "              number_keep          = number_keep, \\\n",
    "              minimum_lib_coverage = 15,\\\n",
    "              bins                 = bins,\\\n",
    "              round_bin_name       = round_bin_name,\\\n",
    "              directory            = directoryTSVoutput,\\\n",
    "              offDF_fname          = offDF_fname ,\\\n",
    "              onDF_fname           = onDF_fname    ,\\\n",
    "              offDF_fname_100      = offDF_fname_100 ,\\\n",
    "              onDF_fname_100       = onDF_fname_100   )\n"
   ]
  },
  {
   "cell_type": "code",
   "execution_count": null,
   "metadata": {
    "collapsed": true
   },
   "outputs": [],
   "source": [
    "cloned_members_list_post_transduction = [\\\n",
    "                       'GTTCT...AGGAC',\\\n",
    "                       'CACCG...TGGTG',\\\n",
    "                       'AACGC...GCGTT',\\\n",
    "                       'TAACA...TGTTA',\\\n",
    "                       'TGTGC...GTGCA',\\\n",
    "                       'AGCTC...GGGCT',\\\n",
    "                       'CGGGA...TTCCG' ]"
   ]
  },
  {
   "cell_type": "code",
   "execution_count": null,
   "metadata": {
    "collapsed": true
   },
   "outputs": [],
   "source": [
    "annotate_cloned_members(number_keep = 100,\\\n",
    "                        cloned_members_list  = cloned_members_list_post_transduction,\\\n",
    "                        after_what_screen_you_cloned = 'post_transduction',\\\n",
    "                        directory=directoryTSVoutput,\\\n",
    "                       offDF_fname     = offDF_fname      ,\\\n",
    "                       onDF_fname      = onDF_fname       ,\\\n",
    "                       offDF_fname_100 = offDF_fname_100  ,\\\n",
    "                       onDF_fname_100  = onDF_fname_100 )"
   ]
  },
  {
   "cell_type": "code",
   "execution_count": null,
   "metadata": {
    "collapsed": true
   },
   "outputs": [],
   "source": [
    "# print(statsDF.head())"
   ]
  },
  {
   "cell_type": "markdown",
   "metadata": {},
   "source": [
    "# Load Results of Screen"
   ]
  },
  {
   "cell_type": "code",
   "execution_count": null,
   "metadata": {
    "collapsed": true
   },
   "outputs": [],
   "source": [
    "# NOTE!! 'directory' variable is defined in the cell that executes the screen function\n",
    "offDF        = pd.DataFrame.from_csv(offDF_fname    , sep='\\t') \n",
    "onDF         = pd.DataFrame.from_csv(onDF_fname     ,    sep='\\t')  \n",
    "\n",
    "offDF_100    = pd.DataFrame.from_csv(offDF_fname_100, sep='\\t')\n",
    "onDF_100     = pd.DataFrame.from_csv(onDF_fname_100 ,    sep='\\t')\n"
   ]
  },
  {
   "cell_type": "code",
   "execution_count": null,
   "metadata": {
    "collapsed": true
   },
   "outputs": [],
   "source": [
    "# Get rid of useless column\n",
    "offDF     = offDF     .drop('Unnamed: 0.1',axis=1) \n",
    "onDF      = onDF      .drop('Unnamed: 0.1',axis=1) \n",
    "offDF_100 = offDF_100 .drop('Unnamed: 0.1',axis=1) \n",
    "onDF_100  = onDF_100  .drop('Unnamed: 0.1',axis=1) "
   ]
  },
  {
   "cell_type": "code",
   "execution_count": null,
   "metadata": {
    "scrolled": false
   },
   "outputs": [],
   "source": [
    "printDF  (offDF     )\n",
    "printDF  (onDF      )\n",
    "# printDF(offDF_100 )\n",
    "# printDF(onDF_100  )\n"
   ]
  },
  {
   "cell_type": "markdown",
   "metadata": {},
   "source": [
    "# Did transduction screen results correlate with fluorescence screen?"
   ]
  },
  {
   "cell_type": "code",
   "execution_count": null,
   "metadata": {
    "collapsed": true
   },
   "outputs": [],
   "source": [
    "# Get rid of boolean values for correlating\n",
    "offDFcorr = offDF.drop(['RNAME','LIBRARY_MEMBER_UMI_COVERAGE_POS_BOOLEAN','LIBRARY_MEMBER_UMI_COVERAGE_NEG_BOOLEAN','SWITCH_TYPE_MEDIAN','FOLD_PpSpm_MEDIAN_BIN','CLONED_AFTER_WHICH_SCREEN'], axis=1)\n",
    "onDFcorr  = onDF .drop(['RNAME','LIBRARY_MEMBER_UMI_COVERAGE_POS_BOOLEAN','LIBRARY_MEMBER_UMI_COVERAGE_NEG_BOOLEAN','SWITCH_TYPE_MEDIAN','FOLD_PpSpm_MEDIAN_BIN','CLONED_AFTER_WHICH_SCREEN'], axis=1)\n",
    "\n",
    "# Create DF for both on and off switches\n",
    "allDFcorr = offDFcorr.append(onDFcorr)\n",
    "\n",
    "# Create correlation DFs\n",
    "allDFcorrPearson = allDFcorr.corr(method='pearson')\n",
    "offDFCorrPearson = offDFcorr.corr(method='pearson')\n",
    "onDFCorrPearson  = onDFcorr .corr(method='pearson')\n",
    "\n",
    "allDFcorrSpearman = allDFcorr.corr(method='spearman')\n",
    "offDFCorrSpearman = offDFcorr.corr(method='spearman')\n",
    "onDFCorrSpearman  = onDFcorr .corr(method='spearman')"
   ]
  },
  {
   "cell_type": "code",
   "execution_count": null,
   "metadata": {},
   "outputs": [],
   "source": [
    "printDF(allDFcorrSpearman)"
   ]
  },
  {
   "cell_type": "code",
   "execution_count": null,
   "metadata": {},
   "outputs": [],
   "source": [
    "print(allDFcorrSpearman.loc['BIN_MEAN_POS','BIN_MEAN_NEG'])\n",
    "print(allDFcorrPearson .loc['BIN_MEAN_POS','BIN_MEAN_NEG'])"
   ]
  },
  {
   "cell_type": "code",
   "execution_count": null,
   "metadata": {
    "scrolled": true
   },
   "outputs": [],
   "source": [
    "print(allDFcorrSpearman.loc['BIN_MEDIAN_POS','BIN_MEDIAN_NEG'])\n",
    "print(allDFcorrPearson .loc['BIN_MEDIAN_POS','BIN_MEDIAN_NEG'])"
   ]
  },
  {
   "cell_type": "code",
   "execution_count": null,
   "metadata": {
    "scrolled": true
   },
   "outputs": [],
   "source": [
    "print(allDFcorrSpearman.loc['LIBRARY_MEMBER_UMI_COVERAGE_NEG','LIBRARY_MEMBER_UMI_COVERAGE_POS'])\n",
    "print(allDFcorrPearson .loc['LIBRARY_MEMBER_UMI_COVERAGE_NEG','LIBRARY_MEMBER_UMI_COVERAGE_POS'])"
   ]
  },
  {
   "cell_type": "code",
   "execution_count": null,
   "metadata": {},
   "outputs": [],
   "source": [
    "%%R -i offDFcorr -i offDFCorrPearson -i offDFCorrSpearman -i aptamer -w 3000 -h 3000 -u px\n",
    "\n",
    "pairs(offDFcorr)\n"
   ]
  },
  {
   "cell_type": "code",
   "execution_count": null,
   "metadata": {},
   "outputs": [],
   "source": [
    "%%R -i allDFcorr -i offDFCorrPearson -i offDFCorrSpearman -i aptamer -w 3000 -h 3000 -u px\n",
    "\n",
    "pairs(allDFcorr)\n"
   ]
  },
  {
   "cell_type": "code",
   "execution_count": null,
   "metadata": {},
   "outputs": [],
   "source": [
    "%%R -i allDFcorr -i aptamer -w 500 -h 500 -u px\n",
    "\n",
    "ggplot(allDFcorr, aes(x=BIN_MEDIAN_NEG,y=BIN_MEDIAN_POS)) +\n",
    "    stat_density_2d(geom = \"point\", aes(size = ..density..), n = 20, contour = FALSE) +\n",
    "    labs(title='Bin Median Pos vs Neg', \n",
    "         x='\\nBin Median Pos',\n",
    "         y='Bin Median Neg\\n') +\n",
    "    scale_x_continuous(breaks = seq(0,8, by = 1),limits=c(0,9)) +\n",
    "    scale_y_continuous(breaks = seq(0,8, by = 1), limits=c(0,9)) +\n",
    "    theme(axis.text=element_text(size=28),\n",
    "        axis.title=element_text(size=28,face=\"bold\"),\n",
    "        plot.title=element_text(size=22,face=\"bold\"),\n",
    "        plot.subtitle=element_text(size=25),\n",
    "        legend.title=element_text(size=17),\n",
    "        legend.text=element_text(size=12))"
   ]
  },
  {
   "cell_type": "code",
   "execution_count": null,
   "metadata": {},
   "outputs": [],
   "source": [
    "%%R -i allDFcorr -i aptamer -w 500 -h 500 -u px\n",
    "\n",
    "ggplot(allDFcorr, aes(x=BIN_MEAN_NEG,y=BIN_MEAN_POS)) +\n",
    "    stat_density_2d(geom = \"point\", aes(size = ..density..), n = 20, contour = FALSE) +\n",
    "    labs(title='Bin Mean Pos vs Neg', \n",
    "         x='\\nBin Mean Pos',\n",
    "         y='Bin Mean Neg\\n') +\n",
    "    scale_x_continuous(breaks = seq(0,8, by = 1),limits=c(0,9)) +\n",
    "    scale_y_continuous(breaks = seq(0,8, by = 1), limits=c(0,9)) +\n",
    "    theme(axis.text=element_text(size=28),\n",
    "        axis.title=element_text(size=28,face=\"bold\"),\n",
    "        plot.title=element_text(size=22,face=\"bold\"),\n",
    "        plot.subtitle=element_text(size=25),\n",
    "        legend.title=element_text(size=17),\n",
    "        legend.text=element_text(size=12))"
   ]
  },
  {
   "cell_type": "markdown",
   "metadata": {},
   "source": [
    "# Graphically inspect members passing screen"
   ]
  },
  {
   "cell_type": "markdown",
   "metadata": {},
   "source": [
    "<span style=\"color:blue\">• Graph top 100 performers. Graph αB first, then ΔB. OFF SWITCHES\n"
   ]
  },
  {
   "cell_type": "code",
   "execution_count": null,
   "metadata": {
    "collapsed": true
   },
   "outputs": [],
   "source": [
    "# What is the median of P_PLUS_AU_ABUNDANCE_MEDIAN\n",
    "# offDF_100.set_index('RNAME').drop(['CCGGA...TCCGG'], axis=0)['P_PLUS_AU_ABUNDANCE_MEDIAN'].median()"
   ]
  },
  {
   "cell_type": "code",
   "execution_count": null,
   "metadata": {
    "collapsed": true
   },
   "outputs": [],
   "source": [
    "# Set NaN to Not Cloned\n",
    "offDF_100['CLONED_AFTER_WHICH_SCREEN'] = offDF_100['CLONED_AFTER_WHICH_SCREEN'].fillna('Not Cloned')"
   ]
  },
  {
   "cell_type": "code",
   "execution_count": null,
   "metadata": {},
   "outputs": [],
   "source": [
    "%%R -i offDF_100 -i aptamer -w 3000 -h 1000 -u px\n",
    "\n",
    "offDF_100$RNAME = factor(offDF_100$RNAME, levels = offDF_100$RNAME)\n",
    "\n",
    "offDF_100['FOLD_PKG_EFFICIENCY_MEDIAN'] <-  round(offDF_100['FOLD_PKG_EFFICIENCY_MEDIAN'], 2)\n",
    "\n",
    "ggplot(offDF_100, aes(x=RNAME, y=FOLD_PpSpm_MEDIAN, fill=FOLD_PKG_EFFICIENCY_MEDIAN, color=CLONED_AFTER_WHICH_SCREEN)) +\n",
    "    #color=CLONED_AFTER_WHICH_SCREEN)) + \n",
    "    geom_bar(stat='identity',size=1) +\n",
    "    scale_color_manual(name='Cloned\\nMembers',\n",
    "                       values=c('red', 'green'),\n",
    "                       label=c('Not Cloned','Posttransduction Clone')) +\n",
    "    scale_fill_gradient2(limits=c(-20,20),\n",
    "                         breaks=seq(-20,20,by=10),\n",
    "                         name='αP\\n', \n",
    "                         low=\"red\", \n",
    "                         high=\"blue\", \n",
    "                         midpoint=0) +\n",
    "    labs(title=paste(aptamer,\n",
    "                     \"Top 100 Performering Off-Switches: P+S+/P+S- Bioinformatic Screen 170828\"), \n",
    "         subtitle=paste('Binned by Dynamic Range: αB (high to low)',\n",
    "                        '\\nSorted within bins by basal expression: Cleavage State Median Bin (low to high)',\n",
    "                        '\\nColored by dynamic range of P+/P- Screen [αP] (Grey for switches with 1. detected only in P+ or P- or 2. outside range)',\n",
    "                        '\\nText above bars quantifies dynamic range of P+/P- Screen [αP]',\n",
    "                        '\\nBoxes indicate whether or not member was cloned\\n', sep=''),\n",
    "         x=\"\\nLibrary Member\", \n",
    "         y=\"\\nαB = (B+) ÷ (B-)\\n[AU] wrt Median\\n\") +\n",
    "    scale_x_discrete()+\n",
    "    scale_y_continuous(breaks = seq(0,10, by = 1),\n",
    "                       limits=c(0,8)) +\n",
    "    geom_text(aes(label=FOLD_PKG_EFFICIENCY_MEDIAN), \n",
    "              vjust=-1, \n",
    "              size=3) +\n",
    "    theme(axis.text=element_text(size=15),\n",
    "          axis.title=element_text(size=18,face=\"bold\"),\n",
    "          axis.text.x = element_text(angle = 90, hjust = 1,size=10),\n",
    "          axis.ticks.x=element_blank(),\n",
    "          plot.title=element_text(size=35,face=\"bold\"),\n",
    "          plot.subtitle=element_text(size=25),\n",
    "          legend.title=element_text(size=17),\n",
    "          legend.text=element_text(size=12),\n",
    "          panel.grid.major = element_blank())"
   ]
  },
  {
   "cell_type": "code",
   "execution_count": null,
   "metadata": {},
   "outputs": [],
   "source": [
    "%%R -i offDF_100 -i aptamer -w 3000 -h 1000 -u px\n",
    "\n",
    "offDF_100$RNAME = factor(offDF_100$RNAME, levels = offDF_100$RNAME)\n",
    "\n",
    "offDF_100['FOLD_PKG_EFFICIENCY_MEDIAN'] <-  round(offDF_100['FOLD_PKG_EFFICIENCY_MEDIAN'], 2)\n",
    "\n",
    "ggplot(offDF_100, aes(x=RNAME, y=DELTA_PpSpm_MEDIAN, fill=FOLD_PKG_EFFICIENCY_MEDIAN, color=CLONED_AFTER_WHICH_SCREEN)) +\n",
    "    #color=CLONED_AFTER_WHICH_SCREEN)) + \n",
    "    geom_bar(stat='identity',size=1) +\n",
    "    scale_color_manual(name='Cloned\\nMembers',\n",
    "                       values=c('red', 'green'),\n",
    "                       label=c('Not Cloned','Posttransduction Clone')) +\n",
    "    scale_fill_gradient2(limits=c(-20,20),\n",
    "                         breaks=seq(-20,20,by=10),\n",
    "                         name='αP\\n', \n",
    "                         low=\"red\", \n",
    "                         high=\"blue\", \n",
    "                         midpoint=0) +\n",
    "    labs(title=paste(aptamer,\n",
    "                     \"Top 100 Performering Off-Switches: P+S+/P+S- Bioinformatic Screen 170828\"), \n",
    "         subtitle=paste('Binned by Dynamic Range: αB (high to low)',\n",
    "                        '\\nSorted within bins by basal expression: Cleavage State Median Bin (low to high)',\n",
    "                        '\\nColored by dynamic range of P+/P- Screen [αP] (Grey for switches with 1. detected only in P+ or P- or 2. outside range)',\n",
    "                        '\\nText above bars quantifies dynamic range of P+/P- Screen [αP]',\n",
    "                        '\\nBoxes indicate whether or not member was cloned\\n', sep=''),\n",
    "         x=\"\\nLibrary Member\", \n",
    "         y=\"\\nΔB = (B+) - (B-)\\n[AU] wrt Median\\n\") +\n",
    "    scale_x_discrete()+\n",
    "    scale_y_continuous(breaks = seq(0,10, by = 1),limits=c(0,8)) +\n",
    "    geom_text(aes(label=FOLD_PKG_EFFICIENCY_MEDIAN), vjust=-1, size=3) +\n",
    "    theme(axis.text=element_text(size=15),\n",
    "          axis.title=element_text(size=18,face=\"bold\"),\n",
    "          axis.text.x = element_text(angle = 90, hjust = 1,size=10),\n",
    "          axis.ticks.x=element_blank(),\n",
    "          plot.title=element_text(size=35,face=\"bold\"),\n",
    "          plot.subtitle=element_text(size=25),\n",
    "          legend.title=element_text(size=17),\n",
    "          legend.text=element_text(size=12),\n",
    "          panel.grid.major = element_blank())"
   ]
  },
  {
   "cell_type": "markdown",
   "metadata": {},
   "source": [
    "<span style=\"color:blue\">• Graph top 100 performers. Graph αB first, then ΔB. ON SWITCHES\n"
   ]
  },
  {
   "cell_type": "code",
   "execution_count": null,
   "metadata": {},
   "outputs": [],
   "source": [
    "# What is the median of P_PLUS_AU_ABUNDANCE_MEDIAN\n",
    "print(onDF_100.set_index('RNAME')['P_PLUS_AU_ABUNDANCE_MEDIAN'].max())\n",
    "print(onDF_100.set_index('RNAME')['P_PLUS_AU_ABUNDANCE_MEDIAN'].min())\n",
    "print(onDF_100.set_index('RNAME')['P_PLUS_AU_ABUNDANCE_MEDIAN'].median())"
   ]
  },
  {
   "cell_type": "code",
   "execution_count": null,
   "metadata": {
    "collapsed": true
   },
   "outputs": [],
   "source": [
    "# Set NaN to Not Cloned\n",
    "onDF_100['CLONED_AFTER_WHICH_SCREEN'] = onDF_100['CLONED_AFTER_WHICH_SCREEN'].fillna('Not Cloned')"
   ]
  },
  {
   "cell_type": "code",
   "execution_count": null,
   "metadata": {},
   "outputs": [],
   "source": [
    "%%R -i onDF_100 -i aptamer -w 3000 -h 1000 -u px\n",
    "\n",
    "onDF_100$RNAME = factor(onDF_100$RNAME, levels = onDF_100$RNAME)\n",
    "\n",
    "onDF_100['FOLD_PKG_EFFICIENCY_MEDIAN'] <-  round(onDF_100['FOLD_PKG_EFFICIENCY_MEDIAN'], 2)\n",
    "\n",
    "ggplot(onDF_100, aes(x=RNAME, y=FOLD_PpSpm_MEDIAN, fill=FOLD_PKG_EFFICIENCY_MEDIAN, color=CLONED_AFTER_WHICH_SCREEN)) +\n",
    "    #color=CLONED_AFTER_WHICH_SCREEN)) + \n",
    "    geom_bar(stat='identity',size=1) +\n",
    "    scale_color_manual(name='Cloned\\nMembers',\n",
    "                       values=c('red', 'green'),\n",
    "                       label=c('Not Cloned','Posttransduction Clone')) +\n",
    "    scale_fill_gradient2(limits=c(-20,20),\n",
    "                         breaks=seq(-20,20,by=10),\n",
    "                         name='αP\\n', \n",
    "                         low=\"red\", \n",
    "                         high=\"blue\", \n",
    "                         midpoint=0) +\n",
    "    labs(title=paste(aptamer,\"Top 100 Performering On-Switches: P+S+/P+S- Bioinformatic Screen 170828\"), \n",
    "         subtitle=paste('Binned by Dynamic Range: αB (low to high)',\n",
    "                        '\\nSorted within bins by basal expression: Cleavage State Median Bin (low to high)',\n",
    "                        '\\nColored by dynamic range of P+/P- Screen [αP] (Grey for switches with 1. detected only in P+ or P- or 2. outside range)',\n",
    "                        '\\nText above bars quantifies dynamic range of P+/P- Screen [αP]',\n",
    "                        '\\nBoxes indicate whether or not member was cloned\\n', sep=''),\n",
    "         x=\"\\nLibrary Member\", \n",
    "         y=\"\\nαB = (B+) ÷ (B-)\\n[AU] wrt Median\\n\") +\n",
    "    scale_x_discrete()+\n",
    "    scale_y_continuous(breaks = seq(-10,0, by = 1),limits=c(-10,0)) +\n",
    "    geom_text(aes(label=FOLD_PKG_EFFICIENCY_MEDIAN), vjust=1.5, size=3) +\n",
    "    theme(axis.text=element_text(size=15),\n",
    "          axis.title=element_text(size=18,face=\"bold\"),\n",
    "          axis.text.x = element_text(angle = 90, hjust = 1,size=10),\n",
    "          axis.ticks.x=element_blank(),\n",
    "          plot.title=element_text(size=35,face=\"bold\"),\n",
    "          plot.subtitle=element_text(size=25),\n",
    "          legend.title=element_text(size=17),\n",
    "          legend.text=element_text(size=12),\n",
    "          panel.grid.major = element_blank())"
   ]
  },
  {
   "cell_type": "code",
   "execution_count": null,
   "metadata": {},
   "outputs": [],
   "source": [
    "%%R -i onDF_100 -i aptamer -w 3000 -h 1000 -u px\n",
    "\n",
    "onDF_100$RNAME = factor(onDF_100$RNAME, levels = onDF_100$RNAME)\n",
    "\n",
    "onDF_100['FOLD_PKG_EFFICIENCY_MEDIAN'] <-  round(onDF_100['FOLD_PKG_EFFICIENCY_MEDIAN'], 2)\n",
    "\n",
    "ggplot(onDF_100, aes(x=RNAME, y=DELTA_PpSpm_MEDIAN, fill=FOLD_PKG_EFFICIENCY_MEDIAN, color=CLONED_AFTER_WHICH_SCREEN)) +\n",
    "    geom_bar(stat='identity',size=1) +\n",
    "    scale_color_manual(name='Cloned\\nMembers',\n",
    "                       values=c('red', 'green'),\n",
    "                       label=c('Not Cloned','Posttransduction Clone')) +\n",
    "    scale_fill_gradient2(limits=c(-20,20),\n",
    "                         breaks=seq(-20,20,by=10),\n",
    "                         name='αP\\n', \n",
    "                         low=\"red\", \n",
    "                         high=\"blue\", \n",
    "                         midpoint=0) +\n",
    "    labs(title=paste(aptamer,\"Top 100 Performering On-Switches: P+S+/P+S- Bioinformatic Screen 170828\"), \n",
    "         subtitle=paste('Binned by Dynamic Range: αB (low to high)',\n",
    "                        '\\nSorted within bins by basal expression: Cleavage State Median Bin (low to high)',\n",
    "                        '\\nColored by dynamic range of P+/P- Screen [αP] (Grey for switches with 1. detected only in P+ or P- or 2. outside range)',\n",
    "                        '\\nText above bars quantifies dynamic range of P+/P- Screen [αP]',\n",
    "                        '\\nBoxes indicate whether or not member was cloned\\n', sep=''),\n",
    "         x=\"\\nLibrary Member\", \n",
    "         y=\"\\nΔB = (B+) - (B-)\\n[AU] wrt Median\\n\") +\n",
    "    scale_x_discrete()+\n",
    "    scale_y_continuous(breaks = seq(-10,0, by = 1),limits=c(-10,0)) +\n",
    "    geom_text(aes(label=FOLD_PKG_EFFICIENCY_MEDIAN), vjust=1.5, size=3) +\n",
    "    theme(axis.text=element_text(size=15),\n",
    "          axis.title=element_text(size=18,face=\"bold\"),\n",
    "          axis.text.x = element_text(angle = 90, hjust = 1,size=10),\n",
    "          axis.ticks.x=element_blank(),\n",
    "          plot.title=element_text(size=35,face=\"bold\"),\n",
    "          plot.subtitle=element_text(size=25),\n",
    "          legend.title=element_text(size=17),\n",
    "          legend.text=element_text(size=12),\n",
    "          panel.grid.major = element_blank())"
   ]
  },
  {
   "cell_type": "markdown",
   "metadata": {},
   "source": [
    "# Define a function for pulling out desired candidates for an in depth look"
   ]
  },
  {
   "cell_type": "code",
   "execution_count": null,
   "metadata": {
    "collapsed": true
   },
   "outputs": [],
   "source": [
    "def pull_lib_members(offDF, onDF, candidate_list, desired_columns, verbose=False):\n",
    "    '''\n",
    "    '''\n",
    "    # Print library members to user\n",
    "    print('>>Returning Data Frame for the following library members:')\n",
    "    for i in candidate_list:\n",
    "        print(i)\n",
    "    print('\\n\\n\\n\\n')\n",
    "    # If you want to print out information about each candidate...\n",
    "    if verbose == True:\n",
    "        for i in candidate_list:\n",
    "            print(i,'\\n\\n',offDF[offDF['RNAME']==i])\n",
    "    \n",
    "    # Create a new DF that converts all numerical values to [AU wrt median]\n",
    "    offDF_WRTMedian = offDF.fillna(np.NaN) # use this method to return a new DF rather than have both varaibles linked to sam eDF\n",
    "    onDF_WRTMedian  = onDF.fillna(np.NaN) # use this method to return a new DF rather than have both varaibles linked to sam eDF\n",
    "    \n",
    "    for df in [offDF_WRTMedian,onDF_WRTMedian]:\n",
    "        for col in df:\n",
    "            try:\n",
    "                dfColMedian = df[col].median()\n",
    "                print(col,'median =', dfColMedian)\n",
    "                df.loc[ df[col]>0 , col] = df.loc[ df[col]>0 ,col]/dfColMedian\n",
    "                df.loc[ df[col]<0 , col] = -df.loc[ df[col]<0 ,col]/dfColMedian\n",
    "            except TypeError:\n",
    "                pass\n",
    "        print('\\n\\n\\n')\n",
    "        \n",
    "    # Create and Populate two new dataframes that only include desired members\n",
    "    offDF_candidates = pd.DataFrame()\n",
    "    onDF_candidates  = pd.DataFrame()\n",
    "    allDF_candidates_notWRTMedian = pd.DataFrame()\n",
    "    \n",
    "    allDF_notWRTMedian = offDF.append(onDF)\n",
    "    \n",
    "    for member in candidate_list:\n",
    "        try:\n",
    "            allDF_candidates_notWRTMedian = allDF_candidates_notWRTMedian.append(allDF_notWRTMedian[allDF_notWRTMedian['RNAME']==member])\n",
    "            offDF_candidates = offDF_candidates.append(offDF_WRTMedian[offDF_WRTMedian['RNAME']==member])\n",
    "            onDF_candidates  =  onDF_candidates.append(onDF_WRTMedian [onDF_WRTMedian ['RNAME']==member])\n",
    "        except KeyError:\n",
    "            pass\n",
    "    \n",
    "    # Subselect desired columns\n",
    "    offDF_candidates              = offDF_candidates[desired_columns]      \n",
    "    onDF_candidates               = onDF_candidates [desired_columns]\n",
    "    allDF_candidates_notWRTMedian = allDF_candidates_notWRTMedian[desired_columns]\n",
    "    # Concatenate on and off DFs\n",
    "    allClonesDF_candidates = offDF_candidates.append(onDF_candidates)\n",
    "    \n",
    "    return(allDF_candidates_notWRTMedian, offDF_candidates, onDF_candidates, allClonesDF_candidates)"
   ]
  },
  {
   "cell_type": "markdown",
   "metadata": {},
   "source": [
    "# Inspect Data Collected for P+/- Screen Cloned Lib Members "
   ]
  },
  {
   "cell_type": "markdown",
   "metadata": {},
   "source": [
    "<span style=\"color:red\"> DID YOU UPDATE THE CLONED MEMBERS??"
   ]
  },
  {
   "cell_type": "code",
   "execution_count": null,
   "metadata": {
    "scrolled": false
   },
   "outputs": [],
   "source": [
    "allDF_post_transduction_notWRTMedian,\\\n",
    "offDF_post_transduction,\\\n",
    "onDF_post_transduction,\\\n",
    "allDF_post_transduction = pull_lib_members(\\\n",
    "                                           offDF           = offDF,\\\n",
    "                                           onDF            = onDF,\\\n",
    "                                           candidate_list  = cloned_members_list_post_transduction,\\\n",
    "                                           verbose         = False,\\\n",
    "                                           desired_columns = ['RNAME',\\\n",
    "                                                              'BIN_MEDIAN_POS',\\\n",
    "                                                              'BIN_MEDIAN_NEG',\\\n",
    "                                                              'FOLD_PpSpm_MEDIAN',\\\n",
    "                                                              'DELTA_PpSpm_MEDIAN',\\\n",
    "                                                              'LIBRARY_MEMBER_UMI_COVERAGE_POS',\\\n",
    "                                                              'LIBRARY_MEMBER_UMI_COVERAGE_NEG',\\\n",
    "                                                              'P_PLUS_AU_ABUNDANCE_MEDIAN',\\\n",
    "                                                              'P_MINUS_AU_ABUNDANCE_MEDIAN',\\\n",
    "                                                              'FOLD_PKG_EFFICIENCY_MEDIAN',\\\n",
    "                                                              'DELTA_PKG_EFFICIENCY_MEDIAN'        ]    )"
   ]
  },
  {
   "cell_type": "code",
   "execution_count": null,
   "metadata": {},
   "outputs": [],
   "source": [
    "offDF_post_transduction"
   ]
  },
  {
   "cell_type": "code",
   "execution_count": null,
   "metadata": {},
   "outputs": [],
   "source": [
    "onDF_post_transduction "
   ]
  },
  {
   "cell_type": "code",
   "execution_count": null,
   "metadata": {},
   "outputs": [],
   "source": [
    "allDF_post_transduction"
   ]
  },
  {
   "cell_type": "code",
   "execution_count": null,
   "metadata": {
    "scrolled": false
   },
   "outputs": [],
   "source": [
    "allDF_post_transduction_notWRTMedian"
   ]
  },
  {
   "cell_type": "markdown",
   "metadata": {},
   "source": [
    "<span style=\"color:blue\">• Calculate all desired metrics for cloned members inspection with respect to median"
   ]
  },
  {
   "cell_type": "code",
   "execution_count": null,
   "metadata": {
    "scrolled": false
   },
   "outputs": [],
   "source": [
    "%%R -i allDF_post_transduction -i aptamer -w 1800 -h 500 -u px\n",
    "\n",
    "library(reshape2)\n",
    "\n",
    "allDF_post_transduction=melt(allDF_post_transduction)\n",
    "allDF_post_transduction$RNAME = factor(allDF_post_transduction$RNAME, levels = allDF_post_transduction$RNAME)\n",
    "\n",
    "\n",
    "\n",
    "columns = c('B+ median bin','B- median bin', 'αB','ΔB','UMI Coverage P+S+','UMI Coverage P+S-','P+ Abundance','P- Abundance','αP','ΔP')\n",
    "\n",
    "ggplot(allDF_post_transduction, aes(y=value, x=variable,fill=variable)) + \n",
    "    geom_bar( stat=\"identity\") +    \n",
    "    scale_x_discrete(labels=c('B+ median bin','B- median bin', 'αB','ΔB','UMI Coverage P+S+','UMI Coverage P+S-','P+ Abundance','P- Abundance','αP','ΔP'))    +   \n",
    "    scale_fill_manual(labels=columns,values=c('lightskyblue2','brown2','lightgreen','forestgreen','black','black','lightskyblue2','brown2','lightgreen','forestgreen')) +\n",
    "    facet_grid(~RNAME) +\n",
    "    labs(title=paste(\"Transduction Screen Members Cloned\",aptamer,'\\n'),\n",
    "         x=\"\\nMetric\",\n",
    "         y=\"\\nValue [AU] wrt Median\\n\") +\n",
    "    theme ( axis.text.x = element_text(angle = 45, hjust = 1,size=16),\n",
    "            axis.text.y = element_text(size=20),\n",
    "            axis.title=element_text(size=18,face=\"bold\"),\n",
    "            strip.text.x = element_text(size = 20, face='bold'),\n",
    "            plot.title = element_text(size=30, face='bold'))"
   ]
  },
  {
   "cell_type": "code",
   "execution_count": null,
   "metadata": {
    "scrolled": false
   },
   "outputs": [],
   "source": [
    "%%R -i allDF_post_transduction -i aptamer -w 1800 -h 500 -u px\n",
    "\n",
    "\n",
    "\n",
    "library(reshape2)\n",
    "\n",
    "allDF_post_transduction=melt(allDF_post_transduction)\n",
    "allDF_post_transduction$RNAME = factor(allDF_post_transduction$RNAME, levels = allDF_post_transduction$RNAME)\n",
    "\n",
    "\n",
    "columns = c('B+ median bin','B- median bin', 'αB','ΔB','UMI Coverage P+S+','UMI Coverage P+S-','P+ Abundance','P- Abundance','αP','ΔP')\n",
    "\n",
    "ggplot(allDF_post_transduction, aes(y=value, x=variable, fill=variable)) + \n",
    "    geom_bar( stat=\"identity\") +    \n",
    "    scale_x_discrete(labels=columns)    +   \n",
    "    scale_y_continuous(lim = c(-3,3), breaks=seq(-3,3,by=1)) +\n",
    "    scale_fill_manual(\"Variable\",labels=columns,values=c('lightskyblue2','brown2','lightgreen','forestgreen','black','black','lightskyblue2','brown2','lightgreen','forestgreen')) +    \n",
    "    facet_grid(~RNAME) +\n",
    "    labs(title=paste(\"Transduction Screen Members Cloned\",aptamer,'\\n'),\n",
    "         x=\"\\nMetric\",\n",
    "         y=\"\\nValue [AU] wrt Median\\n\") +\n",
    "    theme ( axis.text.x = element_text(angle = 45, hjust = 1,size=16),\n",
    "            axis.text.y = element_text(size=20),\n",
    "            axis.title=element_text(size=18,face=\"bold\"),\n",
    "            strip.text.x = element_text(size = 20, face='bold'),\n",
    "            plot.title = element_text(size=30, face='bold'))"
   ]
  },
  {
   "cell_type": "code",
   "execution_count": null,
   "metadata": {
    "scrolled": true
   },
   "outputs": [],
   "source": [
    "allDF_post_transduction_notWRTMedian"
   ]
  },
  {
   "cell_type": "markdown",
   "metadata": {},
   "source": [
    "# Inspect Potential Candidates for P+S+/- Screen"
   ]
  },
  {
   "cell_type": "code",
   "execution_count": null,
   "metadata": {
    "collapsed": true
   },
   "outputs": [],
   "source": [
    "cloned_members_list_bin_screen = ['GGCTA...TAGCT',\\\n",
    "                                  'GCATA...TGTGT',\\\n",
    "                                  'TGGTG...CGTTG',\\\n",
    "                                  'AGTGT...GTACT',\\\n",
    "                                  'CGCAT...GTGCG',\\\n",
    "                                  'GGTGA...TCGCT',\\\n",
    "                                  'GGGGT...ATCTC',\\\n",
    "                                  'TTGTT...GATGG',\\\n",
    "                                  'ATTGG...TTAGT']"
   ]
  },
  {
   "cell_type": "code",
   "execution_count": null,
   "metadata": {
    "scrolled": false
   },
   "outputs": [],
   "source": [
    "allDF_bin_screen_notWRTMedian,\\\n",
    "offDF_bin_screen,\\\n",
    "onDF_bin_screen,\\\n",
    "allDF_bin_screen = pull_lib_members(\\\n",
    "                                           offDF           =offDF,\\\n",
    "                                           onDF            =onDF,\\\n",
    "                                           candidate_list  = cloned_members_list_bin_screen,\\\n",
    "                                           verbose         = False,\\\n",
    "                                           desired_columns = ['RNAME',\\\n",
    "                                                              'BIN_MEDIAN_POS',\\\n",
    "                                                              'BIN_MEDIAN_NEG',\\\n",
    "                                                              'FOLD_PpSpm_MEDIAN',\\\n",
    "                                                              'DELTA_PpSpm_MEDIAN',\\\n",
    "                                                              'LIBRARY_MEMBER_UMI_COVERAGE_POS',\\\n",
    "                                                              'LIBRARY_MEMBER_UMI_COVERAGE_NEG',\\\n",
    "                                                              'P_PLUS_AU_ABUNDANCE_MEDIAN',\\\n",
    "                                                              'P_MINUS_AU_ABUNDANCE_MEDIAN',\\\n",
    "                                                              'FOLD_PKG_EFFICIENCY_MEDIAN',\\\n",
    "                                                              'DELTA_PKG_EFFICIENCY_MEDIAN'        ]    )"
   ]
  },
  {
   "cell_type": "code",
   "execution_count": null,
   "metadata": {
    "scrolled": false
   },
   "outputs": [],
   "source": [
    "allDF_bin_screen"
   ]
  },
  {
   "cell_type": "code",
   "execution_count": null,
   "metadata": {},
   "outputs": [],
   "source": [
    "offDF_bin_screen"
   ]
  },
  {
   "cell_type": "code",
   "execution_count": null,
   "metadata": {},
   "outputs": [],
   "source": [
    "onDF_bin_screen"
   ]
  },
  {
   "cell_type": "code",
   "execution_count": null,
   "metadata": {
    "scrolled": false
   },
   "outputs": [],
   "source": [
    "%%R -i allDF_bin_screen -i aptamer -w 1800 -h 500 -u px\n",
    "\n",
    "\n",
    "\n",
    "library(reshape2)\n",
    "\n",
    "allDF_bin_screen=melt(allDF_bin_screen)\n",
    "allDF_bin_screen$RNAME = factor(allDF_bin_screen$RNAME, levels = allDF_bin_screen$RNAME)\n",
    "\n",
    "columns = c('B+ median bin','B- median bin', 'αB','ΔB','UMI Coverage P+S+','UMI Coverage P+S-','P+ Abundance','P- Abundance','αP','ΔP')\n",
    "\n",
    "ggplot(allDF_bin_screen, aes(y=value, x=variable,fill=variable)) + \n",
    "    geom_bar( stat=\"identity\") +    \n",
    "    scale_x_discrete(labels=c('B+ median bin','B- median bin', 'αB','ΔB','UMI Coverage P+S+','UMI Coverage P+S-','P+ Abundance','P- Abundance','αP','ΔP'))    +   \n",
    "    scale_fill_manual(labels=columns,values=c('lightskyblue2','brown2','lightgreen','forestgreen','black','black','lightskyblue2','brown2','lightgreen','forestgreen')) +        facet_grid(~RNAME) +\n",
    "    labs(title=paste(\"Fluorescence Screen Candidates for Cloning\",aptamer,'\\n'),\n",
    "         x=\"\\nMetric\",\n",
    "         y=\"\\nValue [AU] wrt Median\\n\") +\n",
    "    theme ( axis.text.x = element_text(angle = 45, hjust = 1,size=16),\n",
    "            axis.text.y = element_text(size=20),\n",
    "            axis.title=element_text(size=18,face=\"bold\"),\n",
    "            strip.text.x = element_text(size = 20, face='bold'),\n",
    "            plot.title = element_text(size=30, face='bold'))"
   ]
  },
  {
   "cell_type": "code",
   "execution_count": null,
   "metadata": {
    "scrolled": false
   },
   "outputs": [],
   "source": [
    "%%R -i allDF_bin_screen -i aptamer -w 1800 -h 500 -u px\n",
    "\n",
    "\n",
    "\n",
    "library(reshape2)\n",
    "\n",
    "allDF_bin_screen=melt(allDF_bin_screen)\n",
    "allDF_bin_screen$RNAME = factor(allDF_bin_screen$RNAME, levels = allDF_bin_screen$RNAME)\n",
    "\n",
    "columns = c('B+ median bin','B- median bin', 'αB','ΔB','UMI Coverage P+S+','UMI Coverage P+S-','P+ Abundance','P- Abundance','αP','ΔP')\n",
    "\n",
    "ggplot(allDF_bin_screen, aes(y=value, x=variable,fill=variable)) + \n",
    "    geom_bar( stat=\"identity\") +    \n",
    "    scale_x_discrete(labels=columns)    +   \n",
    "    scale_y_continuous(lim = c(0,5), breaks=seq(-6,5,by=1)) +\n",
    "    scale_fill_manual(\"legend\",labels=columns,values=c('lightskyblue2','brown2','lightgreen','forestgreen','black','black','lightskyblue2','brown2','lightgreen','forestgreen')) +    \n",
    "    facet_grid(~RNAME) +\n",
    "    labs(title=paste(\"Fluorescence Screen Candidates for Cloning\",aptamer,'\\n'),\n",
    "         x=\"\\nMetric\",\n",
    "         y=\"\\nValue [AU] wrt Median\\n\") +\n",
    "    theme ( axis.text.x = element_text(angle = 45, hjust = 1,size=12),\n",
    "            axis.text.y = element_text(size=20),\n",
    "            axis.title=element_text(size=18,face=\"bold\"),\n",
    "            strip.text.x = element_text(size = 20, face='bold'),\n",
    "            plot.title = element_text(size=30, face='bold'))"
   ]
  },
  {
   "cell_type": "code",
   "execution_count": null,
   "metadata": {
    "scrolled": true
   },
   "outputs": [],
   "source": [
    "allDF_bin_screen_notWRTMedian"
   ]
  },
  {
   "cell_type": "markdown",
   "metadata": {},
   "source": [
    "# <span style=\"color:red\">Graveyard!"
   ]
  },
  {
   "cell_type": "markdown",
   "metadata": {},
   "source": [
    "# <span style=\"color:red\">Graveyard!"
   ]
  },
  {
   "cell_type": "markdown",
   "metadata": {},
   "source": [
    "# <span style=\"color:red\">Graveyard!"
   ]
  },
  {
   "cell_type": "markdown",
   "metadata": {},
   "source": [
    "# Inspecting pre-screened library"
   ]
  },
  {
   "cell_type": "code",
   "execution_count": null,
   "metadata": {
    "collapsed": true
   },
   "outputs": [],
   "source": [
    "# %%R -i masterOFFdf -i aptamer -w 3000 -h 1000 -u px\n",
    "\n",
    "# masterOFFdf$RNAME = factor(masterOFFdf$RNAME, levels = masterOFFdf$RNAME)\n",
    "# masterOFFdf['P_PLUS_AU_ABUNDANCE_MEDIAN'] <-  round(masterOFFdf['P_PLUS_AU_ABUNDANCE_MEDIAN'], 3)\n",
    "\n",
    "# ggplot(masterOFFdf, aes(x=RNAME, y=FOLD_PKG_EFFICIENCY_MEDIAN, fill=PLASMID_AU_ABUNDANCE_MEDIAN, color=MEDIAN_GREATER_1)) + \n",
    "#     geom_bar(stat='identity',size=1) +\n",
    "#     scale_color_manual(name='Median',label=c('Less Than 1','Greather Than 1'),values=c('orange','lightblue')) +\n",
    "#     scale_fill_gradient2(name='Pre-Transduction\\nAbundance [AU]\\n', low=\"red\", high=\"blue\", midpoint=1) +\n",
    "#     labs(title=paste(aptamer,\"Top 100 Performering On-Switches\"), subtitle=paste('Binned by Abundance in Cleavage State (low to high); Sorted Left to Right by ΔP (high to low)\\nColored By Pre-Transduction Abundance\\nBoxed based on if Stable state is greater or less than median', '\\n', sep=''),x=\"\\nLibrary Member\", y=\"ΔP = (P+) - (P-)\\n[AU] wrt Median\\n\") +\n",
    "# #     scale_y_continuous(breaks = seq(0,5, by = 1),limits=c(0,5)) +\n",
    "# #     scale_y_continuous(breaks = seq(-5,0, by = 1),limits=c(-5,0)) +\n",
    "# #     scale_y_continuous(breaks = seq(-500,0, by = 50),limits=c(-300,0)) +\n",
    "#     scale_y_continuous(breaks = seq(-10,0, by = 1),limits=c(-8,0)) +\n",
    "#     geom_text(aes(label=P_PLUS_AU_ABUNDANCE_MEDIAN), vjust=-1, size=3) +\n",
    "#     theme(axis.text=element_text(size=15),\n",
    "#           axis.title=element_text(size=18,face=\"bold\"),\n",
    "#           axis.text.x = element_text(angle = 45, hjust = 1,size=10),\n",
    "#           axis.ticks.x=element_blank(),\n",
    "#           plot.title=element_text(size=35,face=\"bold\"),\n",
    "#           plot.subtitle=element_text(size=25),\n",
    "#           legend.title=element_text(size=17),\n",
    "#           legend.text=element_text(size=12),\n",
    "#           panel.grid.major = element_blank())"
   ]
  },
  {
   "cell_type": "code",
   "execution_count": null,
   "metadata": {
    "collapsed": true
   },
   "outputs": [],
   "source": [
    "# %%R -i offDF_100 -i aptamer -w 2400 -h 700 -u px\n",
    "\n",
    "# offDF_100$RNAME = factor(offDF_100$RNAME, levels = offDF_100$RNAME)\n",
    "\n",
    "\n",
    "# ggplot(offDF_100, aes(x=RNAME, y=FOLD_MEDIAN, fill=P_PLUS_AU_ABUNDANCE_MEDIAN, color=CLONED_AFTER_WHICH_SCREEN)) + \n",
    "#     scale_color_manual(name='Sample Prep\\nCoverage',label=c('≥ median','< median'),values=c('orange','lightblue')) +\n",
    "#     geom_text(aes(label=FOLD_PKG_EFFICIENCY_MEDIAN), vjust=-1, size=3) +\n",
    "#     geom_bar(stat='identity',size=1) +\n",
    "#     scale_fill_gradient2(name='P+ Abundance\\n[AU] wrt median\\n', low=\"red\", high=\"blue\", midpoint=1) +\n",
    "#     labs(title=paste(aptamer,\"Top 100 Performering off-Switches\"), subtitle=paste('Binned by Basal Fluorescence(low to high); Sorted Left to Right by αB (high to low)\\nColored By Pre-Transduction (Plasmid) Abundance\\n', '\\n', sep=''),x=\"\\nLibrary Member\", y=\"\\n\\nαB = (B+) ÷ (B-)\\n[AU] wrt mean\\n\") +\n",
    "#     scale_y_continuous(breaks = seq(0,8, by = 1),limits=c(0,8)) +\n",
    "#     theme(axis.text=element_text(size=15),\n",
    "#           axis.title=element_text(size=18,face=\"bold\"),\n",
    "#           axis.text.x = element_text(angle = 45, hjust = 1,size=10),\n",
    "#           axis.ticks.x=element_blank(),\n",
    "#           plot.title=element_text(size=35,face=\"bold\"),\n",
    "#           plot.subtitle=element_text(size=25),\n",
    "#           legend.title=element_text(size=17),\n",
    "#           legend.text=element_text(size=12),\n",
    "#           panel.grid.major = element_blank())"
   ]
  },
  {
   "cell_type": "code",
   "execution_count": null,
   "metadata": {
    "collapsed": true
   },
   "outputs": [],
   "source": [
    "# %%R -i offDFmean100 -i aptamer -w 2400 -h 700 -u px\n",
    "\n",
    "# offDFmean100$RNAME = factor(offDFmean100$RNAME, levels = offDFmean100$RNAME)\n",
    "\n",
    "\n",
    "# ggplot(offDFmean100, aes(x=RNAME, y=DELTA_FLUORESCENCE_MEAN, fill=P_PLUS_AU_ABUNDANCE_MEDIAN, color=LIBRARY_MEMBER_UMI_COVERAGE_BOOLEAN)) + \n",
    "#     scale_color_manual(name='Sample Prep\\nCoverage',label=c('≥ median','< median'),values=c('orange','lightblue')) +\n",
    "#     geom_text(aes(label=LIBRARY_MEMBER_UMI_COVERAGE), vjust=-1, size=3) +\n",
    "#     geom_bar(stat='identity',size=1) +\n",
    "# #     scale_color_manual(name='Observed in...',label=c('P+ and P-','P+ only'),values=c('orange','lightblue')) +\n",
    "#     scale_fill_gradient2(name='P+ Abundance\\n[AU] wrt median\\n', low=\"red\", high=\"blue\", midpoint=1) +\n",
    "#     labs(title=paste(aptamer,\"Top 100 Performering off-Switches\"), subtitle=paste('Binned by Basal Fluorescence(low to high); Sorted Left to Right by αB (high to low)\\nColored By Pre-Transduction (Plasmid) Abundance\\n', '\\n', sep=''),x=\"\\nLibrary Member\", y=\"\\n\\nΔB = (B+) - (B-)\\n[AU] wrt mean\\n\") +\n",
    "#     scale_y_continuous(breaks = seq(0,8, by = 1),limits=c(0,8)) +\n",
    "#     theme(axis.text=element_text(size=15),\n",
    "#           axis.title=element_text(size=18,face=\"bold\"),\n",
    "#           axis.text.x = element_text(angle = 45, hjust = 1,size=10),\n",
    "#           axis.ticks.x=element_blank(),\n",
    "#           plot.title=element_text(size=35,face=\"bold\"),\n",
    "#           plot.subtitle=element_text(size=25),\n",
    "#           legend.title=element_text(size=17),\n",
    "#           legend.text=element_text(size=12),\n",
    "#           panel.grid.major = element_blank())"
   ]
  },
  {
   "cell_type": "code",
   "execution_count": null,
   "metadata": {
    "collapsed": true
   },
   "outputs": [],
   "source": [
    "# %%R -i offDFmedian100 -i aptamer -w 2400 -h 700 -u px\n",
    "\n",
    "# offDFmedian100$RNAME = factor(offDFmedian100$RNAME, levels = offDFmedian100$RNAME)\n",
    "\n",
    "\n",
    "# ggplot(offDFmedian100, aes(x=RNAME, y=FOLD_MEDIAN, fill=P_PLUS_AU_ABUNDANCE_MEDIAN, color=LIBRARY_MEMBER_UMI_COVERAGE_BOOLEAN)) + \n",
    "#     scale_color_manual(name='Sample Prep\\nCoverage',label=c('≥ median','< median'),values=c('orange','lightblue')) +\n",
    "#     geom_text(aes(label=LIBRARY_MEMBER_UMI_COVERAGE), vjust=-1, size=3) +\n",
    "#     geom_bar(stat='identity',size=1) +\n",
    "# #     scale_color_manual(name='Observed in...',label=c('P+ and P-','P+ only'),values=c('orange','lightblue')) +\n",
    "#     scale_fill_gradient2(name='P+ Abundance\\n[AU] wrt median\\n', low=\"red\", high=\"blue\", midpoint=1) +\n",
    "#     labs(title=paste(aptamer,\"Top 100 Performering off-Switches\"), subtitle=paste('Binned by Basal Fluorescence(low to high); Sorted Left to Right by αB (high to low)\\nColored By Pre-Transduction (Plasmid) Abundance\\n', '\\n', sep=''),x=\"\\nLibrary Member\", y=\"\\n\\nαB = (B+) ÷ (B-)\\n[AU] wrt median\\n\") +\n",
    "#     scale_y_continuous(breaks = seq(0,8, by = 1),limits=c(0,8)) +\n",
    "#     theme(axis.text=element_text(size=15),\n",
    "#           axis.title=element_text(size=18,face=\"bold\"),\n",
    "#           axis.text.x = element_text(angle = 45, hjust = 1,size=10),\n",
    "#           axis.ticks.x=element_blank(),\n",
    "#           plot.title=element_text(size=35,face=\"bold\"),\n",
    "#           plot.subtitle=element_text(size=25),\n",
    "#           legend.title=element_text(size=17),\n",
    "#           legend.text=element_text(size=12),\n",
    "#           panel.grid.major = element_blank())"
   ]
  },
  {
   "cell_type": "code",
   "execution_count": null,
   "metadata": {
    "collapsed": true
   },
   "outputs": [],
   "source": [
    "# %%R -i offDFmedian100 -i aptamer -w 2400 -h 700 -u px\n",
    "\n",
    "# offDFmedian100$RNAME = factor(offDFmedian100$RNAME, levels = offDFmedian100$RNAME)\n",
    "\n",
    "\n",
    "# ggplot(offDFmedian100, aes(x=RNAME, y=DELTA_MEDIAN, fill=P_PLUS_AU_ABUNDANCE_MEDIAN, color=LIBRARY_MEMBER_UMI_COVERAGE_BOOLEAN)) + \n",
    "#     scale_color_manual(name='Sample Prep\\nCoverage',label=c('≥ median','< median'),values=c('orange','lightblue')) +\n",
    "#     geom_text(aes(label=LIBRARY_MEMBER_UMI_COVERAGE), vjust=-1, size=3) +\n",
    "#     geom_bar(stat='identity',size=1) +\n",
    "# #     scale_color_manual(name='Observed in...',label=c('P+ and P-','P+ only'),values=c('orange','lightblue')) +\n",
    "#     scale_fill_gradient2(name='P+ Abundance\\n[AU] wrt median\\n', low=\"red\", high=\"blue\", midpoint=1) +\n",
    "#     labs(title=paste(aptamer,\"Top 100 Performering off-Switches\"), subtitle=paste('Binned by Basal Fluorescence(low to high); Sorted Left to Right by αB (high to low)\\nColored By Pre-Transduction (Plasmid) Abundance\\n', '\\n', sep=''),x=\"\\nLibrary Member\", y=\"\\n\\nΔB = (B+) - (B-)\\n[AU] wrt median\\n\") +\n",
    "#     scale_y_continuous(breaks = seq(0,8, by = 1),limits=c(0,8)) +\n",
    "#     theme(axis.text=element_text(size=15),\n",
    "#           axis.title=element_text(size=18,face=\"bold\"),\n",
    "#           axis.text.x = element_text(angle = 45, hjust = 1,size=10),\n",
    "#           axis.ticks.x=element_blank(),\n",
    "#           plot.title=element_text(size=35,face=\"bold\"),\n",
    "#           plot.subtitle=element_text(size=25),\n",
    "#           legend.title=element_text(size=17),\n",
    "#           legend.text=element_text(size=12),\n",
    "#           panel.grid.major = element_blank())"
   ]
  },
  {
   "cell_type": "code",
   "execution_count": null,
   "metadata": {
    "collapsed": true
   },
   "outputs": [],
   "source": [
    "# %%R -i onDFmean100 -i aptamer -w 2400 -h 700 -u px\n",
    "\n",
    "# onDFmean100$RNAME = factor(onDFmean100$RNAME, levels = onDFmean100$RNAME)\n",
    "\n",
    "\n",
    "# ggplot(onDFmean100, aes(x=RNAME, y=FOLD_MEAN, fill=P_MINUS_AU_ABUNDANCE_MEDIAN, color=LIBRARY_MEMBER_UMI_COVERAGE_BOOLEAN)) + \n",
    "#     scale_color_manual(name='Sample Prep\\nCoverage',label=c('≥ median','< median'),values=c('orange','lightblue')) +\n",
    "#     geom_text(aes(label=LIBRARY_MEMBER_UMI_COVERAGE), vjust=-1, size=3) +\n",
    "#     geom_bar(stat='identity',size=1) +\n",
    "# #     scale_color_manual(name='Observed in...',label=c('P+ and P-','P+ only'),values=c('orange','lightblue')) +\n",
    "#     scale_fill_gradient2(name='P- Abundance\\n[AU] wrt median\\n', low=\"red\", high=\"blue\", midpoint=1) +\n",
    "#     labs(title=paste(aptamer,\"Top 100 Performering on-Switches\"), subtitle=paste('Binned by Basal Fluorescence(low to high); Sorted Left to Right by αB (high to low)\\nColored By Pre-Transduction (Plasmid) Abundance\\n', '\\n', sep=''),x=\"\\nLibrary Member\", y=\"\\n\\nαB = (B+) ÷ (B-)\\n[AU] wrt mean\\n\") +\n",
    "#     scale_y_continuous(breaks = seq(-8,0, by = 1),limits=c(-8,0)) +\n",
    "#     theme(axis.text=element_text(size=15),\n",
    "#           axis.title=element_text(size=18,face=\"bold\"),\n",
    "#           axis.text.x = element_text(angle = 45, hjust = 1,size=10),\n",
    "#           axis.ticks.x=element_blank(),\n",
    "#           plot.title=element_text(size=35,face=\"bold\"),\n",
    "#           plot.subtitle=element_text(size=25),\n",
    "#           legend.title=element_text(size=17),\n",
    "#           legend.text=element_text(size=12),\n",
    "#           panel.grid.major = element_blank())"
   ]
  },
  {
   "cell_type": "code",
   "execution_count": null,
   "metadata": {
    "collapsed": true
   },
   "outputs": [],
   "source": [
    "# %%R -i onDFmean100 -i aptamer -w 2400 -h 700 -u px\n",
    "\n",
    "# onDFmean100$RNAME = factor(onDFmean100$RNAME, levels = onDFmean100$RNAME)\n",
    "\n",
    "\n",
    "# ggplot(onDFmean100, aes(x=RNAME, y=DELTA_MEAN, fill=P_MINUS_AU_ABUNDANCE_MEDIAN, color=LIBRARY_MEMBER_UMI_COVERAGE_BOOLEAN)) + \n",
    "#     scale_color_manual(name='Sample Prep\\nCoverage',label=c('≥ median','< median'),values=c('orange','lightblue')) +\n",
    "#     geom_text(aes(label=LIBRARY_MEMBER_UMI_COVERAGE), vjust=-1, size=3) +\n",
    "#     geom_bar(stat='identity',size=1) +\n",
    "# #     scale_color_manual(name='Observed in...',label=c('P+ and P-','P+ only'),values=c('orange','lightblue')) +\n",
    "#     scale_fill_gradient2(name='P- Abundance\\n[AU] wrt median\\n', low=\"red\", high=\"blue\", midpoint=1) +\n",
    "#     labs(title=paste(aptamer,\"Top 100 Performering on-Switches\"), subtitle=paste('Binned by Basal Fluorescence(low to high); Sorted Left to Right by αB (high to low)\\nColored By Pre-Transduction (Plasmid) Abundance\\n', '\\n', sep=''),x=\"\\nLibrary Member\", y=\"\\n\\nΔB = (B+) - (B-)\\n[AU] wrt mean\\n\") +\n",
    "#     scale_y_continuous(breaks = seq(-8,0, by = 1),limits=c(-8,0)) +\n",
    "#     theme(axis.text=element_text(size=15),\n",
    "#           axis.title=element_text(size=18,face=\"bold\"),\n",
    "#           axis.text.x = element_text(angle = 45, hjust = 1,size=10),\n",
    "#           axis.ticks.x=element_blank(),\n",
    "#           plot.title=element_text(size=35,face=\"bold\"),\n",
    "#           plot.subtitle=element_text(size=25),\n",
    "#           legend.title=element_text(size=17),\n",
    "#           legend.text=element_text(size=12),\n",
    "#           panel.grid.major = element_blank())"
   ]
  },
  {
   "cell_type": "code",
   "execution_count": null,
   "metadata": {
    "collapsed": true
   },
   "outputs": [],
   "source": [
    "# %%R -i onDFmedian100 -i aptamer -w 2400 -h 700 -u px\n",
    "\n",
    "# onDFmedian100$RNAME = factor(onDFmedian100$RNAME, levels = onDFmedian100$RNAME)\n",
    "\n",
    "\n",
    "# ggplot(onDFmedian100, aes(x=RNAME, y=FOLD_MEDIAN, fill=P_MINUS_AU_ABUNDANCE_MEDIAN, color=LIBRARY_MEMBER_UMI_COVERAGE_BOOLEAN)) + \n",
    "#     scale_color_manual(name='Sample Prep\\nCoverage',label=c('≥ median','< median'),values=c('orange','lightblue')) +\n",
    "#     geom_text(aes(label=LIBRARY_MEMBER_UMI_COVERAGE), vjust=-1, size=3) +\n",
    "#     geom_bar(stat='identity',size=1) +\n",
    "# #     scale_color_manual(name='Observed in...',label=c('P+ and P-','P+ only'),values=c('orange','lightblue')) +\n",
    "#     scale_fill_gradient2(name='P- Abundance\\n[AU] wrt median\\n', low=\"red\", high=\"blue\", midpoint=1) +\n",
    "#     labs(title=paste(aptamer,\"Top 100 Performering on-Switches\"), subtitle=paste('Binned by Basal Fluorescence(low to high); Sorted Left to Right by αB (high to low)\\nColored By Pre-Transduction (Plasmid) Abundance\\n', '\\n', sep=''),x=\"\\nLibrary Member\", y=\"\\n\\nαB = (B+) ÷ (B-)\\n[AU] wrt median\\n\") +\n",
    "#     scale_y_continuous(breaks = seq(-8,0, by = 1),limits=c(-8,0)) +\n",
    "#     theme(axis.text=element_text(size=15),\n",
    "#           axis.title=element_text(size=18,face=\"bold\"),\n",
    "#           axis.text.x = element_text(angle = 45, hjust = 1,size=10),\n",
    "#           axis.ticks.x=element_blank(),\n",
    "#           plot.title=element_text(size=35,face=\"bold\"),\n",
    "#           plot.subtitle=element_text(size=25),\n",
    "#           legend.title=element_text(size=17),\n",
    "#           legend.text=element_text(size=12),\n",
    "#           panel.grid.major = element_blank())"
   ]
  },
  {
   "cell_type": "code",
   "execution_count": null,
   "metadata": {
    "collapsed": true
   },
   "outputs": [],
   "source": [
    "# %%R -i onDFmedian100 -i aptamer -w 2400 -h 700 -u px\n",
    "\n",
    "# onDFmedian100$RNAME = factor(onDFmedian100$RNAME, levels = onDFmedian100$RNAME)\n",
    "\n",
    "\n",
    "# ggplot(onDFmedian100, aes(x=RNAME, y=DELTA_MEDIAN, fill=P_MINUS_AU_ABUNDANCE_MEDIAN, color=LIBRARY_MEMBER_UMI_COVERAGE_BOOLEAN)) + \n",
    "#     scale_color_manual(name='Sample Prep\\nCoverage',label=c('≥ median','< median'),values=c('orange','lightblue')) +\n",
    "#     geom_text(aes(label=LIBRARY_MEMBER_UMI_COVERAGE), vjust=-1, size=3) +\n",
    "#     geom_bar(stat='identity',size=1) +\n",
    "# #     scale_color_manual(name='Observed in...',label=c('P+ and P-','P+ only'),values=c('orange','lightblue')) +\n",
    "#     scale_fill_gradient2(name='P- Abundance\\n[AU] wrt median\\n', low=\"red\", high=\"blue\", midpoint=1) +\n",
    "#     labs(title=paste(aptamer,\"Top 100 Performering on-Switches\"), subtitle=paste('Binned by Basal Fluorescence(low to high); Sorted Left to Right by αB (high to low)\\nColored By Pre-Transduction (Plasmid) Abundance\\n', '\\n', sep=''),x=\"\\nLibrary Member\", y=\"\\n\\nΔB = (B+) - (B-)\\n[AU] wrt median\\n\") +\n",
    "#     scale_y_continuous(breaks = seq(-8,0, by = 1),limits=c(-8,0)) +\n",
    "#     theme(axis.text=element_text(size=15),\n",
    "#           axis.title=element_text(size=18,face=\"bold\"),\n",
    "#           axis.text.x = element_text(angle = 45, hjust = 1,size=10),\n",
    "#           axis.ticks.x=element_blank(),\n",
    "#           plot.title=element_text(size=35,face=\"bold\"),\n",
    "#           plot.subtitle=element_text(size=25),\n",
    "#           legend.title=element_text(size=17),\n",
    "#           legend.text=element_text(size=12),\n",
    "#           panel.grid.major = element_blank())"
   ]
  },
  {
   "cell_type": "markdown",
   "metadata": {},
   "source": [
    "# Old basal screen (found in non-umi)"
   ]
  },
  {
   "cell_type": "code",
   "execution_count": null,
   "metadata": {
    "collapsed": true
   },
   "outputs": [],
   "source": [
    "# # NOTE!! If bin label has disappeared from the excel sheet at a certain point, it is most likely that the values in the excel sheet exceeded the number of bins there were\n",
    "# def bin_and_order_basal(input_meanOFFdf,\\\n",
    "#                   input_medianOFFdf,\\\n",
    "#                   input_meanONdf,\\\n",
    "#                   input_medianONdf,\\\n",
    "#                   number_keep,\\\n",
    "#                   bins,\\\n",
    "#                   round_bin_name,\\\n",
    "#                   df_type,\\\n",
    "#                   tsv_ON_fname,\\\n",
    "#                   tsv_OFF_fname,\\\n",
    "#                   directory):\n",
    "#     '''\n",
    "#     NOTE!! tsv_output_basename must be in_bothDF, in_posDF or in_negDF. these names are baked into the code (look for if statements looking for the identity of tsv_output_basename)\n",
    "#     INPUT:\n",
    "#       input_mean/median/ON/OFF/df         = data frame with RNAME, \n",
    "#                                            P_MINUS_AU_ABUNDANCE_MEAN/MEDIAN, \n",
    "#                                            P_PLUS_AU_ABUNDANCE_MEAN/MEDIAN,\n",
    "#                                            Metric (ΔP or αP)\n",
    "#                                            ... for measurements wrt mean and median, ON and OFF switches\n",
    "#       number_keep = number of library members to keep in the subsampled excel sheet\n",
    "#       perform_percentile_screen = boolean condition indicating whether or not to trim library based on percentile\n",
    "#       bins       = list of bin boundaries (useful to use np.arange(start,stop,step) to create list)\n",
    "#       df_type = either in_both, in_pos or in_neg. Depends on if the switchDF is from P+ and P-, just P+ or just P-\n",
    "#       tsv_OFF_fname = basename to output csv file for OFF switches (mean, median, ΔP, and αP will be added to them)\n",
    "#       tsv_ON_fname = basename to output csv file for ON switches (mean, median, ΔP, and αP will be added to them)\n",
    "#       directory = directory to output files to\n",
    "#     OUTPUT:\n",
    "#       tsv files for different ways of calculating the metric\n",
    "#     '''\n",
    "    \n",
    "    \n",
    "#     # onlyIn_posDF and onlyIn_negDF ostensibly only have off- and on-switches, respectively.\n",
    "#     # However, in_bothDF should have both off- and on-switches.\n",
    "#     # Here, if the library is we subsample in_bothDF library to create in_bothOFFdf and in_bothONdf\n",
    "#     if df_type == 'in_both':\n",
    "#         input_meanOFFdf   = input_meanOFFdf  [input_meanOFFdf['SWITCH_TYPE_FOLD_MEAN']=='Off-switch']\n",
    "#         input_meanONdf    = input_meanONdf   [input_meanONdf ['SWITCH_TYPE_FOLD_MEAN']=='On-switch']\n",
    "#         input_medianOFFdf = input_medianOFFdf[input_medianOFFdf['SWITCH_TYPE_FOLD_MEDIAN']=='Off-switch']\n",
    "#         input_medianONdf  = input_medianONdf [input_medianONdf ['SWITCH_TYPE_FOLD_MEDIAN']=='On-switch']\n",
    "        \n",
    "        \n",
    "#     # Grab cols for meanOFFdf and meanONdf\n",
    "#     # meanDF gets P_PLUS_AU_ABUNDANCE_MEDIAN so we can later screen for members whose P_PLUS is > median\n",
    "#     # Do this for both ONdf and OFFdf\n",
    "#     #\n",
    "#     # Grab cols for meanDF\n",
    "#     meanOFFdf   = pd.DataFrame()\n",
    "#     meanOFFdf  ['RNAME']                       = input_meanOFFdf   ['RNAME']\n",
    "#     meanOFFdf  ['P_PLUS_AU_ABUNDANCE_MEAN']    = input_meanOFFdf   ['P_PLUS_AU_ABUNDANCE_MEAN']\n",
    "#     meanOFFdf  ['P_PLUS_AU_ABUNDANCE_MEDIAN']  = input_medianOFFdf ['P_PLUS_AU_ABUNDANCE_MEDIAN']\n",
    "#     meanOFFdf  ['P_MINUS_AU_ABUNDANCE_MEAN']   = input_meanOFFdf   ['P_MINUS_AU_ABUNDANCE_MEAN']\n",
    "#     meanOFFdf  ['P_MINUS_AU_ABUNDANCE_MEDIAN'] = input_medianOFFdf ['P_MINUS_AU_ABUNDANCE_MEDIAN']\n",
    "#     meanOFFdf  ['DELTA_PKG_EFFICIENCY_MEAN']   = input_meanOFFdf   ['DELTA_PKG_EFFICIENCY_MEAN']\n",
    "#     meanOFFdf  ['FOLD_PKG_EFFICIENCY_MEAN']    = input_meanOFFdf   ['FOLD_PKG_EFFICIENCY_MEAN']\n",
    "#     meanOFFdf  ['PLASMID_AU_ABUNDANCE_MEAN']   = input_meanOFFdf   ['PLASMID_AU_ABUNDANCE_MEAN']\n",
    "    \n",
    "#     meanONdf   = pd.DataFrame()\n",
    "#     meanONdf  ['RNAME']                       = input_meanONdf   ['RNAME']\n",
    "#     meanONdf  ['P_PLUS_AU_ABUNDANCE_MEAN']    = input_meanONdf   ['P_PLUS_AU_ABUNDANCE_MEAN']\n",
    "#     meanONdf  ['P_PLUS_AU_ABUNDANCE_MEDIAN']  = input_medianONdf ['P_PLUS_AU_ABUNDANCE_MEDIAN']\n",
    "#     meanONdf  ['P_MINUS_AU_ABUNDANCE_MEAN']   = input_meanONdf   ['P_MINUS_AU_ABUNDANCE_MEAN']\n",
    "#     meanONdf  ['P_MINUS_AU_ABUNDANCE_MEDIAN'] = input_medianONdf ['P_MINUS_AU_ABUNDANCE_MEDIAN']\n",
    "#     meanONdf  ['DELTA_PKG_EFFICIENCY_MEAN']   = input_meanONdf   ['DELTA_PKG_EFFICIENCY_MEAN']\n",
    "#     meanONdf  ['FOLD_PKG_EFFICIENCY_MEAN']    = input_meanONdf   ['FOLD_PKG_EFFICIENCY_MEAN']\n",
    "#     meanONdf  ['PLASMID_AU_ABUNDANCE_MEAN']   = input_meanONdf   ['PLASMID_AU_ABUNDANCE_MEAN']\n",
    "\n",
    "#     # Grab cols for medianDF\n",
    "#     medianOFFdf   = pd.DataFrame()\n",
    "#     medianOFFdf    ['RNAME']                       = input_medianOFFdf ['RNAME']\n",
    "#     medianOFFdf    ['P_PLUS_AU_ABUNDANCE_MEDIAN']  = input_medianOFFdf ['P_PLUS_AU_ABUNDANCE_MEDIAN']\n",
    "#     medianOFFdf    ['P_MINUS_AU_ABUNDANCE_MEDIAN'] = input_medianOFFdf ['P_MINUS_AU_ABUNDANCE_MEDIAN']\n",
    "#     medianOFFdf    ['DELTA_PKG_EFFICIENCY_MEDIAN'] = input_medianOFFdf ['DELTA_PKG_EFFICIENCY_MEDIAN']\n",
    "#     medianOFFdf    ['FOLD_PKG_EFFICIENCY_MEDIAN']  = input_medianOFFdf ['FOLD_PKG_EFFICIENCY_MEDIAN']\n",
    "#     medianOFFdf    ['PLASMID_AU_ABUNDANCE_MEDIAN'] = input_medianOFFdf ['PLASMID_AU_ABUNDANCE_MEDIAN']\n",
    " \n",
    "#     medianONdf   = pd.DataFrame()\n",
    "#     medianONdf    ['RNAME']                       = input_medianONdf ['RNAME']\n",
    "#     medianONdf    ['P_PLUS_AU_ABUNDANCE_MEDIAN']  = input_medianONdf ['P_PLUS_AU_ABUNDANCE_MEDIAN']\n",
    "#     medianONdf    ['P_MINUS_AU_ABUNDANCE_MEDIAN'] = input_medianONdf ['P_MINUS_AU_ABUNDANCE_MEDIAN']\n",
    "#     medianONdf    ['DELTA_PKG_EFFICIENCY_MEDIAN'] = input_medianONdf ['DELTA_PKG_EFFICIENCY_MEDIAN']\n",
    "#     medianONdf    ['FOLD_PKG_EFFICIENCY_MEDIAN']  = input_medianONdf ['FOLD_PKG_EFFICIENCY_MEDIAN']\n",
    "#     medianONdf    ['PLASMID_AU_ABUNDANCE_MEDIAN'] = input_medianONdf ['PLASMID_AU_ABUNDANCE_MEDIAN']\n",
    "    \n",
    "    \n",
    "#     # We are going to (later) bin for low basal expression.\n",
    "#     # We will first sort for...\n",
    "#     #\n",
    "#     #  OFFdf sort for low P-\n",
    "#     meanOFFdf   = meanOFFdf  .sort_values('P_MINUS_AU_ABUNDANCE_MEAN'  , ascending=True)\n",
    "#     medianOFFdf = medianOFFdf.sort_values('P_MINUS_AU_ABUNDANCE_MEDIAN', ascending=True)\n",
    "#     #  ONdf  sort for low P+\n",
    "#     meanONdf   = meanONdf  .sort_values('P_PLUS_AU_ABUNDANCE_MEAN'  , ascending=True)\n",
    "#     medianONdf = medianONdf.sort_values('P_PLUS_AU_ABUNDANCE_MEDIAN', ascending=True)\n",
    "    \n",
    "    \n",
    "#     # create top 100DF whose members off-state is > median\n",
    "#     # reset index so we can slice the top 100 members\n",
    "#     meanOFFdf100    = meanOFFdf  [meanOFFdf  .P_PLUS_AU_ABUNDANCE_MEDIAN >1].reset_index(drop=True)[:number_keep+1]\n",
    "#     medianOFFdf100  = medianOFFdf[medianOFFdf.P_PLUS_AU_ABUNDANCE_MEDIAN >1].reset_index(drop=True)[:number_keep+1]\n",
    "#     meanONdf100     = meanONdf   [meanONdf   .P_MINUS_AU_ABUNDANCE_MEDIAN>1].reset_index(drop=True)[:number_keep+1]\n",
    "#     medianONdf100   = medianONdf [medianONdf .P_MINUS_AU_ABUNDANCE_MEDIAN>1].reset_index(drop=True)[:number_keep+1]\n",
    "    \n",
    "   \n",
    "#     # Create bin names (each bin name is defined as the end point for that bin)\n",
    "#     binNames = list(bins[1:])\n",
    "#     binNames = [format(x,'.'+str(round_bin_name)+'f') for x in binNames]\n",
    "# #     print('Bin Names: ',binNames)\n",
    "\n",
    "\n",
    "#     # Bin data\n",
    "#     # Off-switches are binned by low 'basal' P-\n",
    "#     meanOFFdf     ['P_MINUS_BIN']     = pd.cut(meanOFFdf     ['P_MINUS_AU_ABUNDANCE_MEAN']  ,bins,labels=binNames) \n",
    "#     medianOFFdf   ['P_MINUS_BIN']     = pd.cut(medianOFFdf   ['P_MINUS_AU_ABUNDANCE_MEDIAN'],bins,labels=binNames)\n",
    "#     meanOFFdf100  ['P_MINUS_BIN']     = pd.cut(meanOFFdf100  ['P_MINUS_AU_ABUNDANCE_MEAN']  ,bins,labels=binNames) \n",
    "#     medianOFFdf100['P_MINUS_BIN']     = pd.cut(medianOFFdf100['P_MINUS_AU_ABUNDANCE_MEDIAN'],bins,labels=binNames)\n",
    "#     # On-switches are binned by low 'basal' P+\n",
    "#     meanONdf     ['P_PLUS_BIN']     = pd.cut(meanONdf     ['P_PLUS_AU_ABUNDANCE_MEAN']  ,bins,labels=binNames) \n",
    "#     medianONdf   ['P_PLUS_BIN']     = pd.cut(medianONdf   ['P_PLUS_AU_ABUNDANCE_MEDIAN'],bins,labels=binNames) \n",
    "#     meanONdf100  ['P_PLUS_BIN']     = pd.cut(meanONdf100  ['P_PLUS_AU_ABUNDANCE_MEAN']  ,bins,labels=binNames) \n",
    "#     medianONdf100['P_PLUS_BIN']     = pd.cut(medianONdf100['P_PLUS_AU_ABUNDANCE_MEDIAN'],bins,labels=binNames) \n",
    "\n",
    "        \n",
    "#     with open( directory+date+'_OFF_mean_'  +aptamer+'_'+tsv_OFF_fname                         +'-basal.tsv', 'w') as meanOFF      ,\\\n",
    "#         open(  directory+date+'_OFF_median_'+aptamer+'_'+tsv_OFF_fname                         +'-basal.tsv', 'w') as medianOFF    ,\\\n",
    "#         open(  directory+date+'_ON_mean_'   +aptamer+'_'+tsv_ON_fname                          +'-basal.tsv', 'w') as meanON       ,\\\n",
    "#         open(  directory+date+'_ON_median_' +aptamer+'_'+tsv_ON_fname                          +'-basal.tsv', 'w') as medianON     ,\\\n",
    "#         open(  directory+date+'_Top_'+str(number_keep)+'_OFF_mean_'  +aptamer+'_'+tsv_OFF_fname+'-basal.tsv', 'w') as meanOFF100    ,\\\n",
    "#         open(  directory+date+'_Top_'+str(number_keep)+'_OFF_median_'+aptamer+'_'+tsv_OFF_fname+'-basal.tsv', 'w') as medianOFF100  ,\\\n",
    "#         open(  directory+date+'_Top_'+str(number_keep)+'_ON_mean_'   +aptamer+'_'+tsv_ON_fname +'-basal.tsv', 'w') as meanON100     ,\\\n",
    "#         open(  directory+date+'_Top_'+str(number_keep)+'_ON_median_' +aptamer+'_'+tsv_ON_fname +'-basal.tsv', 'w') as medianON100:\n",
    "#             # Write each file by sorting for first bin, then the metric.\n",
    "#             meanOFFdf  .sort_values(['P_MINUS_BIN',   'FOLD_PKG_EFFICIENCY_MEAN'],ascending=[True,False])   .reset_index(drop=True).to_csv(  meanOFF,sep='\\t')\n",
    "#             medianOFFdf.sort_values(['P_MINUS_BIN', 'FOLD_PKG_EFFICIENCY_MEDIAN'],ascending=[True,False])   .reset_index(drop=True).to_csv(medianOFF,sep='\\t')\n",
    "#             meanONdf  .sort_values(['P_PLUS_BIN',   'FOLD_PKG_EFFICIENCY_MEAN'],ascending=[True,True])      .reset_index(drop=True).to_csv(  meanON,sep='\\t')\n",
    "#             medianONdf.sort_values(['P_PLUS_BIN', 'FOLD_PKG_EFFICIENCY_MEDIAN'],ascending=[True,True])      .reset_index(drop=True).to_csv(medianON,sep='\\t')\n",
    "#             meanOFFdf100  .sort_values(['P_MINUS_BIN',   'FOLD_PKG_EFFICIENCY_MEAN'],ascending=[True,False]).reset_index(drop=True).to_csv(  meanOFF100,sep='\\t')\n",
    "#             medianOFFdf100.sort_values(['P_MINUS_BIN', 'FOLD_PKG_EFFICIENCY_MEDIAN'],ascending=[True,False]).reset_index(drop=True).to_csv(medianOFF100,sep='\\t')\n",
    "#             meanONdf100  .sort_values(['P_PLUS_BIN',   'FOLD_PKG_EFFICIENCY_MEAN'],ascending=[True,True])   .reset_index(drop=True).to_csv(  meanON100,sep='\\t')\n",
    "#             medianONdf100.sort_values(['P_PLUS_BIN', 'FOLD_PKG_EFFICIENCY_MEDIAN'],ascending=[True,True])   .reset_index(drop=True).to_csv(medianON100,sep='\\t')"
   ]
  },
  {
   "cell_type": "markdown",
   "metadata": {},
   "source": [
    "# Graphically Probe Library Members"
   ]
  },
  {
   "cell_type": "code",
   "execution_count": null,
   "metadata": {
    "collapsed": true,
    "scrolled": false
   },
   "outputs": [],
   "source": [
    "# %%R -i statsDF_inboth -i aptamer -w 2400 -h 700 -u px\n",
    "\n",
    "# # Order members by metric you are graphing, and ensure ggplot2 doesn't reorder them once sorted\n",
    "# statsDF_inboth = statsDF_inboth[order(statsDF_inboth$FOLD_MEAN, decreasing=TRUE),]\n",
    "# statsDF_inboth$RNAME = factor(statsDF_inboth$RNAME, levels = statsDF_inboth$RNAME)\n",
    "\n",
    "# # Plotting this dataframe\n",
    "# # print(head(statsDF))\n",
    "\n",
    "# print(max(statsDF_inboth$FOLD_MEAN))\n",
    "# print(min(statsDF_inboth$FOLD_MEAN))\n",
    "\n",
    "# # Plot\n",
    "# ggplot(statsDF_inboth, aes(x=RNAME, y=FOLD_MEAN, fill=DELTA_MEAN)) + \n",
    "#     geom_bar(stat='identity') +\n",
    "#     scale_fill_gradient2(name='αB \\nwrt mean\\n', low=\"red\", high=\"blue\", midpoint=0) +\n",
    "#     labs(title=\"αB wrt mean for library members\", subtitle=paste('Fat',aptamer,sep=''),x=\"\\nLibrary Member\", y=\"\\n\\nαB wrt mean\\n\") +    \n",
    "#     scale_y_continuous(breaks = seq(-8,8, by = 2),limits=c(-8,8)) +\n",
    "#     theme(axis.text=element_text(size=15),\n",
    "#           axis.title=element_text(size=18,face=\"bold\"),\n",
    "#           axis.text.x=element_blank(),\n",
    "#           axis.ticks.x=element_blank(),\n",
    "#           plot.title=element_text(size=30,face=\"bold\"),\n",
    "#           plot.subtitle=element_text(size=20),\n",
    "#           legend.title=element_text(size=17),\n",
    "#           legend.text=element_text(size=12),\n",
    "#           panel.background = element_rect(fill='grey'))\n"
   ]
  },
  {
   "cell_type": "code",
   "execution_count": null,
   "metadata": {
    "collapsed": true,
    "scrolled": false
   },
   "outputs": [],
   "source": [
    "# %%R -i statsDF_inboth -i aptamer -w 2400 -h 700 -u px\n",
    "\n",
    "# # Order members by metric you are graphing, and ensure ggplot2 doesn't reorder them once sorted\n",
    "# statsDF_inboth = statsDF_inboth[order(statsDF_inboth$FOLD_MEAN, decreasing=TRUE),]\n",
    "# statsDF_inboth$RNAME = factor(statsDF_inboth$RNAME, levels = statsDF_inboth$RNAME)\n",
    "\n",
    "# # Plotting this dataframe\n",
    "# # print(head(statsDF_inboth))\n",
    "\n",
    "# print(max(statsDF_inboth$DELTA_MEAN))\n",
    "# print(min(statsDF_inboth$DELTA_MEAN))\n",
    "\n",
    "# # Plot\n",
    "# ggplot(statsDF_inboth, aes(x=RNAME, y=DELTA_MEAN, fill=DELTA_MEAN)) + \n",
    "#     geom_bar(stat='identity') +\n",
    "#     scale_fill_gradient2(name='ΔB \\nwrt mean\\n', low=\"red\", high=\"blue\", midpoint=0) +\n",
    "#     labs(title=\"ΔB wrt mean for library members\", subtitle=paste('Fat',aptamer,sep=''),x=\"\\nLibrary Member\", y=\"\\n\\nΔB wrt mean\\n\") +    \n",
    "#     scale_y_continuous(breaks = seq(-8,8, by = 2),limits=c(-8,8)) +\n",
    "#     theme(axis.text=element_text(size=15),\n",
    "#           axis.title=element_text(size=18,face=\"bold\"),\n",
    "#           axis.text.x=element_blank(),\n",
    "#           axis.ticks.x=element_blank(),\n",
    "#           plot.title=element_text(size=30,face=\"bold\"),\n",
    "#           plot.subtitle=element_text(size=20),\n",
    "#           legend.title=element_text(size=17),\n",
    "#           legend.text=element_text(size=12))\n"
   ]
  },
  {
   "cell_type": "code",
   "execution_count": null,
   "metadata": {
    "collapsed": true,
    "scrolled": false
   },
   "outputs": [],
   "source": [
    "# %%R -i statsDF_inboth -i aptamer -w 2400 -h 700 -u px\n",
    "\n",
    "# # Order members by metric you are graphing, and ensure ggplot2 doesn't reorder them once sorted\n",
    "# statsDF_inboth = statsDF_inboth[order(statsDF_inboth$FOLD_MEDIAN, decreasing=TRUE),]\n",
    "# statsDF_inboth$RNAME = factor(statsDF_inboth$RNAME, levels = statsDF_inboth$RNAME)\n",
    "\n",
    "# # Plotting this dataframe\n",
    "# # print(head(statsDF))\n",
    "\n",
    "# print(max(statsDF_inboth$FOLD_MEDIAN))\n",
    "# print(min(statsDF_inboth$FOLD_MEDIAN))\n",
    "\n",
    "# # Plot\n",
    "# ggplot(statsDF_inboth, aes(x=RNAME, y=FOLD_MEDIAN, fill=DELTA_MEDIAN)) + \n",
    "#     geom_bar(stat='identity') +\n",
    "#     scale_fill_gradient2(name='αB \\nwrt median\\n', low=\"red\", high=\"blue\", midpoint=0) +\n",
    "#     labs(title=\"αB wrt median for library members\", subtitle=paste('Fat',aptamer,sep=''),x=\"\\nLibrary Member\", y=\"\\n\\nαB wrt median\\n\") +    \n",
    "#     scale_y_continuous(breaks = seq(-8,8, by = 2),limits=c(-8,8)) +\n",
    "#     theme(axis.text=element_text(size=15),\n",
    "#           axis.title=element_text(size=18,face=\"bold\"),\n",
    "#           axis.text.x=element_blank(),\n",
    "#           axis.ticks.x=element_blank(),\n",
    "#           plot.title=element_text(size=30,face=\"bold\"),\n",
    "#           plot.subtitle=element_text(size=20),\n",
    "#           legend.title=element_text(size=17),\n",
    "#           legend.text=element_text(size=12))\n"
   ]
  },
  {
   "cell_type": "code",
   "execution_count": null,
   "metadata": {
    "collapsed": true,
    "scrolled": true
   },
   "outputs": [],
   "source": [
    "# %%R -i statsDF_inboth -i aptamer -w 2400 -h 700 -u px\n",
    "\n",
    "# # Order members by metric you are graphing, and ensure ggplot2 doesn't reorder them once sorted\n",
    "# statsDF_inboth = statsDF_inboth[order(statsDF_inboth$FOLD_MEDIAN, decreasing=TRUE),]\n",
    "# statsDF_inboth$RNAME = factor(statsDF_inboth$RNAME, levels = statsDF_inboth$RNAME)\n",
    "\n",
    "# # Plotting this dataframe\n",
    "# # print(head(statsDF_inboth))\n",
    "\n",
    "# print(max(statsDF_inboth$DELTA_MEDIAN))\n",
    "# print(min(statsDF_inboth$DELTA_MEDIAN))\n",
    "\n",
    "# # Plot\n",
    "# ggplot(statsDF_inboth, aes(x=RNAME, y=DELTA_MEDIAN, fill=DELTA_MEDIAN)) + \n",
    "#     geom_bar(stat='identity') +\n",
    "#     scale_fill_gradient2(name='ΔB \\nwrt median\\n', low=\"red\", high=\"blue\", midpoint=0) +\n",
    "#     labs(title=\"ΔB wrt median for library members\", subtitle=paste('Fat',aptamer,sep=''),x=\"\\nLibrary Member\", y=\"\\n\\nΔB wrt median\\n\") +    \n",
    "#     scale_y_continuous(breaks = seq(-8,8, by = 2),limits=c(-8,8)) +\n",
    "#     theme(axis.text=element_text(size=15),\n",
    "#           axis.title=element_text(size=18,face=\"bold\"),\n",
    "#           axis.text.x=element_blank(),\n",
    "#           axis.ticks.x=element_blank(),\n",
    "#           plot.title=element_text(size=30,face=\"bold\"),\n",
    "#           plot.subtitle=element_text(size=20),\n",
    "#           legend.title=element_text(size=17),\n",
    "#           legend.text=element_text(size=12))\n"
   ]
  },
  {
   "cell_type": "markdown",
   "metadata": {},
   "source": [
    "<span style=\"color:blue\">• Filter library members that whose sample coverage (LIBRARY_MEMBER_UMI_COVERAGE_BOOLEAN) is less than the median\n",
    "\n",
    "<span style=\"color:blue\">• Delete CCGGA...TCCGG"
   ]
  },
  {
   "cell_type": "code",
   "execution_count": null,
   "metadata": {},
   "outputs": [],
   "source": [
    "statsDF_inboth_coverageFiltered = statsDF_inboth[statsDF_inboth['LIBRARY_MEMBER_UMI_COVERAGE_BOOLEAN']=='GREATER_THAN_MEDIAN']\n",
    "\n",
    "statsDF_inboth_coverageFiltered = statsDF_inboth_coverageFiltered.set_index('RNAME').drop('CCGGA...TCCGG').reset_index() "
   ]
  },
  {
   "cell_type": "code",
   "execution_count": null,
   "metadata": {
    "collapsed": true,
    "scrolled": false
   },
   "outputs": [],
   "source": [
    "# printDF(statsDF_inboth_coverageFiltered)"
   ]
  },
  {
   "cell_type": "markdown",
   "metadata": {},
   "source": [
    "<span style=\"color:blue\">• What do the top 100 switches look like? \n",
    "\n",
    "<span style=\"color:blue\">• Ordered by αB. Then, while retaining αB order, graph same member's ΔB on a separate plot. Hence, each two plots should be taken together."
   ]
  },
  {
   "cell_type": "code",
   "execution_count": null,
   "metadata": {
    "collapsed": true
   },
   "outputs": [],
   "source": [
    "# %%R -o graph_top100_1 -i aptamer\n",
    "\n",
    "# graph_top100_1 <- function(df, sortby, sortby_string, compare, compare_string, wrt_string, basal, basal_string, text_just){\n",
    "#     # Order members by metric you are graphing, and ensure ggplot2 doesn't reorder them once sorted\n",
    "#     df = df[order(df$sortby, decreasing=TRUE),]\n",
    "#     df$RNAME = factor(df$RNAME, levels = df$RNAME)\n",
    "\n",
    "#     #Subsample top 100 members\n",
    "#     df = df[1:100,]\n",
    "\n",
    "#     print(max(df$sortby))\n",
    "#     print(min(df$sortby))\n",
    "\n",
    "#     # Plot\n",
    "#     ggplot(df, aes(x=RNAME, y=sortby, fill=basal, color=LIBRARY_MEMBER_UMI_COVERAGE_BOOLEAN)) + \n",
    "#         scale_color_manual(name='Sample Prep\\nCoverage',\n",
    "#                            label=c('≥ median','< median'),\n",
    "#                            values=c('orange','lightblue')) +\n",
    "#         geom_text(aes(label=LIBRARY_MEMBER_UMI_COVERAGE), \n",
    "#                       vjust=text_just, \n",
    "#                       size=3) +\n",
    "#         geom_bar(stat='identity') +\n",
    "#         scale_fill_gradient2(name=paste(basal_string,' Abundance \\n[AU] wrt ',wrt_string,'\\n',sep=''), \n",
    "#                              low=\"red\", \n",
    "#                              high=\"blue\", \n",
    "#                              midpoint=1) +\n",
    "#         labs(title=paste(sortby_string,' wrt ',wrt_string,' for best performing off-switches',sep=''),\n",
    "#              subtitle=paste('Frequency extrapolated without UMIs\\n','Ordered by ',sortby_string,'. Then, while retaining ',sortby_string,' order, graph ',compare_string,' on a separate plot. Hence, each two plots should be taken together.\\n','Fat',aptamer,sep=''),\n",
    "#              x=\"\\nLibrary Member\", \n",
    "#              y=paste('\\n\\nαB wrt ',wrt_string,'\\n')) +    \n",
    "#         scale_y_continuous(breaks = \n",
    "#                            seq(-8,8, by = 2),\n",
    "#                            limits=c(0,8)) +\n",
    "#         theme(axis.text=element_text(size=15),\n",
    "#               axis.title=element_text(size=18,face=\"bold\"),\n",
    "#               axis.text.x = element_text(angle = 45, hjust = 1,size=10),\n",
    "#               plot.title=element_text(size=27,face=\"bold\"),\n",
    "#               plot.subtitle=element_text(size=25),\n",
    "#               legend.title=element_text(size=17),\n",
    "#               legend.text=element_text(size=12),\n",
    "#               panel.grid.major = element_blank())\n",
    "# }\n",
    "\n",
    "\n"
   ]
  },
  {
   "cell_type": "code",
   "execution_count": null,
   "metadata": {
    "collapsed": true
   },
   "outputs": [],
   "source": [
    "# %%R -i statsDF_inboth_coverageFiltered -i graph_top100_1 -i aptamer -w 3000 -h 750 -u px\n",
    "\n",
    "# graph_top100_1(df             =  statsDF_inboth_coverageFiltered        , \n",
    "#                sortby         =  FOLD_MEAN           , \n",
    "#                sortby_string  = 'α'               , \n",
    "#                compare        =  DELTA_MEAN            , \n",
    "#                compare_string = 'Δ'           , \n",
    "#                wrt_string     = 'mean'        , \n",
    "#                basal          =  P_PLUS_AU_ABUNDANCE_MEDIAN     , \n",
    "#                basal_string   = 'P_PLUS_AU_ABUNDANCE_MEDIAN'          , \n",
    "#                text_just      =  -1      )"
   ]
  },
  {
   "cell_type": "markdown",
   "metadata": {},
   "source": [
    "# Sorted by αB, compared to ΔB [wrt mean]"
   ]
  },
  {
   "cell_type": "code",
   "execution_count": null,
   "metadata": {
    "collapsed": true,
    "scrolled": false
   },
   "outputs": [],
   "source": [
    "# %%R -i statsDF_inboth_coverageFiltered -i aptamer -w 3000 -h 750 -u px\n",
    "\n",
    "# # Order members by metric you are graphing, and ensure ggplot2 doesn't reorder them once sorted\n",
    "# statsDF_inboth_coverageFiltered = statsDF_inboth_coverageFiltered[order(statsDF_inboth_coverageFiltered$FOLD_MEAN, decreasing=TRUE),]\n",
    "# statsDF_inboth_coverageFiltered$RNAME = factor(statsDF_inboth_coverageFiltered$RNAME, levels = statsDF_inboth_coverageFiltered$RNAME)\n",
    "\n",
    "# #Subsample top 100 members\n",
    "# statsDF_inboth_coverageFiltered = statsDF_inboth_coverageFiltered[1:100,]\n",
    "\n",
    "# print(max(statsDF_inboth_coverageFiltered$FOLD_MEAN))\n",
    "# print(min(statsDF_inboth_coverageFiltered$FOLD_MEAN))\n",
    "\n",
    "# # Plot\n",
    "# ggplot(statsDF_inboth_coverageFiltered, aes(x=RNAME, y=FOLD_MEAN, fill=P_PLUS_AU_ABUNDANCE_MEDIAN, color=LIBRARY_MEMBER_UMI_COVERAGE_BOOLEAN)) + \n",
    "#     scale_color_manual(name='Sample Prep\\nCoverage',label=c('≥ median','< median'),values=c('orange','lightblue')) +\n",
    "#     geom_text(aes(label=LIBRARY_MEMBER_UMI_COVERAGE), vjust=-1, size=3) +\n",
    "#     geom_bar(stat='identity') +\n",
    "#     scale_fill_gradient2(name='P+ Abundance \\n[AU] wrt median\\n', low=\"red\", high=\"blue\", midpoint=1) +\n",
    "#     labs(title=\"αB wrt mean for best performing off-switches\", subtitle=paste('Frequency extrapolated without UMIs\\n','Ordered by αB. Then, while retaining αB order, graph ΔB on a separate plot. Hence, each two plots should be taken together.\\n','Fat',aptamer,sep=''),x=\"\\nLibrary Member\", y=\"\\n\\nαB wrt mean\\n\") +    \n",
    "#     scale_y_continuous(breaks = seq(-8,8, by = 2),limits=c(0,8)) +\n",
    "#     theme(axis.text=element_text(size=15),\n",
    "#           axis.title=element_text(size=18,face=\"bold\"),\n",
    "#           axis.text.x = element_text(angle = 45, hjust = 1,size=10),\n",
    "#           plot.title=element_text(size=27,face=\"bold\"),\n",
    "#           plot.subtitle=element_text(size=25),\n",
    "#           legend.title=element_text(size=17),\n",
    "#           legend.text=element_text(size=12),\n",
    "#           panel.grid.major = element_blank())\n"
   ]
  },
  {
   "cell_type": "code",
   "execution_count": null,
   "metadata": {
    "collapsed": true,
    "scrolled": false
   },
   "outputs": [],
   "source": [
    "# %%R -i statsDF_inboth_coverageFiltered -i aptamer -w 3000 -h 750 -u px\n",
    "\n",
    "\n",
    "# # Order members by metric you are graphing, and ensure ggplot2 doesn't reorder them once sorted\n",
    "# statsDF_inboth_coverageFiltered = statsDF_inboth_coverageFiltered[order(statsDF_inboth_coverageFiltered$FOLD_MEAN, decreasing=TRUE),]\n",
    "# statsDF_inboth_coverageFiltered$RNAME = factor(statsDF_inboth_coverageFiltered$RNAME, levels = statsDF_inboth_coverageFiltered$RNAME)\n",
    "\n",
    "# #Subsample top 100 members\n",
    "# statsDF_inboth_coverageFiltered = statsDF_inboth_coverageFiltered[1:100,]\n",
    "\n",
    "# print(max(statsDF_inboth_coverageFiltered$FOLD_MEAN))\n",
    "# print(min(statsDF_inboth_coverageFiltered$FOLD_MEAN))\n",
    "\n",
    "# # Plot\n",
    "# ggplot(statsDF_inboth_coverageFiltered, aes(x=RNAME, y=DELTA_MEAN, fill=P_PLUS_AU_ABUNDANCE_MEDIAN, color=LIBRARY_MEMBER_UMI_COVERAGE_BOOLEAN)) + \n",
    "#     scale_color_manual(name='Sample Prep\\nCoverage',label=c('≥ median','< median'),values=c('orange','lightblue')) +\n",
    "#     geom_text(aes(label=LIBRARY_MEMBER_UMI_COVERAGE), vjust=-1, size=3) +\n",
    "#     geom_bar(stat='identity') +\n",
    "#     scale_fill_gradient2(name='P+ Abundance \\n[AU] wrt median\\n', low=\"red\", high=\"blue\", midpoint=1) +\n",
    "#     labs(title=\"ΔB wrt mean for best performing off-switches\", subtitle=paste('Frequency extrapolated without UMIs\\n','Ordered by αB. Then, while retaining αB order, graph ΔB on a separate plot. Hence, each two plots should be taken together.\\n','Fat',aptamer,sep=''),x=\"\\nLibrary Member\", y=\"\\n\\nΔB wrt mean\\n\") +    \n",
    "#     scale_y_continuous(breaks = seq(-8,8, by = 2),limits=c(0,8)) +\n",
    "#     theme(axis.text=element_text(size=15),\n",
    "#           axis.title=element_text(size=18,face=\"bold\"),\n",
    "#           axis.text.x = element_text(angle = 45, hjust = 1,size=10),\n",
    "#           plot.title=element_text(size=27,face=\"bold\"),\n",
    "#           plot.subtitle=element_text(size=25),\n",
    "#           legend.title=element_text(size=17),\n",
    "#           legend.text=element_text(size=12),\n",
    "#           panel.grid.major = element_blank())\n"
   ]
  },
  {
   "cell_type": "code",
   "execution_count": null,
   "metadata": {
    "collapsed": true,
    "scrolled": false
   },
   "outputs": [],
   "source": [
    "# %%R -i statsDF_inboth_coverageFiltered -i aptamer -w 2400 -h 700 -u px\n",
    "\n",
    "\n",
    "# # Order members by metric you are graphing, and ensure ggplot2 doesn't reorder them once sorted\n",
    "# statsDF_inboth_coverageFiltered = statsDF_inboth_coverageFiltered[order(statsDF_inboth_coverageFiltered$FOLD_MEAN, decreasing=FALSE),]\n",
    "# statsDF_inboth_coverageFiltered$RNAME = factor(statsDF_inboth_coverageFiltered$RNAME, levels = statsDF_inboth_coverageFiltered$RNAME)\n",
    "\n",
    "# #Subsample top 100 members\n",
    "# statsDF_inboth_coverageFiltered = statsDF_inboth_coverageFiltered[1:100,]\n",
    "\n",
    "# print(max(statsDF_inboth_coverageFiltered$FOLD_MEAN))\n",
    "# print(min(statsDF_inboth_coverageFiltered$FOLD_MEAN))\n",
    "\n",
    "# # Plot\n",
    "# ggplot(statsDF_inboth_coverageFiltered, aes(x=RNAME, y=FOLD_MEAN, fill=P_MINUS_AU_ABUNDANCE_MEDIAN, color=LIBRARY_MEMBER_UMI_COVERAGE_BOOLEAN)) + \n",
    "#     scale_color_manual(name='Sample Prep\\nCoverage',label=c('≥ median','< median'),values=c('orange','lightblue')) +\n",
    "#     geom_text(aes(label=LIBRARY_MEMBER_UMI_COVERAGE), vjust=1, size=3) +\n",
    "#     geom_bar(stat='identity') +\n",
    "#     scale_fill_gradient2(name='P- Abundance \\n[AU] wrt median\\n', low=\"red\", high=\"blue\", midpoint=1) +\n",
    "#     labs(title=\"αB wrt mean for best performing on-switches\", \n",
    "#          subtitle=paste('Frequency extrapolated without UMIs\\n',\n",
    "#                         'Ordered by αB. Then, while retaining αB order, graph ΔB on a separate plot. Hence, each two plots should be taken together.\\n',\n",
    "#                         'Fat',aptamer,sep=''),\n",
    "#          x=\"\\nLibrary Member\", \n",
    "#          y=\"\\n\\nαB wrt mean\\n\") +    \n",
    "#     scale_y_continuous(breaks = seq(-8,8, by = 2),limits = c(-8,0)) +\n",
    "#     theme(axis.text=element_text(size=15),\n",
    "#           axis.title=element_text(size=18,face=\"bold\"),\n",
    "#           axis.text.x = element_text(angle = 45, hjust = 1,size=10),\n",
    "#           plot.title=element_text(size=27,face=\"bold\"),\n",
    "#           plot.subtitle=element_text(size=25),\n",
    "#           legend.title=element_text(size=17),\n",
    "#           legend.text=element_text(size=12),\n",
    "#           panel.grid.major = element_blank())\n"
   ]
  },
  {
   "cell_type": "code",
   "execution_count": null,
   "metadata": {
    "collapsed": true,
    "scrolled": false
   },
   "outputs": [],
   "source": [
    "# %%R -i statsDF_inboth_coverageFiltered -i aptamer -w 2400 -h 700 -u px\n",
    "\n",
    "\n",
    "# # Order members by metric you are graphing, and ensure ggplot2 doesn't reorder them once sorted\n",
    "# statsDF_inboth_coverageFiltered = statsDF_inboth_coverageFiltered[order(statsDF_inboth_coverageFiltered$FOLD_MEAN, decreasing=FALSE),]\n",
    "# statsDF_inboth_coverageFiltered$RNAME = factor(statsDF_inboth_coverageFiltered$RNAME, levels = statsDF_inboth_coverageFiltered$RNAME)\n",
    "\n",
    "# #Subsample top 100 members\n",
    "# statsDF_inboth_coverageFiltered = statsDF_inboth_coverageFiltered[1:100,]\n",
    "\n",
    "# print(max(statsDF_inboth_coverageFiltered$FOLD_MEAN))\n",
    "# print(min(statsDF_inboth_coverageFiltered$FOLD_MEAN))\n",
    "\n",
    "\n",
    "# # Plot\n",
    "# ggplot(statsDF_inboth_coverageFiltered, aes(x=RNAME, y=DELTA_MEAN, fill=P_MINUS_AU_ABUNDANCE_MEDIAN, color=LIBRARY_MEMBER_UMI_COVERAGE_BOOLEAN)) + \n",
    "#     scale_color_manual(name='Sample Prep\\nCoverage',label=c('≥ median','< median'),values=c('orange','lightblue')) +\n",
    "#     geom_text(aes(label=LIBRARY_MEMBER_UMI_COVERAGE), vjust=1, size=3) +\n",
    "#     geom_bar(stat='identity') +\n",
    "#     scale_fill_gradient2(name='P- Abundance \\n[AU] wrt median\\n', low=\"red\", high=\"blue\", midpoint=1) +\n",
    "#     labs(title=\"ΔB wrt mean for best performing on-switches\", subtitle=paste('Frequency extrapolated without UMIs\\n','Ordered by αB. Then, while retaining αB order, graph ΔB on a separate plot. Hence, each two plots should be taken together.\\n','Fat',aptamer,sep=''),x=\"\\nLibrary Member\", y=\"\\n\\nΔB wrt mean\\n\") +    \n",
    "#     scale_y_continuous(breaks = seq(-8,8, by = 2),limits = c(-8,0)) +\n",
    "#     theme(axis.text=element_text(size=15),\n",
    "#           axis.title=element_text(size=18,face=\"bold\"),\n",
    "#           axis.text.x = element_text(angle = 45, hjust = 1,size=10),\n",
    "#           plot.title=element_text(size=27,face=\"bold\"),\n",
    "#           plot.subtitle=element_text(size=25),\n",
    "#           legend.title=element_text(size=17),\n",
    "#           legend.text=element_text(size=12),\n",
    "#           panel.grid.major = element_blank())\n"
   ]
  },
  {
   "cell_type": "markdown",
   "metadata": {},
   "source": [
    "# Sorted by αB, compared to ΔB [wrt median]"
   ]
  },
  {
   "cell_type": "code",
   "execution_count": null,
   "metadata": {
    "collapsed": true,
    "scrolled": false
   },
   "outputs": [],
   "source": [
    "# %%R -i statsDF_inboth_coverageFiltered -i aptamer -w 3000 -h 750 -u px\n",
    "\n",
    "\n",
    "# # Order members by metric you are graphing, and ensure ggplot2 doesn't reorder them once sorted\n",
    "# statsDF_inboth_coverageFiltered = statsDF_inboth_coverageFiltered[order(statsDF_inboth_coverageFiltered$FOLD_MEDIAN, decreasing=TRUE),]\n",
    "# statsDF_inboth_coverageFiltered$RNAME = factor(statsDF_inboth_coverageFiltered$RNAME, levels = statsDF_inboth_coverageFiltered$RNAME)\n",
    "\n",
    "# #Subsample top 100 members\n",
    "# statsDF_inboth_coverageFiltered = statsDF_inboth_coverageFiltered[1:100,]\n",
    "\n",
    "# print(max(statsDF_inboth_coverageFiltered$FOLD_MEDIAN))\n",
    "# print(min(statsDF_inboth_coverageFiltered$FOLD_MEDIAN))\n",
    "\n",
    "# # Plot\n",
    "# ggplot(statsDF_inboth_coverageFiltered, aes(x=RNAME, y=FOLD_MEDIAN, fill=P_PLUS_AU_ABUNDANCE_MEDIAN, color=LIBRARY_MEMBER_UMI_COVERAGE_BOOLEAN)) + \n",
    "#     scale_color_manual(name='Sample Prep\\nCoverage',label=c('≥ median','< median'),values=c('orange','lightblue')) +\n",
    "#     geom_text(aes(label=LIBRARY_MEMBER_UMI_COVERAGE), vjust=-1, size=3) +\n",
    "#     geom_bar(stat='identity') +\n",
    "#     scale_fill_gradient2(name='P+ Abundance \\n[AU] wrt median\\n', low=\"red\", high=\"blue\", midpoint=1) +\n",
    "#     labs(title=\"αB wrt median for best performing off-switches\", subtitle=paste('Frequency extrapolated without UMIs\\n','Ordered by αB. Then, while retaining αB order, graph ΔB on a separate plot. Hence, each two plots should be taken together.\\n','Fat',aptamer,sep=''),x=\"\\nLibrary Member\", y=\"\\n\\nαB wrt median\\n\") +    \n",
    "#     scale_y_continuous(breaks = seq(-8,8, by = 2),limits=c(0,8)) +\n",
    "#     theme(axis.text=element_text(size=15),\n",
    "#           axis.title=element_text(size=18,face=\"bold\"),\n",
    "#           axis.text.x = element_text(angle = 45, hjust = 1,size=10),\n",
    "#           plot.title=element_text(size=27,face=\"bold\"),\n",
    "#           plot.subtitle=element_text(size=25),\n",
    "#           legend.title=element_text(size=17),\n",
    "#           legend.text=element_text(size=12),\n",
    "#           panel.grid.major = element_blank())\n"
   ]
  },
  {
   "cell_type": "code",
   "execution_count": null,
   "metadata": {
    "collapsed": true,
    "scrolled": false
   },
   "outputs": [],
   "source": [
    "# %%R -i statsDF_inboth_coverageFiltered -i aptamer -w 3000 -h 750 -u px\n",
    "\n",
    "\n",
    "# # Order members by metric you are graphing, and ensure ggplot2 doesn't reorder them once sorted\n",
    "# statsDF_inboth_coverageFiltered = statsDF_inboth_coverageFiltered[order(statsDF_inboth_coverageFiltered$FOLD_MEDIAN, decreasing=TRUE),]\n",
    "# statsDF_inboth_coverageFiltered$RNAME = factor(statsDF_inboth_coverageFiltered$RNAME, levels = statsDF_inboth_coverageFiltered$RNAME)\n",
    "\n",
    "# #Subsample top 100 members\n",
    "# statsDF_inboth_coverageFiltered = statsDF_inboth_coverageFiltered[1:100,]\n",
    "\n",
    "# print(max(statsDF_inboth_coverageFiltered$FOLD_MEDIAN))\n",
    "# print(min(statsDF_inboth_coverageFiltered$FOLD_MEDIAN))\n",
    "\n",
    "# # Plot\n",
    "# ggplot(statsDF_inboth_coverageFiltered, aes(x=RNAME, y=DELTA_MEDIAN, fill=P_PLUS_AU_ABUNDANCE_MEDIAN, color=LIBRARY_MEMBER_UMI_COVERAGE_BOOLEAN)) + \n",
    "#     scale_color_manual(name='Sample Prep\\nCoverage',label=c('≥ median','< median'),values=c('orange','lightblue')) +\n",
    "#     geom_text(aes(label=LIBRARY_MEMBER_UMI_COVERAGE), vjust=-1, size=3) +\n",
    "#     geom_bar(stat='identity') +\n",
    "#     scale_fill_gradient2(name='P+ Abundance \\n[AU] wrt median\\n', low=\"red\", high=\"blue\", midpoint=1) +\n",
    "#     labs(title=\"ΔB wrt median for best performing off-switches\", subtitle=paste('Frequency extrapolated without UMIs\\n','Ordered by αB. Then, while retaining αB order, graph ΔB on a separate plot. Hence, each two plots should be taken together.\\n','Fat',aptamer,sep=''),x=\"\\nLibrary Member\", y=\"\\n\\nΔB wrt median\\n\") +    \n",
    "#     scale_y_continuous(breaks = seq(-8,8, by = 2),limits=c(0,8)) +\n",
    "#     theme(axis.text=element_text(size=15),\n",
    "#           axis.title=element_text(size=18,face=\"bold\"),\n",
    "#           axis.text.x = element_text(angle = 45, hjust = 1,size=10),\n",
    "#           plot.title=element_text(size=27,face=\"bold\"),\n",
    "#           plot.subtitle=element_text(size=25),\n",
    "#           legend.title=element_text(size=17),\n",
    "#           legend.text=element_text(size=12),\n",
    "#           panel.grid.major = element_blank())\n"
   ]
  },
  {
   "cell_type": "code",
   "execution_count": null,
   "metadata": {
    "collapsed": true,
    "scrolled": false
   },
   "outputs": [],
   "source": [
    "# %%R -i statsDF_inboth_coverageFiltered -i aptamer -w 2400 -h 700 -u px\n",
    "\n",
    "\n",
    "# # Order members by metric you are graphing, and ensure ggplot2 doesn't reorder them once sorted\n",
    "# statsDF_inboth_coverageFiltered = statsDF_inboth_coverageFiltered[order(statsDF_inboth_coverageFiltered$FOLD_MEDIAN, decreasing=FALSE),]\n",
    "# statsDF_inboth_coverageFiltered$RNAME = factor(statsDF_inboth_coverageFiltered$RNAME, levels = statsDF_inboth_coverageFiltered$RNAME)\n",
    "\n",
    "# #Subsample top 100 members\n",
    "# statsDF_inboth_coverageFiltered = statsDF_inboth_coverageFiltered[1:100,]\n",
    "\n",
    "# print(max(statsDF_inboth_coverageFiltered$FOLD_MEDIAN))\n",
    "# print(min(statsDF_inboth_coverageFiltered$FOLD_MEDIAN))\n",
    "\n",
    "# # Plot\n",
    "# ggplot(statsDF_inboth_coverageFiltered, aes(x=RNAME, y=FOLD_MEDIAN, fill=P_MINUS_AU_ABUNDANCE_MEDIAN, color=LIBRARY_MEMBER_UMI_COVERAGE_BOOLEAN)) + \n",
    "#     scale_color_manual(name='Sample Prep\\nCoverage',label=c('≥ median','< median'),values=c('orange','lightblue')) +\n",
    "#     geom_text(aes(label=LIBRARY_MEMBER_UMI_COVERAGE), vjust=1, size=3) +\n",
    "#     geom_bar(stat='identity') +\n",
    "#     scale_fill_gradient2(name='P- Abundance \\n[AU] wrt median\\n', low=\"red\", high=\"blue\", midpoint=1) +\n",
    "#     labs(title=\"αB wrt median for best performing on-switches\", subtitle=paste('Frequency extrapolated without UMIs\\n','Ordered by αB. Then, while retaining αB order, graph ΔB on a separate plot. Hence, each two plots should be taken together.\\n','Fat',aptamer,sep=''),x=\"\\nLibrary Member\", y=\"\\n\\nαB wrt median\\n\") +    \n",
    "#     scale_y_continuous(breaks = seq(-8,8, by = 2),limits = c(-8,0)) +\n",
    "#     theme(axis.text=element_text(size=15),\n",
    "#           axis.title=element_text(size=18,face=\"bold\"),\n",
    "#           axis.text.x = element_text(angle = 45, hjust = 1,size=10),\n",
    "#           plot.title=element_text(size=27,face=\"bold\"),\n",
    "#           plot.subtitle=element_text(size=25),\n",
    "#           legend.title=element_text(size=17),\n",
    "#           legend.text=element_text(size=12),\n",
    "#           panel.grid.major = element_blank())\n"
   ]
  },
  {
   "cell_type": "code",
   "execution_count": null,
   "metadata": {
    "collapsed": true,
    "scrolled": false
   },
   "outputs": [],
   "source": [
    "# %%R -i statsDF_inboth_coverageFiltered -i aptamer -w 2400 -h 700 -u px\n",
    "\n",
    "\n",
    "# # Order members by metric you are graphing, and ensure ggplot2 doesn't reorder them once sorted\n",
    "# statsDF_inboth_coverageFiltered = statsDF_inboth_coverageFiltered[order(statsDF_inboth_coverageFiltered$FOLD_MEDIAN, decreasing=FALSE),]\n",
    "# statsDF_inboth_coverageFiltered$RNAME = factor(statsDF_inboth_coverageFiltered$RNAME, levels = statsDF_inboth_coverageFiltered$RNAME)\n",
    "\n",
    "# #Subsample top 100 members\n",
    "# statsDF_inboth_coverageFiltered = statsDF_inboth_coverageFiltered[1:100,]\n",
    "\n",
    "# print(max(statsDF_inboth_coverageFiltered$FOLD_MEDIAN))\n",
    "# print(min(statsDF_inboth_coverageFiltered$FOLD_MEDIAN))\n",
    "\n",
    "\n",
    "# # Plot\n",
    "# ggplot(statsDF_inboth_coverageFiltered, aes(x=RNAME, y=DELTA_MEDIAN, fill=P_MINUS_AU_ABUNDANCE_MEDIAN, color=LIBRARY_MEMBER_UMI_COVERAGE_BOOLEAN)) + \n",
    "#     scale_color_manual(name='Sample Prep\\nCoverage',label=c('≥ median','< median'),values=c('orange','lightblue')) +\n",
    "#     geom_text(aes(label=LIBRARY_MEMBER_UMI_COVERAGE), vjust=1, size=3) +\n",
    "#     geom_bar(stat='identity') +\n",
    "#     scale_fill_gradient2(name='P- Abundance \\n[AU] wrt median\\n', low=\"red\", high=\"blue\", midpoint=1) +\n",
    "#     labs(title=\"ΔB wrt median for best performing on-switches\", subtitle=paste('Frequency extrapolated without UMIs\\n','Ordered by αB. Then, while retaining αB order, graph ΔB on a separate plot. Hence, each two plots should be taken together.\\n','Fat',aptamer,sep=''),x=\"\\nLibrary Member\", y=\"\\n\\nΔB wrt median\\n\") +    \n",
    "#     scale_y_continuous(breaks = seq(-8,8, by = 2),limits = c(-8,0)) +\n",
    "#     theme(axis.text=element_text(size=15),\n",
    "#           axis.title=element_text(size=18,face=\"bold\"),\n",
    "#           axis.text.x = element_text(angle = 45, hjust = 1,size=10),\n",
    "#           plot.title=element_text(size=27,face=\"bold\"),\n",
    "#           plot.subtitle=element_text(size=25),\n",
    "#           legend.title=element_text(size=17),\n",
    "#           legend.text=element_text(size=12),\n",
    "#           panel.grid.major = element_blank())\n"
   ]
  },
  {
   "cell_type": "markdown",
   "metadata": {},
   "source": [
    "# Sorted by ΔB, compared to αB [wrt mean]"
   ]
  },
  {
   "cell_type": "markdown",
   "metadata": {},
   "source": [
    "<span style=\"color:blue\">• What do the top 100 switches look like in terms of ΔB"
   ]
  },
  {
   "cell_type": "code",
   "execution_count": null,
   "metadata": {
    "collapsed": true,
    "scrolled": false
   },
   "outputs": [],
   "source": [
    "# %%R -i statsDF_inboth_coverageFiltered -i aptamer -w 3000 -h 750 -u px\n",
    "\n",
    "\n",
    "# # Order members by metric you are graphing, and ensure ggplot2 doesn't reorder them once sorted\n",
    "# statsDF_inboth_coverageFiltered = statsDF_inboth_coverageFiltered[order(statsDF_inboth_coverageFiltered$DELTA_MEAN, decreasing=TRUE),]\n",
    "# statsDF_inboth_coverageFiltered$RNAME = factor(statsDF_inboth_coverageFiltered$RNAME, levels = statsDF_inboth_coverageFiltered$RNAME)\n",
    "\n",
    "# #Subsample top 100 members\n",
    "# statsDF_inboth_coverageFiltered = statsDF_inboth_coverageFiltered[1:100,]\n",
    "\n",
    "# print(max(statsDF_inboth_coverageFiltered$DELTA_MEAN))\n",
    "# print(min(statsDF_inboth_coverageFiltered$DELTA_MEAN))\n",
    "# # Plot\n",
    "# ggplot(statsDF_inboth_coverageFiltered, aes(x=RNAME, y=DELTA_MEAN, fill=P_PLUS_AU_ABUNDANCE_MEDIAN, color=LIBRARY_MEMBER_UMI_COVERAGE_BOOLEAN)) + \n",
    "#     scale_color_manual(name='Sample Prep\\nCoverage',label=c('≥ median','< median'),values=c('orange','lightblue')) +\n",
    "#     geom_text(aes(label=LIBRARY_MEMBER_UMI_COVERAGE), vjust=-1, size=3) +\n",
    "#     geom_bar(stat='identity') +\n",
    "#     scale_fill_gradient2(name='P+ Abundance \\n[AU] wrt median\\n', low=\"red\", high=\"blue\", midpoint=1) +\n",
    "#     labs(title=\"ΔB wrt mean for best performing off-switches\", subtitle=paste('Frequency extrapolated without UMIs\\n','Ordered by ΔB. Then, while retaining ΔB order, graph αB on a separate plot. Hence, each two plots should be taken together.\\n','Fat',aptamer,'\\nRanked by ΔB',sep=''),x=\"\\nLibrary Member\", y=\"\\n\\nΔB wrt mean\\n\") +    \n",
    "#     scale_y_continuous(breaks = seq(-8,8, by = 2),limits=c(0,8)) +\n",
    "#     theme(axis.text=element_text(size=15),\n",
    "#           axis.title=element_text(size=18,face=\"bold\"),\n",
    "#           axis.text.x = element_text(angle = 45, hjust = 1,size=10),\n",
    "#           plot.title=element_text(size=27,face=\"bold\"),\n",
    "#           plot.subtitle=element_text(size=25),\n",
    "#           legend.title=element_text(size=17),\n",
    "#           legend.text=element_text(size=12),\n",
    "#           panel.grid.major = element_blank())\n"
   ]
  },
  {
   "cell_type": "code",
   "execution_count": null,
   "metadata": {
    "collapsed": true,
    "scrolled": true
   },
   "outputs": [],
   "source": [
    "# %%R -i statsDF_inboth_coverageFiltered -i aptamer -w 3000 -h 750 -u px\n",
    "\n",
    "\n",
    "# # Order members by metric you are graphing, and ensure ggplot2 doesn't reorder them once sorted\n",
    "# statsDF_inboth_coverageFiltered = statsDF_inboth_coverageFiltered[order(statsDF_inboth_coverageFiltered$DELTA_MEAN, decreasing=TRUE),]\n",
    "# statsDF_inboth_coverageFiltered$RNAME = factor(statsDF_inboth_coverageFiltered$RNAME, levels = statsDF_inboth_coverageFiltered$RNAME)\n",
    "\n",
    "# #Subsample top 100 members\n",
    "# statsDF_inboth_coverageFiltered = statsDF_inboth_coverageFiltered[1:100,]\n",
    "\n",
    "# print(max(statsDF_inboth_coverageFiltered$DELTA_MEAN))\n",
    "# print(min(statsDF_inboth_coverageFiltered$DELTA_MEAN))\n",
    "\n",
    "# # Plot\n",
    "# ggplot(statsDF_inboth_coverageFiltered, aes(x=RNAME, y=FOLD_MEAN, fill=P_PLUS_AU_ABUNDANCE_MEDIAN, color=LIBRARY_MEMBER_UMI_COVERAGE_BOOLEAN)) + \n",
    "#     scale_color_manual(name='Sample Prep\\nCoverage',label=c('≥ median','< median'),values=c('orange','lightblue')) +\n",
    "#     geom_text(aes(label=LIBRARY_MEMBER_UMI_COVERAGE), vjust=-1, size=3) +\n",
    "#     geom_bar(stat='identity') +\n",
    "#     scale_fill_gradient2(name='P+ Abundance \\n[AU] wrt median\\n', low=\"red\", high=\"blue\", midpoint=1) +\n",
    "#     labs(title=\"αB wrt mean for best performing off-switches\", subtitle=paste('Frequency extrapolated without UMIs\\n','Ordered by ΔB. Then, while retaining ΔB order, graph αB on a separate plot. Hence, each two plots should be taken together.\\n','Fat',aptamer,sep=''),x=\"\\nLibrary Member\", y=\"\\n\\nαB wrt mean\\n\") +    \n",
    "#     scale_y_continuous(breaks = seq(-8,8, by = 2),limits=c(0,8)) +\n",
    "#     theme(axis.text=element_text(size=15),\n",
    "#           axis.title=element_text(size=18,face=\"bold\"),\n",
    "#           axis.text.x = element_text(angle = 45, hjust = 1,size=10),\n",
    "#           plot.title=element_text(size=27,face=\"bold\"),\n",
    "#           plot.subtitle=element_text(size=25),\n",
    "#           legend.title=element_text(size=17),\n",
    "#           legend.text=element_text(size=12),\n",
    "#           panel.grid.major = element_blank())\n"
   ]
  },
  {
   "cell_type": "code",
   "execution_count": null,
   "metadata": {
    "collapsed": true,
    "scrolled": false
   },
   "outputs": [],
   "source": [
    "# %%R -i statsDF_inboth_coverageFiltered -i aptamer -w 2400 -h 700 -u px\n",
    "\n",
    "\n",
    "# # Order members by metric you are graphing, and ensure ggplot2 doesn't reorder them once sorted\n",
    "# statsDF_inboth_coverageFiltered = statsDF_inboth_coverageFiltered[order(statsDF_inboth_coverageFiltered$DELTA_MEAN, decreasing=FALSE),]\n",
    "# statsDF_inboth_coverageFiltered$RNAME = factor(statsDF_inboth_coverageFiltered$RNAME, levels = statsDF_inboth_coverageFiltered$RNAME)\n",
    "\n",
    "# #Subsample top 100 members\n",
    "# statsDF_inboth_coverageFiltered = statsDF_inboth_coverageFiltered[1:100,]\n",
    "\n",
    "# print(max(statsDF_inboth_coverageFiltered$DELTA_MEAN))\n",
    "# print(min(statsDF_inboth_coverageFiltered$DELTA_MEAN))\n",
    "\n",
    "# # Plot\n",
    "# ggplot(statsDF_inboth_coverageFiltered, aes(x=RNAME, y=DELTA_MEAN, fill=P_MINUS_AU_ABUNDANCE_MEDIAN, color=LIBRARY_MEMBER_UMI_COVERAGE_BOOLEAN)) + \n",
    "#     scale_color_manual(name='Sample Prep\\nCoverage',label=c('≥ median','< median'),values=c('orange','lightblue')) +\n",
    "#     geom_text(aes(label=LIBRARY_MEMBER_UMI_COVERAGE), vjust=-1, size=3) +\n",
    "#     geom_bar(stat='identity') +\n",
    "#     scale_fill_gradient2(name='P- Abundance \\n[AU] wrt median\\n', low=\"red\", high=\"blue\", midpoint=1) +\n",
    "#     labs(title=\"ΔB wrt mean for best performing on-switches\", subtitle=paste('Frequency extrapolated without UMIs\\n','Ordered by ΔB. Then, while retaining ΔB order, graph αB on a separate plot. Hence, each two plots should be taken together.\\n','Fat',aptamer,'\\nRanked by ΔB',sep=''),x=\"\\nLibrary Member\", y=\"\\n\\nΔB wrt mean\\n\") +    \n",
    "#     scale_y_continuous(breaks = seq(-8,8, by = 2),limits = c(-8,0)) +\n",
    "#     theme(axis.text=element_text(size=15),\n",
    "#           axis.title=element_text(size=18,face=\"bold\"),\n",
    "#           axis.text.x = element_text(angle = 45, hjust = 1,size=10),\n",
    "#           plot.title=element_text(size=27,face=\"bold\"),\n",
    "#           plot.subtitle=element_text(size=25),\n",
    "#           legend.title=element_text(size=17),\n",
    "#           legend.text=element_text(size=12),\n",
    "#           panel.grid.major = element_blank())\n"
   ]
  },
  {
   "cell_type": "code",
   "execution_count": null,
   "metadata": {
    "collapsed": true,
    "scrolled": true
   },
   "outputs": [],
   "source": [
    "# %%R -i statsDF_inboth_coverageFiltered -i aptamer -w 2400 -h 700 -u px\n",
    "\n",
    "\n",
    "# # Order members by metric you are graphing, and ensure ggplot2 doesn't reorder them once sorted\n",
    "# statsDF_inboth_coverageFiltered = statsDF_inboth_coverageFiltered[order(statsDF_inboth_coverageFiltered$DELTA_MEAN, decreasing=FALSE),]\n",
    "# statsDF_inboth_coverageFiltered$RNAME = factor(statsDF_inboth_coverageFiltered$RNAME, levels = statsDF_inboth_coverageFiltered$RNAME)\n",
    "\n",
    "# #Subsample top 100 members\n",
    "# statsDF_inboth_coverageFiltered = statsDF_inboth_coverageFiltered[1:100,]\n",
    "\n",
    "# print(max(statsDF_inboth_coverageFiltered$DELTA_MEAN))\n",
    "# print(min(statsDF_inboth_coverageFiltered$DELTA_MEAN))\n",
    "# # Plot\n",
    "# ggplot(statsDF_inboth_coverageFiltered, aes(x=RNAME, y=FOLD_MEAN, fill=P_MINUS_AU_ABUNDANCE_MEDIAN, color=LIBRARY_MEMBER_UMI_COVERAGE_BOOLEAN)) + \n",
    "#     scale_color_manual(name='Sample Prep\\nCoverage',label=c('≥ median','< median'),values=c('orange','lightblue')) +\n",
    "#     geom_text(aes(label=LIBRARY_MEMBER_UMI_COVERAGE), vjust=1, size=3) +\n",
    "#     geom_bar(stat='identity') +\n",
    "#     scale_fill_gradient2(name='P- Abundance \\n[AU] wrt median\\n', low=\"red\", high=\"blue\", midpoint=1) +\n",
    "#     labs(title=\"αB wrt mean for best performing on-switches\", subtitle=paste('Frequency extrapolated without UMIs\\n','Ordered by ΔB. Then, while retaining ΔB order, graph αB on a separate plot. Hence, each two plots should be taken together.\\n','Fat',aptamer,sep=''),x=\"\\nLibrary Member\", y=\"\\n\\nαB wrt mean\\n\") +    \n",
    "#     scale_y_continuous(breaks = seq(-8,8, by = 2),limits = c(-8,0)) +\n",
    "#     theme(axis.text=element_text(size=15),\n",
    "#           axis.title=element_text(size=18,face=\"bold\"),\n",
    "#           axis.text.x = element_text(angle = 45, hjust = 1,size=10),\n",
    "#           plot.title=element_text(size=27,face=\"bold\"),\n",
    "#           plot.subtitle=element_text(size=25),\n",
    "#           legend.title=element_text(size=17),\n",
    "#           legend.text=element_text(size=12),\n",
    "#           panel.grid.major = element_blank())\n"
   ]
  },
  {
   "cell_type": "markdown",
   "metadata": {},
   "source": [
    "# Sorted by ΔB, compared to αB [wrt median]"
   ]
  },
  {
   "cell_type": "markdown",
   "metadata": {},
   "source": [
    "<span style=\"color:blue\">• What do the top 100 switches look like in terms of ΔB"
   ]
  },
  {
   "cell_type": "code",
   "execution_count": null,
   "metadata": {
    "collapsed": true,
    "scrolled": false
   },
   "outputs": [],
   "source": [
    "# %%R -i statsDF_inboth_coverageFiltered -i aptamer -w 2400 -h 700 -u px\n",
    "\n",
    "\n",
    "# # Order members by metric you are graphing, and ensure ggplot2 doesn't reorder them once sorted\n",
    "# statsDF_inboth_coverageFiltered = statsDF_inboth_coverageFiltered[order(statsDF_inboth_coverageFiltered$DELTA_MEDIAN, decreasing=TRUE),]\n",
    "# statsDF_inboth_coverageFiltered$RNAME = factor(statsDF_inboth_coverageFiltered$RNAME, levels = statsDF_inboth_coverageFiltered$RNAME)\n",
    "\n",
    "# #Subsample top 100 members\n",
    "# statsDF_inboth_coverageFiltered = statsDF_inboth_coverageFiltered[1:100,]\n",
    "\n",
    "# print(max(statsDF_inboth_coverageFiltered$DELTA_MEDIAN))\n",
    "# print(min(statsDF_inboth_coverageFiltered$DELTA_MEDIAN))\n",
    "\n",
    "# # Plot\n",
    "# ggplot(statsDF_inboth_coverageFiltered, aes(x=RNAME, y=DELTA_MEDIAN, fill=P_PLUS_AU_ABUNDANCE_MEDIAN, color=LIBRARY_MEMBER_UMI_COVERAGE_BOOLEAN)) + \n",
    "#     scale_color_manual(name='Sample Prep\\nCoverage',label=c('≥ median','< median'),values=c('orange','lightblue')) +\n",
    "#     geom_text(aes(label=LIBRARY_MEMBER_UMI_COVERAGE), vjust=-1, size=3) +\n",
    "#     geom_bar(stat='identity') +\n",
    "#     scale_fill_gradient2(name='P+ Abundance \\n[AU] wrt median\\n', low=\"red\", high=\"blue\", midpoint=1) +\n",
    "#     labs(title=\"ΔB wrt median for best performing off-switches\", subtitle=paste('Frequency extrapolated without UMIs\\n','Ordered by ΔB. Then, while retaining ΔB order, graph αB on a separate plot. Hence, each two plots should be taken together.\\n','Fat',aptamer,'\\nRanked by ΔB',sep=''),x=\"\\nLibrary Member\", y=\"\\n\\nΔB wrt median\\n\") +    \n",
    "#     scale_y_continuous(breaks = seq(-8,8, by = 2),limits=c(0,8)) +\n",
    "#     theme(axis.text=element_text(size=15),\n",
    "#           axis.title=element_text(size=18,face=\"bold\"),\n",
    "#           axis.text.x = element_text(angle = 45, hjust = 1,size=10),\n",
    "#           plot.title=element_text(size=27,face=\"bold\"),\n",
    "#           plot.subtitle=element_text(size=25),\n",
    "#           legend.title=element_text(size=17),\n",
    "#           legend.text=element_text(size=12),\n",
    "#           panel.grid.major = element_blank())\n"
   ]
  },
  {
   "cell_type": "code",
   "execution_count": null,
   "metadata": {
    "collapsed": true,
    "scrolled": false
   },
   "outputs": [],
   "source": [
    "# %%R -i statsDF_inboth_coverageFiltered -i aptamer -w 2400 -h 700 -u px\n",
    "\n",
    "\n",
    "# # Order members by metric you are graphing, and ensure ggplot2 doesn't reorder them once sorted\n",
    "# statsDF_inboth_coverageFiltered = statsDF_inboth_coverageFiltered[order(statsDF_inboth_coverageFiltered$DELTA_MEDIAN, decreasing=TRUE),]\n",
    "# statsDF_inboth_coverageFiltered$RNAME = factor(statsDF_inboth_coverageFiltered$RNAME, levels = statsDF_inboth_coverageFiltered$RNAME)\n",
    "\n",
    "# #Subsample top 100 members\n",
    "# statsDF_inboth_coverageFiltered = statsDF_inboth_coverageFiltered[1:100,]\n",
    "\n",
    "# print(max(statsDF_inboth_coverageFiltered$DELTA_MEDIAN))\n",
    "# print(min(statsDF_inboth_coverageFiltered$DELTA_MEDIAN))\n",
    "\n",
    "# # Plot\n",
    "# ggplot(statsDF_inboth_coverageFiltered, aes(x=RNAME, y=FOLD_MEDIAN, fill=P_PLUS_AU_ABUNDANCE_MEDIAN, color=LIBRARY_MEMBER_UMI_COVERAGE_BOOLEAN)) + \n",
    "#     scale_color_manual(name='Sample Prep\\nCoverage',label=c('≥ median','< median'),values=c('orange','lightblue')) +\n",
    "#     geom_text(aes(label=LIBRARY_MEMBER_UMI_COVERAGE), vjust=-1, size=3) +\n",
    "#     geom_bar(stat='identity') +\n",
    "#     scale_fill_gradient2(name='P+ Abundance \\n[AU] wrt median\\n', low=\"red\", high=\"blue\", midpoint=1) +\n",
    "#     labs(title=\"αB wrt median for best performing off-switches\", subtitle=paste('Frequency extrapolated without UMIs\\n','Ordered by ΔB. Then, while retaining ΔB order, graph αB on a separate plot. Hence, each two plots should be taken together.\\n','Fat',aptamer,sep=''),x=\"\\nLibrary Member\", y=\"\\n\\nαB wrt median\\n\") +    \n",
    "#     scale_y_continuous(breaks = seq(-8,8, by = 2),limits=c(0,8)) +\n",
    "#     theme(axis.text=element_text(size=15),\n",
    "#           axis.title=element_text(size=18,face=\"bold\"),\n",
    "#           axis.text.x = element_text(angle = 45, hjust = 1,size=10),\n",
    "#           plot.title=element_text(size=27,face=\"bold\"),\n",
    "#           plot.subtitle=element_text(size=25),\n",
    "#           legend.title=element_text(size=17),\n",
    "#           legend.text=element_text(size=12),\n",
    "#           panel.grid.major = element_blank())\n"
   ]
  },
  {
   "cell_type": "code",
   "execution_count": null,
   "metadata": {
    "collapsed": true,
    "scrolled": false
   },
   "outputs": [],
   "source": [
    "# %%R -i statsDF_inboth_coverageFiltered -i aptamer -w 2400 -h 700 -u px\n",
    "\n",
    "\n",
    "# # Order members by metric you are graphing, and ensure ggplot2 doesn't reorder them once sorted\n",
    "# statsDF_inboth_coverageFiltered = statsDF_inboth_coverageFiltered[order(statsDF_inboth_coverageFiltered$DELTA_MEDIAN, decreasing=FALSE),]\n",
    "# statsDF_inboth_coverageFiltered$RNAME = factor(statsDF_inboth_coverageFiltered$RNAME, levels = statsDF_inboth_coverageFiltered$RNAME)\n",
    "\n",
    "# #Subsample top 100 members\n",
    "# statsDF_inboth_coverageFiltered = statsDF_inboth_coverageFiltered[1:100,]\n",
    "\n",
    "# print(max(statsDF_inboth_coverageFiltered$DELTA_MEDIAN))\n",
    "# print(min(statsDF_inboth_coverageFiltered$DELTA_MEDIAN))\n",
    "\n",
    "# # Plot\n",
    "# ggplot(statsDF_inboth_coverageFiltered, aes(x=RNAME, y=DELTA_MEDIAN, fill=P_MINUS_AU_ABUNDANCE_MEDIAN, color=LIBRARY_MEMBER_UMI_COVERAGE_BOOLEAN)) + \n",
    "#     scale_color_manual(name='Sample Prep\\nCoverage',label=c('≥ median','< median'),values=c('orange','lightblue')) +\n",
    "#     geom_text(aes(label=LIBRARY_MEMBER_UMI_COVERAGE), vjust=1, size=3) +\n",
    "#     geom_bar(stat='identity') +\n",
    "#     scale_fill_gradient2(name='P- Abundance \\n[AU] wrt median\\n', low=\"red\", high=\"blue\", midpoint=1) +\n",
    "#     labs(title=\"ΔB wrt median for best performing on-switches\", subtitle=paste('Frequency extrapolated without UMIs\\n','Ordered by ΔB. Then, while retaining ΔB order, graph αB on a separate plot. Hence, each two plots should be taken together.\\n','Fat',aptamer,'\\nRanked by ΔB',sep=''),x=\"\\nLibrary Member\", y=\"\\n\\nΔB wrt median\\n\") +    \n",
    "#     scale_y_continuous(breaks = seq(-8,8, by = 2),limits = c(-8,0)) +\n",
    "#     theme(axis.text=element_text(size=15),\n",
    "#           axis.title=element_text(size=18,face=\"bold\"),\n",
    "#           axis.text.x = element_text(angle = 45, hjust = 1,size=10),\n",
    "#           plot.title=element_text(size=27,face=\"bold\"),\n",
    "#           plot.subtitle=element_text(size=25),\n",
    "#           legend.title=element_text(size=17),\n",
    "#           legend.text=element_text(size=12),\n",
    "#           panel.grid.major = element_blank())\n"
   ]
  },
  {
   "cell_type": "code",
   "execution_count": null,
   "metadata": {
    "collapsed": true,
    "scrolled": false
   },
   "outputs": [],
   "source": [
    "# %%R -i statsDF_inboth_coverageFiltered -i aptamer -w 2400 -h 700 -u px\n",
    "\n",
    "\n",
    "# # Order members by metric you are graphing, and ensure ggplot2 doesn't reorder them once sorted\n",
    "# statsDF_inboth_coverageFiltered = statsDF_inboth_coverageFiltered[order(statsDF_inboth_coverageFiltered$DELTA_MEDIAN, decreasing=FALSE),]\n",
    "# statsDF_inboth_coverageFiltered$RNAME = factor(statsDF_inboth_coverageFiltered$RNAME, levels = statsDF_inboth_coverageFiltered$RNAME)\n",
    "\n",
    "# #Subsample top 100 members\n",
    "# statsDF_inboth_coverageFiltered = statsDF_inboth_coverageFiltered[1:100,]\n",
    "\n",
    "# print(max(statsDF_inboth_coverageFiltered$DELTA_MEDIAN))\n",
    "# print(min(statsDF_inboth_coverageFiltered$DELTA_MEDIAN))\n",
    "\n",
    "# # Plot\n",
    "# ggplot(statsDF_inboth_coverageFiltered, aes(x=RNAME, y=FOLD_MEDIAN, fill=P_MINUS_AU_ABUNDANCE_MEDIAN, color=LIBRARY_MEMBER_UMI_COVERAGE_BOOLEAN)) + \n",
    "#     scale_color_manual(name='Sample Prep\\nCoverage',label=c('≥ median','< median'),values=c('orange','lightblue')) +\n",
    "#     geom_text(aes(label=LIBRARY_MEMBER_UMI_COVERAGE), vjust=1, size=3) + \n",
    "#     geom_bar(stat='identity') +\n",
    "#     scale_fill_gradient2(name='P- Abundance \\n[AU] wrt median\\n', low=\"red\", high=\"blue\", midpoint=1) +\n",
    "#     labs(title=\"αB wrt median for best performing on-switches\", subtitle=paste('Frequency extrapolated without UMIs\\n','Ordered by ΔB. Then, while retaining ΔB order, graph αB on a separate plot. Hence, each two plots should be taken together.\\n','Fat',aptamer,sep=''),x=\"\\nLibrary Member\", y=\"\\n\\nαB wrt median\\n\") +    \n",
    "#     scale_y_continuous(breaks = seq(-8,8, by = 2),limits = c(-8,0)) +\n",
    "#     theme(axis.text=element_text(size=15),\n",
    "#           axis.title=element_text(size=18,face=\"bold\"),\n",
    "#           axis.text.x = element_text(angle = 45, hjust = 1,size=10),\n",
    "#           plot.title=element_text(size=27,face=\"bold\"),\n",
    "#           plot.subtitle=element_text(size=25),\n",
    "#           legend.title=element_text(size=17),\n",
    "#           legend.text=element_text(size=12),\n",
    "#           panel.grid.major = element_blank())\n"
   ]
  }
 ],
 "metadata": {
  "kernelspec": {
   "display_name": "Python 3",
   "language": "python",
   "name": "python3"
  },
  "language_info": {
   "codemirror_mode": {
    "name": "ipython",
    "version": 3
   },
   "file_extension": ".py",
   "mimetype": "text/x-python",
   "name": "python",
   "nbconvert_exporter": "python",
   "pygments_lexer": "ipython3",
   "version": "3.6.0"
  }
 },
 "nbformat": 4,
 "nbformat_minor": 2
}
